{
 "cells": [
  {
   "cell_type": "markdown",
   "id": "6e0de5fe-8066-42b8-9f33-996bec937969",
   "metadata": {},
   "source": [
    "# The Evolution of Homophily\n",
    "* _Scribed by Zijie Chen_"
   ]
  },
  {
   "cell_type": "markdown",
   "id": "734d7060-d36f-4500-b1a8-a67225037799",
   "metadata": {},
   "source": [
    "## Initialization"
   ]
  },
  {
   "cell_type": "markdown",
   "id": "800e7fd9-47f9-4546-a8fb-5f776f8da4a4",
   "metadata": {},
   "source": [
    "### Module"
   ]
  },
  {
   "cell_type": "code",
   "execution_count": 4,
   "id": "824b1f03-9624-4d98-9e3d-50867b3c9864",
   "metadata": {},
   "outputs": [],
   "source": [
    "from sympy import *\n",
    "from sympy.abc import i, j, k, l, r, N, n, m \n",
    "import math"
   ]
  },
  {
   "cell_type": "markdown",
   "id": "7a658a32-5e22-4eb0-a108-1d425b4af298",
   "metadata": {},
   "source": [
    "### Symbols"
   ]
  },
  {
   "cell_type": "code",
   "execution_count": 6,
   "id": "67f28993-bcb0-44a0-95c8-56253ea4b25f",
   "metadata": {},
   "outputs": [],
   "source": [
    "# mu = N*u ➡ mutation rate of preference\n",
    "# nu = N*v ➡ mutation rate of phenotype\n",
    "mu, nu = symbols('mu, nu', real = True, positive = True)"
   ]
  },
  {
   "cell_type": "code",
   "execution_count": 7,
   "id": "7b64c7f2-0ad3-4e30-ae16-0db6b7de356a",
   "metadata": {},
   "outputs": [],
   "source": [
    "# coalesent time\n",
    "tau_2, tau_3 = symbols('tau_2, tau_3', real = True, positive = True)"
   ]
  },
  {
   "cell_type": "code",
   "execution_count": 8,
   "id": "301e414a-7672-4409-9611-1b00cef066cd",
   "metadata": {},
   "outputs": [],
   "source": [
    "# N ➡ population size\n",
    "# n ➡ the number of preference\n",
    "# M ➡ the number of phenotype\n",
    "N, n, M = symbols('N, n, M', real = True, positive = True)"
   ]
  },
  {
   "cell_type": "code",
   "execution_count": 9,
   "id": "dfbf482c-6849-43b1-88c7-f3833d6d6613",
   "metadata": {},
   "outputs": [],
   "source": [
    "# continuous preference\n",
    "p, q = symbols('p, q',real = True, positive = True)"
   ]
  },
  {
   "cell_type": "code",
   "execution_count": 10,
   "id": "ed9e9e64-5c17-44f7-b39c-e259f7b18288",
   "metadata": {},
   "outputs": [],
   "source": [
    "# payoff\n",
    "a, b = symbols('a, b',real = True, positive = True)"
   ]
  },
  {
   "cell_type": "markdown",
   "id": "184094e2-3131-4099-a2f8-a5721a9feb29",
   "metadata": {},
   "source": [
    "## Prefix Calculation"
   ]
  },
  {
   "cell_type": "markdown",
   "id": "6a1aae2a-52c5-4cba-8b4a-308d39dcd047",
   "metadata": {},
   "source": [
    "### Calculate the payoff and fitness of preference $p_k$\n",
    "\n",
    "* $G_i = G_j \\quad \\Longleftrightarrow \\quad \\delta_{ij} = 1$\n",
    "* $G_i \\ne G_j \\quad \\Longleftrightarrow \\quad \\delta_{ij} = 0$\n",
    "\n",
    "The payoff matrix is $A = [\\pi_{ij}]_{n \\times n}$\n",
    "\\begin{align}\n",
    "    \\pi_{ij} = \\delta_{ij} \\cdot (\\, ap_ip_j \\,) + (1-\\delta_{ij}) \\cdot [\\, b(1-p_i)(1-p_j) \\,]\n",
    "\\end{align}\n",
    "\n",
    "The matrix $Q = [q_{ij}]_{n \\times n}$ , where $q_{ij}$ is the total number of meetings between individuals with preferences $i$ and $j$ per unit of time\n",
    "\\begin{align}\n",
    "    q_{ij} = \\delta_{ij} \\cdot \\left( N^2 \\sum_{l=1}^M x_i^l x_j^l \\right) + (1-\\delta_{ij}) \\cdot \\left( N^2 \\sum_{l=1}^M \\sum_{r=1,r \\ne l}^M x_i^l x_j^r \\right)\n",
    "\\end{align}\n",
    "\n",
    "___\n",
    "#### Payoff\n",
    "\\begin{align}\n",
    "    P_k &= \\sum_j \\dfrac{\\pi_{kj} q_{kj}}{x_k N}\n",
    "\\end{align}\n",
    "\n",
    "#### Fitness\n",
    "\\begin{align}\n",
    "    f_k &= e^{\\beta P_k}\n",
    "\\end{align}"
   ]
  },
  {
   "cell_type": "markdown",
   "id": "31861c84-e00e-4394-b8dd-22b79770aebf",
   "metadata": {},
   "source": [
    "### The condition of preference $p_k$ favored by natural selection\n",
    "\n",
    "The average change of $x_k$ due to selection\n",
    "\\begin{align}\n",
    "    \\Delta x_k^{\\rm{sel}} &= x_k \\left( \\dfrac{f_k}{\\sum_j N x_j f_j}+1-\\dfrac{1}{N} \\right) - x_k \\\\\n",
    "     \\\\\n",
    "    &= \\dfrac{\\beta}{N} x_k \\left( \\sum_j \\dfrac{\\pi_{kj} q_{kj}}{x_k N} - \\sum_i \\sum_j \\dfrac{x_i \\pi_{ij} q_{ij}}{x_i N} \\right) \\bcancel{+ \\mathcal{O}(\\beta)}\n",
    "\\end{align}\n",
    "\n",
    "Averaging the above change over all possible population states\n",
    "\\begin{align}\n",
    "    \\langle \\Delta x_k^{\\rm{sel}} \\rangle = \\dfrac{\\beta}{N^2} \\left( \\sum_j \\langle \\pi_{kj} q_{kj} \\rangle - \\sum_i \\sum_j \\langle x_k \\pi_{ij} q_{ij} \\rangle \\right)\n",
    "\\end{align}\n",
    "\n",
    "The total expected change in the mutation-selection equilibrium\n",
    "\\begin{align}\n",
    "    \\langle \\Delta x_k^{\\rm{tot}} \\rangle = (1-u)\\langle \\Delta x_k^{\\rm{sel}} \\rangle + \\dfrac{u}{N} \\langle \\dfrac{1}{n} - x_k \\rangle\n",
    "\\end{align}\n",
    "\n",
    "The stationary frequency\n",
    "\\begin{align}\n",
    "    \\langle \\Delta x_k^{\\rm{tot}} \\rangle = 0 \\quad \\Longrightarrow \\quad \\langle x_k \\rangle = \\dfrac{1}{n} + \\dfrac{\\beta (1-u)}{Nu} \\left( \\sum_j \\langle \\pi_{kj} q_{kj} \\rangle - \\sum_i \\sum_j \\langle x_k \\pi_{ij} q_{ij} \\rangle \\right)\n",
    "\\end{align}\n",
    "\n",
    "Natural selection favors a preference $p_k$ if\n",
    "> \\begin{align}\n",
    "    \\langle x_k \\rangle > \\dfrac{1}{n} \\quad \\Longleftrightarrow \\quad \\sum_j \\langle \\pi_{kj} q_{kj} \\rangle - \\sum_i \\sum_j \\langle x_k \\pi_{ij} q_{ij} \\rangle > 0\n",
    "\\end{align}"
   ]
  },
  {
   "cell_type": "markdown",
   "id": "5d2d73a3-78be-4097-bfad-7d6aee49c3b4",
   "metadata": {},
   "source": [
    "### Further Calculation\n",
    "\n",
    "\\begin{align}\n",
    "    & \\sum_j \\langle \\pi_{kj} q_{kj} \\rangle - \\sum_i \\sum_j \\langle x_k \\pi_{ij} q_{ij} \\rangle \\\\\n",
    "     \\\\\n",
    "    =& \\; \\lambda_1(\\pi_{kk} - \\overline{\\pi_{\\ast \\ast}}) + \\lambda_2(\\overline{\\pi_{k \\ast}} - \\overline{\\pi_{\\ast k}}) + \\lambda_3(\\overline{\\pi_{k \\ast}} - \\overline{\\pi}) \\\\\n",
    "     \\\\\n",
    "    =& \\; \\left[ \\lambda_1^S (\\pi_{kk}^S - \\overline{\\pi_{\\ast \\ast}^S}) + \\lambda_2^S (\\overline{\\pi_{k \\ast}^S} - \\overline{\\pi_{\\ast k}^S}) + \\lambda_3^S (\\overline{\\pi_{k \\ast}^S} - \\overline{\\pi^S}) \\right] + \\left[ \\lambda_1^D (\\pi_{kk}^D - \\overline{\\pi_{\\ast \\ast}^D}) + \\lambda_2^D (\\overline{\\pi_{k \\ast}^D} - \\overline{\\pi_{\\ast k}^D}) + \\lambda_3^D (\\overline{\\pi_{k \\ast}^D} - \\overline{\\pi^D}) \\right]\n",
    "\\end{align}\n",
    "\n",
    "Here\n",
    "\\begin{align}\n",
    "    \\overline{\\pi_{k \\ast}} = \\dfrac{\\sum_j \\pi_{kj}}{n} \\qquad \\overline{\\pi_{\\ast k}} = \\dfrac{\\sum_j \\pi_{jk}}{n} \\qquad \\overline{\\pi_{\\ast \\ast}} = \\dfrac{\\sum_j \\pi_{jj}}{n} \\qquad \\overline{\\pi} = \\dfrac{\\sum_i \\sum_j \\pi_{ij}}{n^2}\n",
    "\\end{align}\n",
    "\n",
    "and\n",
    "\\begin{align}\n",
    "    \\lambda_1 &= n \\left( \\langle x_k q_{ii} \\rangle - \\langle x_k q_{ij} \\rangle \\right) \\\\\n",
    "     \\\\\n",
    "    \\lambda_2 &= n \\left( \\langle x_k q_{jk} \\rangle - \\langle x_k q_{ij} \\rangle \\right) \\\\\n",
    "     \\\\\n",
    "    \\lambda_3 &= n^2 \\langle x_k q_{ij} \\rangle\n",
    "\\end{align}\n",
    "\n",
    "we write\n",
    "\\begin{align}\n",
    "    &\\sum_{l=1}^M x_i^l x_j^l \\quad \\longrightarrow \\quad x_i^l x_j^l \\\\\n",
    "     \\\\\n",
    "    &\\sum_{l=1}^M \\sum_{r=1,r \\ne l}^M x_i^l x_j^r \\quad \\longrightarrow \\quad x_i^l x_j^r\n",
    "\\end{align}\n",
    "\n",
    "then\n",
    "> \\begin{align}\n",
    "    &\\lambda_1^S = nN^2 \\left( \\langle x_k x_i^l x_i^l \\rangle - \\langle x_k x_i^l x_j^l \\rangle \\right) \\qquad \\; \\lambda_2^S = nN^2 \\left( \\langle x_k x_k^l x_j^l \\rangle - \\langle x_k x_i^l x_j^l \\rangle \\right) \\qquad \\, \\lambda_3^S = n^2N^2 \\langle x_k x_i^l x_j^l \\rangle \\\\\n",
    "     \\\\\n",
    "    &\\lambda_1^D = nN^2 \\left( \\langle x_k x_i^l x_i^r \\rangle - \\langle x_k x_i^l x_j^r \\rangle \\right) \\qquad \\lambda_2^D = nN^2 \\left( \\langle x_k x_k^l x_j^r \\rangle - \\langle x_k x_i^l x_j^r \\rangle \\right) \\qquad \\lambda_3^D = n^2N^2 \\langle x_k x_i^l x_j^r \\rangle\n",
    "\\end{align}"
   ]
  },
  {
   "cell_type": "markdown",
   "id": "06628bfa-6d8d-4fdf-9665-d200c1dca531",
   "metadata": {
    "jp-MarkdownHeadingCollapsed": true
   },
   "source": [
    "### Convert discrete to continuous\n",
    "Make $n \\rightarrow \\infty$, then\n",
    "\\begin{align}\n",
    "    \\pi_{ij} = \\delta_{ij} \\cdot (\\, ap_ip_j \\,) + (1-\\delta_{ij}) \\cdot [\\, b(1-p_i)(1-p_j) \\,] \\quad &\\longrightarrow \\quad \\delta_{ij} \\cdot (\\, apq \\,) + (1-\\delta_{ij}) \\cdot [\\, b(1-p)(1-q) \\,] = \\delta_{ij} \\cdot A^S(p,q) + (1-\\delta_{ij}) \\cdot A^D(p,q) \\\\\n",
    "     \\\\\n",
    "    \\sum_j \\langle \\pi_{kj} q_{kj} \\rangle - \\sum_i \\sum_j \\langle x_k \\pi_{ij} q_{ij} \\rangle \\quad &\\longrightarrow \\quad \\mathcal{D}(p)\n",
    "\\end{align}\n",
    "____\n",
    "\n",
    "\\begin{align}\n",
    "    \\mathcal{D}(p) =& \\left[ \\lambda_1^S \\left(A^S(p,p) - \\int_{0}^{1} A^S(q,q)\\,dq \\right) + \\lambda_2^S \\left(\\int_{0}^{1} A^S(p,q)\\,dq - \\int_{0}^{1} A^S(q,p)\\,dq \\right) + \\lambda_3^S \\left(\\int_{0}^{1} A^S(p,q)\\,dq - \\int_{0}^{1} \\int_{0}^{1} A^S(p,q)\\,dpdq \\right) \\right] \\\\\n",
    "     \\\\\n",
    "    &+ \\left[ \\lambda_1^D \\left(A^D(p,p) - \\int_{0}^{1} A^D(q,q)\\,dq \\right) + \\lambda_2^D \\left(\\int_{0}^{1} A^D(p,q)\\,dq - \\int_{0}^{1} A^D(q,p)\\,dq \\right) + \\lambda_3^D \\left(\\int_{0}^{1} A^D(p,q)\\,dq - \\int_{0}^{1} \\int_{0}^{1} A^D(p,q)\\,dpdq \\right) \\right] \\\\\n",
    "     \\\\\n",
    "    =& \\dfrac{a(3p^2-1)}{3} \\lambda_1^S + \\dfrac{a(2p-1)}{4} \\lambda_3^S + \\dfrac{b(3p^2-6p+2)}{3} \\lambda_1^D - \\dfrac{b(2p-1)}{4} \\lambda_3^D\n",
    "\\end{align}\n",
    "\n",
    "$\\mathcal{D}(p)$ is a quadratic function of $p$, denoted as\n",
    "\\begin{align}\n",
    "    \\mathcal{D}(p) = C_2(a,b,M,\\mu,\\nu)p^2 + C_1(a,b,M,\\mu,\\nu)p + C_0(a,b,M,\\mu,\\nu)\n",
    "\\end{align}\n",
    "\n",
    "Sorted,\n",
    "> \\begin{align}\n",
    "    C_2(a,b,M,\\mu,\\nu) &= a \\lambda_1^S + b \\lambda_1^D\\\\\n",
    "     \\\\\n",
    "    C_1(a,b,M,\\mu,\\nu) &= \\dfrac{1}{2} a \\lambda_3^D - b (2\\lambda_1^D + \\dfrac{1}{2} \\lambda_3^D)\\\\\n",
    "     \\\\\n",
    "    C_0(a,b,M,\\mu,\\nu) &= -a (\\dfrac{1}{3} \\lambda_1^S + \\dfrac{1}{4} \\lambda_3^S) + b (\\dfrac{2}{3} \\lambda_1^D + \\dfrac{1}{4} \\lambda_3^D)\n",
    "\\end{align}"
   ]
  },
  {
   "cell_type": "markdown",
   "id": "bcc17b94-068c-4db7-ad32-6797166991a5",
   "metadata": {
    "jp-MarkdownHeadingCollapsed": true
   },
   "source": [
    "#### $A^S(\\ast, \\ast)$"
   ]
  },
  {
   "cell_type": "markdown",
   "id": "c97c8612-6f6e-4cba-a846-080d76c49856",
   "metadata": {},
   "source": [
    "##### \\begin{align}\n",
    "    A^S(p,p) - \\int_{0}^{1} A^S(q,q)\\,dq = \\dfrac{a(3p^2-1)}{3}\n",
    "\\end{align}"
   ]
  },
  {
   "cell_type": "code",
   "execution_count": 18,
   "id": "808d9b4b-8ec8-4735-90b2-605a05d8d9c5",
   "metadata": {},
   "outputs": [
    {
     "data": {
      "text/latex": [
       "$\\displaystyle \\frac{a \\left(3 p^{2} - 1\\right)}{3}$"
      ],
      "text/plain": [
       "a*(3*p**2 - 1)/3"
      ]
     },
     "execution_count": 18,
     "metadata": {},
     "output_type": "execute_result"
    }
   ],
   "source": [
    "factor(a*p*p - integrate(a*q*q, (q, 0, 1)))"
   ]
  },
  {
   "cell_type": "markdown",
   "id": "f7732c35-722a-4303-bef4-ceea232e7495",
   "metadata": {},
   "source": [
    "##### \\begin{align}\n",
    "    \\int_{0}^{1} A^S(p,q)\\,dq - \\int_{0}^{1} A^S(q,p)\\,dq = 0\n",
    "\\end{align}"
   ]
  },
  {
   "cell_type": "markdown",
   "id": "037b856b-4511-4979-8bfa-2d6898fa17aa",
   "metadata": {},
   "source": [
    "##### \\begin{align}\n",
    "    \\int_{0}^{1} A^S(p,q)\\,dq - \\int_{0}^{1} \\int_{0}^{1} A^S(p,q)\\,dpdq = \\dfrac{a(2p-1)}{4}\n",
    "\\end{align}"
   ]
  },
  {
   "cell_type": "code",
   "execution_count": 21,
   "id": "c5143fd4-e1ca-4d56-82a7-9b4072ebfd9a",
   "metadata": {},
   "outputs": [
    {
     "data": {
      "text/latex": [
       "$\\displaystyle \\frac{a \\left(2 p - 1\\right)}{4}$"
      ],
      "text/plain": [
       "a*(2*p - 1)/4"
      ]
     },
     "execution_count": 21,
     "metadata": {},
     "output_type": "execute_result"
    }
   ],
   "source": [
    "factor(integrate(a*p*q, (q, 0, 1)) - integrate(a*p*q, (p, 0, 1), (q, 0, 1)))"
   ]
  },
  {
   "cell_type": "markdown",
   "id": "bd8dfa66-8b73-4374-b777-401a69974f4b",
   "metadata": {
    "jp-MarkdownHeadingCollapsed": true
   },
   "source": [
    "#### $A^D(\\ast,\\ast)$"
   ]
  },
  {
   "cell_type": "markdown",
   "id": "1e9501e3-dd35-488c-a2a0-0fc2d820d4d7",
   "metadata": {},
   "source": [
    "##### \\begin{align}\n",
    "    A^D(p,p) - \\int_{0}^{1} A^D(q,q)\\,dq = \\dfrac{b(3p^2-6p+2)}{3}\n",
    "\\end{align}"
   ]
  },
  {
   "cell_type": "code",
   "execution_count": 24,
   "id": "e4c060e4-77bf-47ad-abb9-e8aa333a2d3e",
   "metadata": {},
   "outputs": [
    {
     "data": {
      "text/latex": [
       "$\\displaystyle \\frac{b \\left(3 p^{2} - 6 p + 2\\right)}{3}$"
      ],
      "text/plain": [
       "b*(3*p**2 - 6*p + 2)/3"
      ]
     },
     "execution_count": 24,
     "metadata": {},
     "output_type": "execute_result"
    }
   ],
   "source": [
    "factor(b*(1-p)*(1-p) - integrate(b*(1-q)*(1-q), (q, 0, 1)))"
   ]
  },
  {
   "cell_type": "markdown",
   "id": "a43d1784-9a10-4a57-bfa5-0ae898d95aa5",
   "metadata": {},
   "source": [
    "##### \\begin{align}\n",
    "    \\int_{0}^{1} A^D(p,q)\\,dq - \\int_{0}^{1} A^D(q,p)\\,dq = 0\n",
    "\\end{align}"
   ]
  },
  {
   "cell_type": "markdown",
   "id": "02732322-1fde-4b75-9be5-1741487a7a2d",
   "metadata": {},
   "source": [
    "##### \\begin{align}\n",
    "    \\int_{0}^{1} A^D(p,q)\\,dq - \\int_{0}^{1} \\int_{0}^{1} A^D(p,q)\\,dpdq = -\\dfrac{b(2p-1)}{4}\n",
    "\\end{align}"
   ]
  },
  {
   "cell_type": "code",
   "execution_count": 27,
   "id": "35939c85-44f5-4ef7-92ff-cb0acc429712",
   "metadata": {},
   "outputs": [
    {
     "data": {
      "text/latex": [
       "$\\displaystyle - \\frac{b \\left(2 p - 1\\right)}{4}$"
      ],
      "text/plain": [
       "-b*(2*p - 1)/4"
      ]
     },
     "execution_count": 27,
     "metadata": {},
     "output_type": "execute_result"
    }
   ],
   "source": [
    "factor(integrate(b*(1-p)*(1-q), (q, 0, 1)) - integrate(b*(1-p)*(1-q), (p, 0, 1), (q, 0, 1)))"
   ]
  },
  {
   "cell_type": "markdown",
   "id": "52a26c36-9c7c-4131-8dd1-5259a34b3fc0",
   "metadata": {},
   "source": [
    "## Symbolic Calculation"
   ]
  },
  {
   "cell_type": "markdown",
   "id": "6dc88cec-1274-4ad6-8104-4462ac72d41d",
   "metadata": {},
   "source": [
    "### Functions"
   ]
  },
  {
   "cell_type": "markdown",
   "id": "0ea67700-2d9f-4788-8b3a-5f265442bcb4",
   "metadata": {
    "jp-MarkdownHeadingCollapsed": true
   },
   "source": [
    "#### The probability density of coalesent time $\\tau_2$\n",
    "> \\begin{equation}\n",
    "    T_2(\\tau_2) = e^{-\\tau_2}\n",
    "\\end{equation}"
   ]
  },
  {
   "cell_type": "code",
   "execution_count": 31,
   "id": "24ba533b-930f-4bd9-97a4-044d1491e632",
   "metadata": {},
   "outputs": [],
   "source": [
    "def T_2(tau):\n",
    "    return exp(-tau)\n",
    "AA = T_2(tau_2)"
   ]
  },
  {
   "cell_type": "code",
   "execution_count": 32,
   "id": "8db7eb94-877e-49f2-bfff-90037117e401",
   "metadata": {},
   "outputs": [
    {
     "data": {
      "text/latex": [
       "$\\displaystyle e^{- \\tau_{2}}$"
      ],
      "text/plain": [
       "exp(-tau_2)"
      ]
     },
     "execution_count": 32,
     "metadata": {},
     "output_type": "execute_result"
    }
   ],
   "source": [
    "AA"
   ]
  },
  {
   "cell_type": "markdown",
   "id": "aeb504e6-cc94-45dd-aa77-660ab6c3f172",
   "metadata": {
    "jp-MarkdownHeadingCollapsed": true
   },
   "source": [
    "#### The probability that two people have the same preference since their coalescent time $\\tau_2$ , $\\tau_3$ and $\\tau_2+\\tau_3$\n",
    "> \\begin{align}\n",
    "    s_2(\\tau_2) &= e^{-\\mu \\tau_2} + \\dfrac{1 - e^{-\\mu \\tau_2}}{n} \\\\\n",
    "     \\\\\n",
    "    s_2(\\tau_3) &= e^{-\\mu \\tau_3} + \\dfrac{1 - e^{-\\mu \\tau_3}}{n} \\\\\n",
    "     \\\\\n",
    "    s_2(\\tau_2+\\tau_3) &= e^{-\\mu (\\tau_2+\\tau_3)} + \\dfrac{1 - e^{-\\mu (\\tau_2+\\tau_3)}}{n}\n",
    "\\end{align}"
   ]
  },
  {
   "cell_type": "code",
   "execution_count": 34,
   "id": "b1c0f6e6-f3a1-4ce7-bcc9-def275e9e39b",
   "metadata": {},
   "outputs": [],
   "source": [
    "def s_2(tau):\n",
    "    return exp(-mu*tau) + (1 - exp(-mu*tau))/n\n",
    "BB = s_2(tau_2)\n",
    "CC = s_2(tau_3)\n",
    "DD = s_2(tau_2+tau_3)"
   ]
  },
  {
   "cell_type": "code",
   "execution_count": 35,
   "id": "95acc2b6-1168-4a25-994d-5a3f7815e0ee",
   "metadata": {},
   "outputs": [
    {
     "data": {
      "text/latex": [
       "$\\displaystyle e^{- \\mu \\tau_{2}} + \\frac{1 - e^{- \\mu \\tau_{2}}}{n}$"
      ],
      "text/plain": [
       "exp(-mu*tau_2) + (1 - exp(-mu*tau_2))/n"
      ]
     },
     "execution_count": 35,
     "metadata": {},
     "output_type": "execute_result"
    }
   ],
   "source": [
    "BB"
   ]
  },
  {
   "cell_type": "code",
   "execution_count": 36,
   "id": "4da85f05-a3af-4e72-9a77-8957f5d3c176",
   "metadata": {},
   "outputs": [
    {
     "data": {
      "text/latex": [
       "$\\displaystyle e^{- \\mu \\tau_{3}} + \\frac{1 - e^{- \\mu \\tau_{3}}}{n}$"
      ],
      "text/plain": [
       "exp(-mu*tau_3) + (1 - exp(-mu*tau_3))/n"
      ]
     },
     "execution_count": 36,
     "metadata": {},
     "output_type": "execute_result"
    }
   ],
   "source": [
    "CC"
   ]
  },
  {
   "cell_type": "code",
   "execution_count": 37,
   "id": "89349f68-97e6-4a40-ad4b-e17eab9bae0d",
   "metadata": {},
   "outputs": [
    {
     "data": {
      "text/latex": [
       "$\\displaystyle e^{- \\mu \\left(\\tau_{2} + \\tau_{3}\\right)} + \\frac{1 - e^{- \\mu \\left(\\tau_{2} + \\tau_{3}\\right)}}{n}$"
      ],
      "text/plain": [
       "exp(-mu*(tau_2 + tau_3)) + (1 - exp(-mu*(tau_2 + tau_3)))/n"
      ]
     },
     "execution_count": 37,
     "metadata": {},
     "output_type": "execute_result"
    }
   ],
   "source": [
    "DD"
   ]
  },
  {
   "cell_type": "markdown",
   "id": "15ee4d30-2e15-42bd-b4c0-58e8dfdbf6e0",
   "metadata": {
    "jp-MarkdownHeadingCollapsed": true
   },
   "source": [
    "#### The probability that two people have the same phenotype since their coalescent time $\\tau_2$ , $\\tau_3$ and $\\tau_2+\\tau_3$\n",
    "> \\begin{align}\n",
    "    g_2(\\tau_2) &= e^{-\\nu \\tau_2} + \\dfrac{1 - e^{-\\nu \\tau_2}}{M} \\\\\n",
    "     \\\\\n",
    "    g_2(\\tau_3) &= e^{-\\nu \\tau_3} + \\dfrac{1 - e^{-\\nu \\tau_3}}{M} \\\\\n",
    "     \\\\\n",
    "    g_2(\\tau_2+\\tau_3) &= e^{-\\nu (\\tau_2+\\tau_3)} + \\dfrac{1 - e^{-\\nu (\\tau_2+\\tau_3)}}{M}\n",
    "\\end{align}"
   ]
  },
  {
   "cell_type": "code",
   "execution_count": 39,
   "id": "732692df-a29c-4acc-90cf-289a7e65365a",
   "metadata": {},
   "outputs": [],
   "source": [
    "def g_2(tau):\n",
    "    return exp(-nu*tau) + (1 - exp(-nu*tau))/M\n",
    "EE = g_2(tau_2)\n",
    "FF = g_2(tau_3)\n",
    "GG = g_2(tau_2+tau_3)"
   ]
  },
  {
   "cell_type": "code",
   "execution_count": 40,
   "id": "d3521b3d-d72a-4105-94b3-6aa60fb7e3df",
   "metadata": {},
   "outputs": [
    {
     "data": {
      "text/latex": [
       "$\\displaystyle e^{- \\nu \\tau_{2}} + \\frac{1 - e^{- \\nu \\tau_{2}}}{M}$"
      ],
      "text/plain": [
       "exp(-nu*tau_2) + (1 - exp(-nu*tau_2))/M"
      ]
     },
     "execution_count": 40,
     "metadata": {},
     "output_type": "execute_result"
    }
   ],
   "source": [
    "EE"
   ]
  },
  {
   "cell_type": "code",
   "execution_count": 41,
   "id": "c770ed76-6373-48c9-9b13-c54f37955dab",
   "metadata": {},
   "outputs": [
    {
     "data": {
      "text/latex": [
       "$\\displaystyle e^{- \\nu \\tau_{3}} + \\frac{1 - e^{- \\nu \\tau_{3}}}{M}$"
      ],
      "text/plain": [
       "exp(-nu*tau_3) + (1 - exp(-nu*tau_3))/M"
      ]
     },
     "execution_count": 41,
     "metadata": {},
     "output_type": "execute_result"
    }
   ],
   "source": [
    "FF"
   ]
  },
  {
   "cell_type": "code",
   "execution_count": 42,
   "id": "691acbfc-5773-4c71-8bce-88b855ab0da4",
   "metadata": {},
   "outputs": [
    {
     "data": {
      "text/latex": [
       "$\\displaystyle e^{- \\nu \\left(\\tau_{2} + \\tau_{3}\\right)} + \\frac{1 - e^{- \\nu \\left(\\tau_{2} + \\tau_{3}\\right)}}{M}$"
      ],
      "text/plain": [
       "exp(-nu*(tau_2 + tau_3)) + (1 - exp(-nu*(tau_2 + tau_3)))/M"
      ]
     },
     "execution_count": 42,
     "metadata": {},
     "output_type": "execute_result"
    }
   ],
   "source": [
    "GG"
   ]
  },
  {
   "cell_type": "markdown",
   "id": "693074c9-a8b6-43b7-83f9-90892041dc2e",
   "metadata": {
    "jp-MarkdownHeadingCollapsed": true
   },
   "source": [
    "#### The probability density of two steps coalesent time $\\tau_2+\\tau_3$\n",
    "> \\begin{align}\n",
    "    T_3(\\tau_2, \\tau_3) = 3e^{-3\\tau_3}e^{-\\tau_2}\n",
    "\\end{align}"
   ]
  },
  {
   "cell_type": "code",
   "execution_count": 44,
   "id": "6eca1239-4bff-4c4d-afa7-285e4990672d",
   "metadata": {},
   "outputs": [],
   "source": [
    "def T_3(tau_2, tau_3):\n",
    "    return 3*exp(-3*tau_3)*exp(-tau_2)\n",
    "HH = T_3(tau_2, tau_3)"
   ]
  },
  {
   "cell_type": "code",
   "execution_count": 45,
   "id": "fc327f1f-82f4-4c88-9682-a3f56d0ab309",
   "metadata": {},
   "outputs": [
    {
     "data": {
      "text/latex": [
       "$\\displaystyle 3 e^{- \\tau_{2}} e^{- 3 \\tau_{3}}$"
      ],
      "text/plain": [
       "3*exp(-tau_2)*exp(-3*tau_3)"
      ]
     },
     "execution_count": 45,
     "metadata": {},
     "output_type": "execute_result"
    }
   ],
   "source": [
    "HH"
   ]
  },
  {
   "cell_type": "markdown",
   "id": "9fc31a77-1aa5-440e-943f-26a4f1e4777d",
   "metadata": {
    "jp-MarkdownHeadingCollapsed": true
   },
   "source": [
    "#### The probability that three people have the same phenotype since their coalescent time $\\tau_2 + \\tau_3$\n",
    "> \\begin{align}\n",
    "    s_3(\\tau_2,\\tau_3) = \\dfrac{1}{n^2} \\left[ s_2(\\tau_2)\\left( 1+3(n-1)e^{-\\mu \\tau_3}+(n-1)(n-2)e^{-\\frac{3}{2} \\mu \\tau_3} \\right)+(1-s_2(\\tau_2)) \\left( 1+(n-3)e^{-\\mu \\tau_3}-(n-2)e^{-\\frac{3}{2} \\mu \\tau_3} \\right) \\right]\n",
    "\\end{align}"
   ]
  },
  {
   "cell_type": "code",
   "execution_count": 47,
   "id": "cc1d4c1e-8909-439c-bb09-e68084e8cde4",
   "metadata": {},
   "outputs": [],
   "source": [
    "def s_3(tau_2, tau_3):\n",
    "    s_2_tau_2 = s_2(tau_2)\n",
    "    return (1/(n**2))*(s_2_tau_2*(1+3*(n-1)*exp(-mu*tau_3)+(n-1)*(n-2)*exp(-3/2 * mu*tau_3)) + (1-s_2_tau_2)*(1+(n-3)*exp(-mu*tau_3)-(n-2)*exp(-3/2 * mu*tau_3)))\n",
    "II = s_3(tau_2, tau_3)\n"
   ]
  },
  {
   "cell_type": "code",
   "execution_count": 48,
   "id": "b1b3d6f1-bc75-400f-a2fb-8768b81b2adb",
   "metadata": {},
   "outputs": [
    {
     "data": {
      "text/latex": [
       "$\\displaystyle \\frac{\\left(e^{- \\mu \\tau_{2}} + \\frac{1 - e^{- \\mu \\tau_{2}}}{n}\\right) \\left(\\left(n - 2\\right) \\left(n - 1\\right) e^{- 1.5 \\mu \\tau_{3}} + \\left(3 n - 3\\right) e^{- \\mu \\tau_{3}} + 1\\right) + \\left(1 - e^{- \\mu \\tau_{2}} - \\frac{1 - e^{- \\mu \\tau_{2}}}{n}\\right) \\left(\\left(n - 3\\right) e^{- \\mu \\tau_{3}} - \\left(n - 2\\right) e^{- 1.5 \\mu \\tau_{3}} + 1\\right)}{n^{2}}$"
      ],
      "text/plain": [
       "((exp(-mu*tau_2) + (1 - exp(-mu*tau_2))/n)*((n - 2)*(n - 1)*exp(-1.5*mu*tau_3) + (3*n - 3)*exp(-mu*tau_3) + 1) + (1 - exp(-mu*tau_2) - (1 - exp(-mu*tau_2))/n)*((n - 3)*exp(-mu*tau_3) - (n - 2)*exp(-1.5*mu*tau_3) + 1))/n**2"
      ]
     },
     "execution_count": 48,
     "metadata": {},
     "output_type": "execute_result"
    }
   ],
   "source": [
    "II"
   ]
  },
  {
   "cell_type": "markdown",
   "id": "f84d93b4-b98d-445f-8671-d4a43a8394e2",
   "metadata": {
    "jp-MarkdownHeadingCollapsed": true
   },
   "source": [
    "#### The probability that two people have different phenotypes since their coalescent time $\\tau_2$ , $\\tau_3$ and $\\tau_2+\\tau_3$\n",
    "> \\begin{align}\n",
    "    z_2(\\tau_2) &= \\dfrac{M-1}{M} (1-e^{-\\nu \\tau_2}) \\\\\n",
    "     \\\\\n",
    "    z_2(\\tau_3) &= \\dfrac{M-1}{M} (1-e^{-\\nu \\tau_3}) \\\\\n",
    "     \\\\\n",
    "    z_2(\\tau_2+\\tau_3) &= \\dfrac{M-1}{M} (1-e^{-\\nu (\\tau_2+\\tau_3)})\n",
    "\\end{align}"
   ]
  },
  {
   "cell_type": "code",
   "execution_count": 50,
   "id": "294b3b04-97b2-4440-8e97-07b9d5f9bcab",
   "metadata": {},
   "outputs": [],
   "source": [
    "def z_2(tau):\n",
    "    return ((M-1)/M)*(1-exp(-nu*tau))\n",
    "JJ = z_2(tau_2)\n",
    "KK = z_2(tau_3)\n",
    "LL = z_2(tau_2+tau_3)"
   ]
  },
  {
   "cell_type": "code",
   "execution_count": 51,
   "id": "759dea9a-6330-46a8-af6c-2dc63d505d94",
   "metadata": {},
   "outputs": [
    {
     "data": {
      "text/latex": [
       "$\\displaystyle \\frac{\\left(1 - e^{- \\nu \\tau_{2}}\\right) \\left(M - 1\\right)}{M}$"
      ],
      "text/plain": [
       "(1 - exp(-nu*tau_2))*(M - 1)/M"
      ]
     },
     "execution_count": 51,
     "metadata": {},
     "output_type": "execute_result"
    }
   ],
   "source": [
    "JJ"
   ]
  },
  {
   "cell_type": "code",
   "execution_count": 52,
   "id": "9754e754-7127-4ddf-a798-367e43d679ca",
   "metadata": {},
   "outputs": [
    {
     "data": {
      "text/latex": [
       "$\\displaystyle \\frac{\\left(1 - e^{- \\nu \\tau_{3}}\\right) \\left(M - 1\\right)}{M}$"
      ],
      "text/plain": [
       "(1 - exp(-nu*tau_3))*(M - 1)/M"
      ]
     },
     "execution_count": 52,
     "metadata": {},
     "output_type": "execute_result"
    }
   ],
   "source": [
    "KK"
   ]
  },
  {
   "cell_type": "code",
   "execution_count": 53,
   "id": "742497e8-ed7a-4487-a483-5437050cac12",
   "metadata": {},
   "outputs": [
    {
     "data": {
      "text/latex": [
       "$\\displaystyle \\frac{\\left(1 - e^{- \\nu \\left(\\tau_{2} + \\tau_{3}\\right)}\\right) \\left(M - 1\\right)}{M}$"
      ],
      "text/plain": [
       "(1 - exp(-nu*(tau_2 + tau_3)))*(M - 1)/M"
      ]
     },
     "execution_count": 53,
     "metadata": {},
     "output_type": "execute_result"
    }
   ],
   "source": [
    "LL"
   ]
  },
  {
   "cell_type": "markdown",
   "id": "02a2aec1-3566-46e1-b60d-d96185394be9",
   "metadata": {},
   "source": [
    "### Correlation"
   ]
  },
  {
   "cell_type": "markdown",
   "id": "40e60b05-fb87-4733-8779-dc2fb1366d54",
   "metadata": {
    "jp-MarkdownHeadingCollapsed": true
   },
   "source": [
    "#### The following pair/triplet correlations associated with $\\lambda_{\\ast}^S$\n",
    "\n",
    "* $\\langle x_k^l x_{\\ast}^l \\rangle \\qquad \\langle x_k^l x_k^l \\rangle \\qquad \\langle x_i^l x_j^l \\rangle \\qquad \\langle x_k x_k^l x_{\\ast}^l \\rangle \\qquad \\langle x_k x_k^l x_k^l \\rangle$\n",
    "\n",
    "* $\\langle x_k x_k^l x_j^l \\rangle \\qquad \\langle x_k x_i^l x_j^l \\rangle \\qquad \\langle x_k x_i^l x_i^l \\rangle$"
   ]
  },
  {
   "cell_type": "markdown",
   "id": "56386134-cdd3-4d85-916a-fc52b2324d6b",
   "metadata": {},
   "source": [
    "> \\begin{align}\n",
    "    \\langle x_k^l x_{\\ast}^l \\rangle &= \\dfrac{1}{n} \\int_{0}^{+\\infty} T_2(\\tau_2)g_2(\\tau_2) \\; d\\tau_2\n",
    "\\end{align}"
   ]
  },
  {
   "cell_type": "code",
   "execution_count": 57,
   "id": "ca2730ef-6c27-40c8-9d62-9285574983dd",
   "metadata": {},
   "outputs": [
    {
     "data": {
      "text/latex": [
       "$\\displaystyle \\frac{M + \\nu}{M n \\left(\\nu + 1\\right)}$"
      ],
      "text/plain": [
       "(M + nu)/(M*n*(nu + 1))"
      ]
     },
     "execution_count": 57,
     "metadata": {},
     "output_type": "execute_result"
    }
   ],
   "source": [
    "X_kl_X__l = integrate(AA*EE, (tau_2, 0, oo))/n\n",
    "X_kl_X__l = X_kl_X__l.nsimplify()\n",
    "X_kl_X__l = factor(X_kl_X__l)\n",
    "X_kl_X__l"
   ]
  },
  {
   "cell_type": "markdown",
   "id": "9af3d4a8-d434-470b-ae87-f2ab1c2acbe9",
   "metadata": {},
   "source": [
    "> \\begin{align}\n",
    "    \\langle x_k^l x_k^l \\rangle &= \\dfrac{1}{n} \\int_{0}^{+\\infty} T_2(\\tau_2)s_2(\\tau_2)g_2(\\tau_2) \\; d\\tau_2\n",
    "\\end{align}"
   ]
  },
  {
   "cell_type": "code",
   "execution_count": 59,
   "id": "be399f09-1f46-405e-8265-f913ef308844",
   "metadata": {},
   "outputs": [
    {
     "data": {
      "text/latex": [
       "$\\displaystyle \\frac{M \\mu^{2} + M \\mu n \\nu + M \\mu n + M \\mu + M n \\nu + M n + \\mu^{2} \\nu + \\mu \\nu^{2} + 2 \\mu \\nu + n \\nu^{2} + n \\nu}{M n^{2} \\left(\\mu + 1\\right) \\left(\\nu + 1\\right) \\left(\\mu + \\nu + 1\\right)}$"
      ],
      "text/plain": [
       "(M*mu**2 + M*mu*n*nu + M*mu*n + M*mu + M*n*nu + M*n + mu**2*nu + mu*nu**2 + 2*mu*nu + n*nu**2 + n*nu)/(M*n**2*(mu + 1)*(nu + 1)*(mu + nu + 1))"
      ]
     },
     "execution_count": 59,
     "metadata": {},
     "output_type": "execute_result"
    }
   ],
   "source": [
    "X_kl_X_kl = integrate(AA*BB*EE, (tau_2, 0, oo))/n\n",
    "X_kl_X_kl = X_kl_X_kl.nsimplify()\n",
    "X_kl_X_kl = factor(X_kl_X_kl)\n",
    "X_kl_X_kl"
   ]
  },
  {
   "cell_type": "markdown",
   "id": "93ca252d-3c15-49a8-a908-f45ca5783d1e",
   "metadata": {},
   "source": [
    "> \\begin{align}\n",
    "    \\langle x_i^l x_j^l \\rangle = \\dfrac{1}{n-1} \\left( \\langle x_i^l x_{\\ast}^l \\rangle - \\langle x_i^l x_i^l \\rangle \\right)\n",
    "\\end{align}"
   ]
  },
  {
   "cell_type": "code",
   "execution_count": 61,
   "id": "58a5ba32-277c-464a-80b9-86582d7597c1",
   "metadata": {},
   "outputs": [
    {
     "data": {
      "text/latex": [
       "$\\displaystyle \\frac{\\mu \\left(M \\mu + M + \\mu \\nu + \\nu^{2} + 2 \\nu\\right)}{M n^{2} \\left(\\mu + 1\\right) \\left(\\nu + 1\\right) \\left(\\mu + \\nu + 1\\right)}$"
      ],
      "text/plain": [
       "mu*(M*mu + M + mu*nu + nu**2 + 2*nu)/(M*n**2*(mu + 1)*(nu + 1)*(mu + nu + 1))"
      ]
     },
     "execution_count": 61,
     "metadata": {},
     "output_type": "execute_result"
    }
   ],
   "source": [
    "X_il_X_jl = (1/(n-1))*(X_kl_X__l - X_kl_X_kl)\n",
    "X_il_X_jl = X_il_X_jl.nsimplify()\n",
    "X_il_X_jl = factor(X_il_X_jl)\n",
    "X_il_X_jl"
   ]
  },
  {
   "cell_type": "markdown",
   "id": "02f4b943-eb13-4299-b6f6-4a9bc3b8c520",
   "metadata": {},
   "source": [
    "> \\begin{align}\n",
    "    \\langle x_k x_k^l x_{\\ast}^l \\rangle &= \\dfrac{1}{3n} \\int_{0}^{+\\infty}\\int_{0}^{+\\infty} T_3(\\tau_2,\\tau_3)\\left[ s_2(\\tau_3)g_2(\\tau_2+\\tau_3)+s_2(\\tau_2+\\tau_3)g_2(\\tau_3)+s_2(\\tau_2+\\tau_3)g_2(\\tau_2+\\tau_3) \\right] \\; d\\tau_2 d\\tau_3\n",
    "\\end{align}"
   ]
  },
  {
   "cell_type": "code",
   "execution_count": 63,
   "id": "66a4311b-a765-4580-be3b-17e236e1da34",
   "metadata": {},
   "outputs": [
    {
     "data": {
      "text/latex": [
       "$\\displaystyle \\frac{M \\mu^{3} + M \\mu^{2} n + 2 M \\mu^{2} \\nu + 4 M \\mu^{2} + 3 M \\mu n \\nu + 4 M \\mu n + M \\mu \\nu^{2} + 3 M \\mu \\nu + 3 M \\mu + M n \\nu^{2} + 4 M n \\nu + 3 M n + \\mu^{3} \\nu + \\mu^{2} n \\nu + 2 \\mu^{2} \\nu^{2} + 4 \\mu^{2} \\nu + 2 \\mu n \\nu^{2} + 3 \\mu n \\nu + \\mu \\nu^{3} + 4 \\mu \\nu^{2} + 4 \\mu \\nu + n \\nu^{3} + 4 n \\nu^{2} + 3 n \\nu}{M n^{2} \\left(\\mu + 1\\right) \\left(\\nu + 1\\right) \\left(\\mu + \\nu + 1\\right) \\left(\\mu + \\nu + 3\\right)}$"
      ],
      "text/plain": [
       "(M*mu**3 + M*mu**2*n + 2*M*mu**2*nu + 4*M*mu**2 + 3*M*mu*n*nu + 4*M*mu*n + M*mu*nu**2 + 3*M*mu*nu + 3*M*mu + M*n*nu**2 + 4*M*n*nu + 3*M*n + mu**3*nu + mu**2*n*nu + 2*mu**2*nu**2 + 4*mu**2*nu + 2*mu*n*nu**2 + 3*mu*n*nu + mu*nu**3 + 4*mu*nu**2 + 4*mu*nu + n*nu**3 + 4*n*nu**2 + 3*n*nu)/(M*n**2*(mu + 1)*(nu + 1)*(mu + nu + 1)*(mu + nu + 3))"
      ]
     },
     "execution_count": 63,
     "metadata": {},
     "output_type": "execute_result"
    }
   ],
   "source": [
    "X_k_X_kl_X__l = integrate(HH*(CC*GG+DD*FF+DD*GG), (tau_2, 0, oo), (tau_3, 0, oo))/(3*n)\n",
    "X_k_X_kl_X__l = X_k_X_kl_X__l.nsimplify()\n",
    "X_k_X_kl_X__l = factor(X_k_X_kl_X__l)\n",
    "X_k_X_kl_X__l"
   ]
  },
  {
   "cell_type": "markdown",
   "id": "8ba851b0-23d4-4506-b0bd-e4bacf4cc42c",
   "metadata": {},
   "source": [
    "> \\begin{align}\n",
    "    \\langle x_k x_k^l x_k^l \\rangle &= \\dfrac{1}{3n} \\int_{0}^{+\\infty}\\int_{0}^{+\\infty} T_3(\\tau_2,\\tau_3)s_3(\\tau_2,\\tau_3) \\left[ g_2(\\tau_3)+g_2(\\tau_2+\\tau_3)+g_2(\\tau_2+\\tau_3) \\right] d\\tau_2 d\\tau_3\n",
    "\\end{align}"
   ]
  },
  {
   "cell_type": "code",
   "execution_count": 65,
   "id": "d65ba70e-637f-4c58-b4b1-55f12c0a3b06",
   "metadata": {},
   "outputs": [
    {
     "data": {
      "text/latex": [
       "$\\displaystyle \\frac{3 M \\mu^{5} + 3 M \\mu^{4} n \\nu + 9 M \\mu^{4} n + 5 M \\mu^{4} \\nu + 18 M \\mu^{4} + 6 M \\mu^{3} n^{2} \\nu + 6 M \\mu^{3} n^{2} + 5 M \\mu^{3} n \\nu^{2} + 33 M \\mu^{3} n \\nu + 54 M \\mu^{3} n + 2 M \\mu^{3} \\nu^{2} + 17 M \\mu^{3} \\nu + 33 M \\mu^{3} + 8 M \\mu^{2} n^{2} \\nu^{2} + 44 M \\mu^{2} n^{2} \\nu + 36 M \\mu^{2} n^{2} + 2 M \\mu^{2} n \\nu^{3} + 23 M \\mu^{2} n \\nu^{2} + 84 M \\mu^{2} n \\nu + 99 M \\mu^{2} n + 4 M \\mu^{2} \\nu^{2} + 14 M \\mu^{2} \\nu + 18 M \\mu^{2} + 2 M \\mu n^{2} \\nu^{3} + 30 M \\mu n^{2} \\nu^{2} + 94 M \\mu n^{2} \\nu + 66 M \\mu n^{2} + 4 M \\mu n \\nu^{3} + 26 M \\mu n \\nu^{2} + 60 M \\mu n \\nu + 54 M \\mu n + 4 M n^{2} \\nu^{3} + 28 M n^{2} \\nu^{2} + 60 M n^{2} \\nu + 36 M n^{2} + 3 \\mu^{5} \\nu + 6 \\mu^{4} n \\nu + 8 \\mu^{4} \\nu^{2} + 21 \\mu^{4} \\nu + 19 \\mu^{3} n \\nu^{2} + 45 \\mu^{3} n \\nu + 7 \\mu^{3} \\nu^{3} + 37 \\mu^{3} \\nu^{2} + 48 \\mu^{3} \\nu + 8 \\mu^{2} n^{2} \\nu^{2} + 8 \\mu^{2} n^{2} \\nu + 19 \\mu^{2} n \\nu^{3} + 94 \\mu^{2} n \\nu^{2} + 111 \\mu^{2} n \\nu + 2 \\mu^{2} \\nu^{4} + 16 \\mu^{2} \\nu^{3} + 40 \\mu^{2} \\nu^{2} + 34 \\mu^{2} \\nu + 12 \\mu n^{2} \\nu^{3} + 48 \\mu n^{2} \\nu^{2} + 36 \\mu n^{2} \\nu + 6 \\mu n \\nu^{4} + 44 \\mu n \\nu^{3} + 106 \\mu n \\nu^{2} + 84 \\mu n \\nu + 4 n^{2} \\nu^{4} + 28 n^{2} \\nu^{3} + 60 n^{2} \\nu^{2} + 36 n^{2} \\nu}{M n^{3} \\left(\\mu + 1\\right) \\left(\\mu + 2\\right) \\left(\\nu + 1\\right) \\left(\\mu + \\nu + 1\\right) \\left(\\mu + \\nu + 3\\right) \\left(3 \\mu + 2 \\nu + 6\\right)}$"
      ],
      "text/plain": [
       "(3*M*mu**5 + 3*M*mu**4*n*nu + 9*M*mu**4*n + 5*M*mu**4*nu + 18*M*mu**4 + 6*M*mu**3*n**2*nu + 6*M*mu**3*n**2 + 5*M*mu**3*n*nu**2 + 33*M*mu**3*n*nu + 54*M*mu**3*n + 2*M*mu**3*nu**2 + 17*M*mu**3*nu + 33*M*mu**3 + 8*M*mu**2*n**2*nu**2 + 44*M*mu**2*n**2*nu + 36*M*mu**2*n**2 + 2*M*mu**2*n*nu**3 + 23*M*mu**2*n*nu**2 + 84*M*mu**2*n*nu + 99*M*mu**2*n + 4*M*mu**2*nu**2 + 14*M*mu**2*nu + 18*M*mu**2 + 2*M*mu*n**2*nu**3 + 30*M*mu*n**2*nu**2 + 94*M*mu*n**2*nu + 66*M*mu*n**2 + 4*M*mu*n*nu**3 + 26*M*mu*n*nu**2 + 60*M*mu*n*nu + 54*M*mu*n + 4*M*n**2*nu**3 + 28*M*n**2*nu**2 + 60*M*n**2*nu + 36*M*n**2 + 3*mu**5*nu + 6*mu**4*n*nu + 8*mu**4*nu**2 + 21*mu**4*nu + 19*mu**3*n*nu**2 + 45*mu**3*n*nu + 7*mu**3*nu**3 + 37*mu**3*nu**2 + 48*mu**3*nu + 8*mu**2*n**2*nu**2 + 8*mu**2*n**2*nu + 19*mu**2*n*nu**3 + 94*mu**2*n*nu**2 + 111*mu**2*n*nu + 2*mu**2*nu**4 + 16*mu**2*nu**3 + 40*mu**2*nu**2 + 34*mu**2*nu + 12*mu*n**2*nu**3 + 48*mu*n**2*nu**2 + 36*mu*n**2*nu + 6*mu*n*nu**4 + 44*mu*n*nu**3 + 106*mu*n*nu**2 + 84*mu*n*nu + 4*n**2*nu**4 + 28*n**2*nu**3 + 60*n**2*nu**2 + 36*n**2*nu)/(M*n**3*(mu + 1)*(mu + 2)*(nu + 1)*(mu + nu + 1)*(mu + nu + 3)*(3*mu + 2*nu + 6))"
      ]
     },
     "execution_count": 65,
     "metadata": {},
     "output_type": "execute_result"
    }
   ],
   "source": [
    "X_k_X_kl_X_kl = integrate(HH*II*(FF+GG+GG), (tau_2, 0, oo), (tau_3, 0, oo))/(3*n)\n",
    "X_k_X_kl_X_kl = X_k_X_kl_X_kl.nsimplify()\n",
    "X_k_X_kl_X_kl = factor(X_k_X_kl_X_kl)\n",
    "X_k_X_kl_X_kl"
   ]
  },
  {
   "cell_type": "markdown",
   "id": "1c693d1f-d941-4240-a06f-de945ed31862",
   "metadata": {},
   "source": [
    "> \\begin{align}\n",
    "    \\langle x_k x_k^l x_j^l \\rangle = \\dfrac{1}{n-1} \\left( \\langle x_k x_k^l x_{\\ast}^l \\rangle - \\langle x_k x_k^l x_k^l \\rangle \\right)\n",
    "\\end{align}"
   ]
  },
  {
   "cell_type": "code",
   "execution_count": 67,
   "id": "bb24f92e-cfbc-49af-876c-3523fc04d2ad",
   "metadata": {},
   "outputs": [
    {
     "data": {
      "text/latex": [
       "$\\displaystyle \\frac{\\mu \\left(3 M \\mu^{4} + 3 M \\mu^{3} n + 5 M \\mu^{3} \\nu + 18 M \\mu^{3} + 5 M \\mu^{2} n \\nu + 18 M \\mu^{2} n + 2 M \\mu^{2} \\nu^{2} + 17 M \\mu^{2} \\nu + 33 M \\mu^{2} + M \\mu n \\nu^{2} + 16 M \\mu n \\nu + 33 M \\mu n + 4 M \\mu \\nu^{2} + 14 M \\mu \\nu + 18 M \\mu + 2 M n \\nu^{2} + 12 M n \\nu + 18 M n + 3 \\mu^{4} \\nu + 3 \\mu^{3} n \\nu + 8 \\mu^{3} \\nu^{2} + 21 \\mu^{3} \\nu + 8 \\mu^{2} n \\nu^{2} + 21 \\mu^{2} n \\nu + 7 \\mu^{2} \\nu^{3} + 37 \\mu^{2} \\nu^{2} + 48 \\mu^{2} \\nu + 7 \\mu n \\nu^{3} + 38 \\mu n \\nu^{2} + 49 \\mu n \\nu + 2 \\mu \\nu^{4} + 16 \\mu \\nu^{3} + 40 \\mu \\nu^{2} + 34 \\mu \\nu + 2 n \\nu^{4} + 16 n \\nu^{3} + 42 n \\nu^{2} + 36 n \\nu\\right)}{M n^{3} \\left(\\mu + 1\\right) \\left(\\mu + 2\\right) \\left(\\nu + 1\\right) \\left(\\mu + \\nu + 1\\right) \\left(\\mu + \\nu + 3\\right) \\left(3 \\mu + 2 \\nu + 6\\right)}$"
      ],
      "text/plain": [
       "mu*(3*M*mu**4 + 3*M*mu**3*n + 5*M*mu**3*nu + 18*M*mu**3 + 5*M*mu**2*n*nu + 18*M*mu**2*n + 2*M*mu**2*nu**2 + 17*M*mu**2*nu + 33*M*mu**2 + M*mu*n*nu**2 + 16*M*mu*n*nu + 33*M*mu*n + 4*M*mu*nu**2 + 14*M*mu*nu + 18*M*mu + 2*M*n*nu**2 + 12*M*n*nu + 18*M*n + 3*mu**4*nu + 3*mu**3*n*nu + 8*mu**3*nu**2 + 21*mu**3*nu + 8*mu**2*n*nu**2 + 21*mu**2*n*nu + 7*mu**2*nu**3 + 37*mu**2*nu**2 + 48*mu**2*nu + 7*mu*n*nu**3 + 38*mu*n*nu**2 + 49*mu*n*nu + 2*mu*nu**4 + 16*mu*nu**3 + 40*mu*nu**2 + 34*mu*nu + 2*n*nu**4 + 16*n*nu**3 + 42*n*nu**2 + 36*n*nu)/(M*n**3*(mu + 1)*(mu + 2)*(nu + 1)*(mu + nu + 1)*(mu + nu + 3)*(3*mu + 2*nu + 6))"
      ]
     },
     "execution_count": 67,
     "metadata": {},
     "output_type": "execute_result"
    }
   ],
   "source": [
    "X_k_X_kl_X_jl = (1/(n-1))*(X_k_X_kl_X__l - X_k_X_kl_X_kl)\n",
    "X_k_X_kl_X_jl = X_k_X_kl_X_jl.nsimplify()\n",
    "X_k_X_kl_X_jl = factor(X_k_X_kl_X_jl)\n",
    "X_k_X_kl_X_jl"
   ]
  },
  {
   "cell_type": "markdown",
   "id": "6102f9fa-6ade-4e43-8ca2-47d1cace1214",
   "metadata": {},
   "source": [
    "> \\begin{align}\n",
    "    \\langle x_k x_i^l x_j^l \\rangle = \\dfrac{1}{n-2} \\left( \\langle x_i^l x_j^l \\rangle - 2 \\langle x_k x_k^l x_j^l \\rangle \\right)\n",
    "\\end{align}"
   ]
  },
  {
   "cell_type": "code",
   "execution_count": 69,
   "id": "c11b6112-5267-4073-bf57-5eec6bc1ef0f",
   "metadata": {},
   "outputs": [
    {
     "data": {
      "text/latex": [
       "$\\displaystyle \\frac{\\mu^{2} \\cdot \\left(3 M \\mu^{3} + 5 M \\mu^{2} \\nu + 18 M \\mu^{2} + 2 M \\mu \\nu^{2} + 17 M \\mu \\nu + 33 M \\mu + 4 M \\nu^{2} + 14 M \\nu + 18 M + 3 \\mu^{3} \\nu + 8 \\mu^{2} \\nu^{2} + 21 \\mu^{2} \\nu + 7 \\mu \\nu^{3} + 37 \\mu \\nu^{2} + 48 \\mu \\nu + 2 \\nu^{4} + 16 \\nu^{3} + 40 \\nu^{2} + 34 \\nu\\right)}{M n^{3} \\left(\\mu + 1\\right) \\left(\\mu + 2\\right) \\left(\\nu + 1\\right) \\left(\\mu + \\nu + 1\\right) \\left(\\mu + \\nu + 3\\right) \\left(3 \\mu + 2 \\nu + 6\\right)}$"
      ],
      "text/plain": [
       "mu**2*(3*M*mu**3 + 5*M*mu**2*nu + 18*M*mu**2 + 2*M*mu*nu**2 + 17*M*mu*nu + 33*M*mu + 4*M*nu**2 + 14*M*nu + 18*M + 3*mu**3*nu + 8*mu**2*nu**2 + 21*mu**2*nu + 7*mu*nu**3 + 37*mu*nu**2 + 48*mu*nu + 2*nu**4 + 16*nu**3 + 40*nu**2 + 34*nu)/(M*n**3*(mu + 1)*(mu + 2)*(nu + 1)*(mu + nu + 1)*(mu + nu + 3)*(3*mu + 2*nu + 6))"
      ]
     },
     "execution_count": 69,
     "metadata": {},
     "output_type": "execute_result"
    }
   ],
   "source": [
    "X_k_X_il_X_jl = (1/(n-2))*(X_il_X_jl - 2*X_k_X_kl_X_jl)\n",
    "X_k_X_il_X_jl = X_k_X_il_X_jl.nsimplify()\n",
    "X_k_X_il_X_jl = factor(X_k_X_il_X_jl)\n",
    "X_k_X_il_X_jl"
   ]
  },
  {
   "cell_type": "markdown",
   "id": "57fe2abd-85e2-4bad-8f2c-289f596b9f14",
   "metadata": {},
   "source": [
    "> \\begin{align}\n",
    "    \\langle x_k x_i^l x_i^l \\rangle = \\dfrac{1}{n-1} \\left( \\langle x_i^l x_i^l \\rangle - \\langle x_k x_k^l x_k^l \\rangle \\right)\n",
    "\\end{align}"
   ]
  },
  {
   "cell_type": "code",
   "execution_count": 71,
   "id": "81be8eca-8f93-4602-85f4-5b66b8de9899",
   "metadata": {},
   "outputs": [
    {
     "data": {
      "text/latex": [
       "$\\displaystyle \\frac{\\mu \\left(3 M \\mu^{4} + 3 M \\mu^{3} n \\nu + 3 M \\mu^{3} n + 5 M \\mu^{3} \\nu + 18 M \\mu^{3} + 5 M \\mu^{2} n \\nu^{2} + 23 M \\mu^{2} n \\nu + 18 M \\mu^{2} n + 2 M \\mu^{2} \\nu^{2} + 17 M \\mu^{2} \\nu + 33 M \\mu^{2} + 2 M \\mu n \\nu^{3} + 21 M \\mu n \\nu^{2} + 52 M \\mu n \\nu + 33 M \\mu n + 4 M \\mu \\nu^{2} + 14 M \\mu \\nu + 18 M \\mu + 4 M n \\nu^{3} + 22 M n \\nu^{2} + 36 M n \\nu + 18 M n + 3 \\mu^{4} \\nu + 8 \\mu^{3} \\nu^{2} + 21 \\mu^{3} \\nu + 3 \\mu^{2} n \\nu^{2} + 3 \\mu^{2} n \\nu + 7 \\mu^{2} \\nu^{3} + 37 \\mu^{2} \\nu^{2} + 48 \\mu^{2} \\nu + 5 \\mu n \\nu^{3} + 18 \\mu n \\nu^{2} + 13 \\mu n \\nu + 2 \\mu \\nu^{4} + 16 \\mu \\nu^{3} + 40 \\mu \\nu^{2} + 34 \\mu \\nu + 2 n \\nu^{4} + 12 n \\nu^{3} + 22 n \\nu^{2} + 12 n \\nu\\right)}{M n^{3} \\left(\\mu + 1\\right) \\left(\\mu + 2\\right) \\left(\\nu + 1\\right) \\left(\\mu + \\nu + 1\\right) \\left(\\mu + \\nu + 3\\right) \\left(3 \\mu + 2 \\nu + 6\\right)}$"
      ],
      "text/plain": [
       "mu*(3*M*mu**4 + 3*M*mu**3*n*nu + 3*M*mu**3*n + 5*M*mu**3*nu + 18*M*mu**3 + 5*M*mu**2*n*nu**2 + 23*M*mu**2*n*nu + 18*M*mu**2*n + 2*M*mu**2*nu**2 + 17*M*mu**2*nu + 33*M*mu**2 + 2*M*mu*n*nu**3 + 21*M*mu*n*nu**2 + 52*M*mu*n*nu + 33*M*mu*n + 4*M*mu*nu**2 + 14*M*mu*nu + 18*M*mu + 4*M*n*nu**3 + 22*M*n*nu**2 + 36*M*n*nu + 18*M*n + 3*mu**4*nu + 8*mu**3*nu**2 + 21*mu**3*nu + 3*mu**2*n*nu**2 + 3*mu**2*n*nu + 7*mu**2*nu**3 + 37*mu**2*nu**2 + 48*mu**2*nu + 5*mu*n*nu**3 + 18*mu*n*nu**2 + 13*mu*n*nu + 2*mu*nu**4 + 16*mu*nu**3 + 40*mu*nu**2 + 34*mu*nu + 2*n*nu**4 + 12*n*nu**3 + 22*n*nu**2 + 12*n*nu)/(M*n**3*(mu + 1)*(mu + 2)*(nu + 1)*(mu + nu + 1)*(mu + nu + 3)*(3*mu + 2*nu + 6))"
      ]
     },
     "execution_count": 71,
     "metadata": {},
     "output_type": "execute_result"
    }
   ],
   "source": [
    "X_k_X_il_X_il = (1/(n-1))*(X_kl_X_kl - X_k_X_kl_X_kl)\n",
    "X_k_X_il_X_il = X_k_X_il_X_il.nsimplify()\n",
    "X_k_X_il_X_il = factor(X_k_X_il_X_il)\n",
    "X_k_X_il_X_il"
   ]
  },
  {
   "cell_type": "markdown",
   "id": "696e8c50-cb89-4c29-8213-be3fb7a55251",
   "metadata": {
    "jp-MarkdownHeadingCollapsed": true
   },
   "source": [
    "#### The following pair/triplet correlations associated with $\\lambda_{\\ast}^D$\n",
    "\n",
    "* $\\langle x_i^l x_i^r \\rangle \\qquad \\langle x_i^l x_j^r \\rangle \\qquad \\langle x_k x_k^l x_{\\ast}^r \\rangle \\qquad \\langle x_k x_k^l x_k^r \\rangle$\n",
    "\n",
    "* $\\langle x_k x_k^l x_j^r \\rangle \\qquad \\langle x_k x_i^l x_j^r \\rangle \\qquad \\langle x_k x_i^l x_i^r \\rangle$"
   ]
  },
  {
   "cell_type": "markdown",
   "id": "a5fb5da2-674c-4311-b6f7-0f824491eff1",
   "metadata": {},
   "source": [
    "> \\begin{align}\n",
    "    \\langle x_i^l x_i^r \\rangle = \\dfrac{1}{n} \\int_{0}^{+\\infty} T_2(\\tau_2)s_2(\\tau_2)z_2(\\tau_2) \\; d\\tau_2\n",
    "\\end{align}"
   ]
  },
  {
   "cell_type": "code",
   "execution_count": 74,
   "id": "7b7134ac-46d1-460c-a5b8-74d5d120ccac",
   "metadata": {},
   "outputs": [
    {
     "data": {
      "text/latex": [
       "$\\displaystyle \\frac{\\nu \\left(M - 1\\right) \\left(\\mu^{2} + \\mu \\nu + 2 \\mu + n \\nu + n\\right)}{M n^{2} \\left(\\mu + 1\\right) \\left(\\nu + 1\\right) \\left(\\mu + \\nu + 1\\right)}$"
      ],
      "text/plain": [
       "nu*(M - 1)*(mu**2 + mu*nu + 2*mu + n*nu + n)/(M*n**2*(mu + 1)*(nu + 1)*(mu + nu + 1))"
      ]
     },
     "execution_count": 74,
     "metadata": {},
     "output_type": "execute_result"
    }
   ],
   "source": [
    "X_il_X_ir = integrate(AA*BB*JJ, (tau_2, 0, oo))/n\n",
    "X_il_X_ir = X_il_X_ir.nsimplify()\n",
    "X_il_X_ir = factor(X_il_X_ir)\n",
    "X_il_X_ir"
   ]
  },
  {
   "cell_type": "markdown",
   "id": "bfe28785-5bc8-4e7c-8ce3-c853c5fc20f4",
   "metadata": {},
   "source": [
    "> \\begin{align}\n",
    "    \\langle x_i^l x_j^r \\rangle = \\dfrac{1}{n(n-1)} \\int_{0}^{+\\infty} T_2(\\tau_2)(1-s_2(\\tau_2))z_2(\\tau_2) \\; d\\tau_2\n",
    "\\end{align}"
   ]
  },
  {
   "cell_type": "code",
   "execution_count": 76,
   "id": "ba00e594-3bab-45f9-8c1c-3193422b1b8a",
   "metadata": {},
   "outputs": [
    {
     "data": {
      "text/latex": [
       "$\\displaystyle \\frac{\\mu \\nu \\left(M - 1\\right) \\left(\\mu + \\nu + 2\\right)}{M n^{2} \\left(\\mu + 1\\right) \\left(\\nu + 1\\right) \\left(\\mu + \\nu + 1\\right)}$"
      ],
      "text/plain": [
       "mu*nu*(M - 1)*(mu + nu + 2)/(M*n**2*(mu + 1)*(nu + 1)*(mu + nu + 1))"
      ]
     },
     "execution_count": 76,
     "metadata": {},
     "output_type": "execute_result"
    }
   ],
   "source": [
    "X_il_X_jr = integrate(AA*(1-BB)*JJ, (tau_2, 0, oo))/(n*(n-1))\n",
    "X_il_X_jr = X_il_X_jr.nsimplify()\n",
    "X_il_X_jr = factor(X_il_X_jr)\n",
    "X_il_X_jr"
   ]
  },
  {
   "cell_type": "markdown",
   "id": "1687c255-93eb-4bad-96f7-cbb5ffa4d341",
   "metadata": {},
   "source": [
    "> \\begin{align}\n",
    "    \\langle x_k x_k^l x_{\\ast}^r \\rangle = \\dfrac{1}{3n} \\int_{0}^{+\\infty}\\int_{0}^{+\\infty} T_3(\\tau_2,\\tau_3)\\left[ s_2(\\tau_3)z_2(\\tau_2+\\tau_3)+s_2(\\tau_2+\\tau_3)z_2(\\tau_3)+s_2(\\tau_2+\\tau_3)z_2(\\tau_2+\\tau_3) \\right] \\; d\\tau_2 d\\tau_3\n",
    "\\end{align}"
   ]
  },
  {
   "cell_type": "code",
   "execution_count": 78,
   "id": "babeb083-bf06-44c7-b404-6f9bedd44ff0",
   "metadata": {},
   "outputs": [
    {
     "data": {
      "text/latex": [
       "$\\displaystyle \\frac{\\nu \\left(M - 1\\right) \\left(\\mu^{3} + \\mu^{2} n + 2 \\mu^{2} \\nu + 4 \\mu^{2} + 2 \\mu n \\nu + 3 \\mu n + \\mu \\nu^{2} + 4 \\mu \\nu + 4 \\mu + n \\nu^{2} + 4 n \\nu + 3 n\\right)}{M n^{2} \\left(\\mu + 1\\right) \\left(\\nu + 1\\right) \\left(\\mu + \\nu + 1\\right) \\left(\\mu + \\nu + 3\\right)}$"
      ],
      "text/plain": [
       "nu*(M - 1)*(mu**3 + mu**2*n + 2*mu**2*nu + 4*mu**2 + 2*mu*n*nu + 3*mu*n + mu*nu**2 + 4*mu*nu + 4*mu + n*nu**2 + 4*n*nu + 3*n)/(M*n**2*(mu + 1)*(nu + 1)*(mu + nu + 1)*(mu + nu + 3))"
      ]
     },
     "execution_count": 78,
     "metadata": {},
     "output_type": "execute_result"
    }
   ],
   "source": [
    "X_k_X_kl_X__r = integrate(HH*(CC*LL+DD*KK+DD*LL), (tau_2, 0, oo), (tau_3, 0, oo))/(3*n)\n",
    "X_k_X_kl_X__r = X_k_X_kl_X__r.nsimplify()\n",
    "X_k_X_kl_X__r = factor(X_k_X_kl_X__r)\n",
    "X_k_X_kl_X__r"
   ]
  },
  {
   "cell_type": "markdown",
   "id": "a58549f3-fd2f-49d8-9137-f7aae6494d77",
   "metadata": {},
   "source": [
    "> \\begin{align}\n",
    "    \\langle x_k x_k^l x_k^r \\rangle = \\dfrac{1}{3n} \\int_{0}^{+\\infty}\\int_{0}^{+\\infty} T_3(\\tau_2,\\tau_3)s_3(\\tau_2,\\tau_3)\\left[z_2(\\tau_3)+z_2(\\tau_2+\\tau_3)+z_2(\\tau_2+\\tau_3) \\right] \\; d\\tau_2 d\\tau_3\n",
    "\\end{align}"
   ]
  },
  {
   "cell_type": "code",
   "execution_count": 80,
   "id": "80ae3e2c-9562-44d9-8cd6-cc9668724105",
   "metadata": {},
   "outputs": [
    {
     "data": {
      "text/latex": [
       "$\\displaystyle \\frac{\\nu \\left(M - 1\\right) \\left(3 \\mu^{5} + 6 \\mu^{4} n + 8 \\mu^{4} \\nu + 21 \\mu^{4} + 19 \\mu^{3} n \\nu + 45 \\mu^{3} n + 7 \\mu^{3} \\nu^{2} + 37 \\mu^{3} \\nu + 48 \\mu^{3} + 8 \\mu^{2} n^{2} \\nu + 8 \\mu^{2} n^{2} + 19 \\mu^{2} n \\nu^{2} + 94 \\mu^{2} n \\nu + 111 \\mu^{2} n + 2 \\mu^{2} \\nu^{3} + 16 \\mu^{2} \\nu^{2} + 40 \\mu^{2} \\nu + 34 \\mu^{2} + 12 \\mu n^{2} \\nu^{2} + 48 \\mu n^{2} \\nu + 36 \\mu n^{2} + 6 \\mu n \\nu^{3} + 44 \\mu n \\nu^{2} + 106 \\mu n \\nu + 84 \\mu n + 4 n^{2} \\nu^{3} + 28 n^{2} \\nu^{2} + 60 n^{2} \\nu + 36 n^{2}\\right)}{M n^{3} \\left(\\mu + 1\\right) \\left(\\mu + 2\\right) \\left(\\nu + 1\\right) \\left(\\mu + \\nu + 1\\right) \\left(\\mu + \\nu + 3\\right) \\left(3 \\mu + 2 \\nu + 6\\right)}$"
      ],
      "text/plain": [
       "nu*(M - 1)*(3*mu**5 + 6*mu**4*n + 8*mu**4*nu + 21*mu**4 + 19*mu**3*n*nu + 45*mu**3*n + 7*mu**3*nu**2 + 37*mu**3*nu + 48*mu**3 + 8*mu**2*n**2*nu + 8*mu**2*n**2 + 19*mu**2*n*nu**2 + 94*mu**2*n*nu + 111*mu**2*n + 2*mu**2*nu**3 + 16*mu**2*nu**2 + 40*mu**2*nu + 34*mu**2 + 12*mu*n**2*nu**2 + 48*mu*n**2*nu + 36*mu*n**2 + 6*mu*n*nu**3 + 44*mu*n*nu**2 + 106*mu*n*nu + 84*mu*n + 4*n**2*nu**3 + 28*n**2*nu**2 + 60*n**2*nu + 36*n**2)/(M*n**3*(mu + 1)*(mu + 2)*(nu + 1)*(mu + nu + 1)*(mu + nu + 3)*(3*mu + 2*nu + 6))"
      ]
     },
     "execution_count": 80,
     "metadata": {},
     "output_type": "execute_result"
    }
   ],
   "source": [
    "X_k_X_kl_X_kr = integrate(HH*II*(KK+LL+LL), (tau_2, 0, oo), (tau_3, 0, oo))/(3*n)\n",
    "X_k_X_kl_X_kr = X_k_X_kl_X_kr.nsimplify()\n",
    "X_k_X_kl_X_kr = factor(X_k_X_kl_X_kr)\n",
    "X_k_X_kl_X_kr"
   ]
  },
  {
   "cell_type": "markdown",
   "id": "80cee5ee-de6f-499c-bfd4-ed37e586f7fb",
   "metadata": {},
   "source": [
    "> \\begin{align}\n",
    "    \\langle x_k x_k^l x_j^r \\rangle = \\dfrac{1}{n-1} \\left( \\langle x_k x_k^l x_{\\ast}^r \\rangle - \\langle x_k x_k^l x_k^r \\rangle \\right)\n",
    "\\end{align}"
   ]
  },
  {
   "cell_type": "code",
   "execution_count": 82,
   "id": "9f4e253a-7b83-4700-ae58-be19ea1e6c54",
   "metadata": {},
   "outputs": [
    {
     "data": {
      "text/latex": [
       "$\\displaystyle \\frac{\\mu \\nu \\left(M - 1\\right) \\left(3 \\mu^{4} + 3 \\mu^{3} n + 8 \\mu^{3} \\nu + 21 \\mu^{3} + 8 \\mu^{2} n \\nu + 21 \\mu^{2} n + 7 \\mu^{2} \\nu^{2} + 37 \\mu^{2} \\nu + 48 \\mu^{2} + 7 \\mu n \\nu^{2} + 38 \\mu n \\nu + 49 \\mu n + 2 \\mu \\nu^{3} + 16 \\mu \\nu^{2} + 40 \\mu \\nu + 34 \\mu + 2 n \\nu^{3} + 16 n \\nu^{2} + 42 n \\nu + 36 n\\right)}{M n^{3} \\left(\\mu + 1\\right) \\left(\\mu + 2\\right) \\left(\\nu + 1\\right) \\left(\\mu + \\nu + 1\\right) \\left(\\mu + \\nu + 3\\right) \\left(3 \\mu + 2 \\nu + 6\\right)}$"
      ],
      "text/plain": [
       "mu*nu*(M - 1)*(3*mu**4 + 3*mu**3*n + 8*mu**3*nu + 21*mu**3 + 8*mu**2*n*nu + 21*mu**2*n + 7*mu**2*nu**2 + 37*mu**2*nu + 48*mu**2 + 7*mu*n*nu**2 + 38*mu*n*nu + 49*mu*n + 2*mu*nu**3 + 16*mu*nu**2 + 40*mu*nu + 34*mu + 2*n*nu**3 + 16*n*nu**2 + 42*n*nu + 36*n)/(M*n**3*(mu + 1)*(mu + 2)*(nu + 1)*(mu + nu + 1)*(mu + nu + 3)*(3*mu + 2*nu + 6))"
      ]
     },
     "execution_count": 82,
     "metadata": {},
     "output_type": "execute_result"
    }
   ],
   "source": [
    "X_k_X_kl_X_jr = (1/(n-1))*(X_k_X_kl_X__r - X_k_X_kl_X_kr)\n",
    "X_k_X_kl_X_jr = X_k_X_kl_X_jr.nsimplify()\n",
    "X_k_X_kl_X_jr = factor(X_k_X_kl_X_jr)\n",
    "X_k_X_kl_X_jr"
   ]
  },
  {
   "cell_type": "markdown",
   "id": "8a3525c7-7925-4eac-8219-b53b7517e141",
   "metadata": {},
   "source": [
    "> \\begin{align}\n",
    "    \\langle x_k x_i^l x_j^r \\rangle = \\dfrac{1}{n-2} \\left( \\langle x_i^l x_j^r \\rangle - 2\\langle x_k x_k^l x_j^r \\rangle \\right)\n",
    "\\end{align}"
   ]
  },
  {
   "cell_type": "code",
   "execution_count": 84,
   "id": "58712a0f-c7ad-49c3-b0d6-f06a1e3dad03",
   "metadata": {},
   "outputs": [
    {
     "data": {
      "text/latex": [
       "$\\displaystyle \\frac{\\mu^{2} \\nu \\left(M - 1\\right) \\left(3 \\mu^{3} + 8 \\mu^{2} \\nu + 21 \\mu^{2} + 7 \\mu \\nu^{2} + 37 \\mu \\nu + 48 \\mu + 2 \\nu^{3} + 16 \\nu^{2} + 40 \\nu + 34\\right)}{M n^{3} \\left(\\mu + 1\\right) \\left(\\mu + 2\\right) \\left(\\nu + 1\\right) \\left(\\mu + \\nu + 1\\right) \\left(\\mu + \\nu + 3\\right) \\left(3 \\mu + 2 \\nu + 6\\right)}$"
      ],
      "text/plain": [
       "mu**2*nu*(M - 1)*(3*mu**3 + 8*mu**2*nu + 21*mu**2 + 7*mu*nu**2 + 37*mu*nu + 48*mu + 2*nu**3 + 16*nu**2 + 40*nu + 34)/(M*n**3*(mu + 1)*(mu + 2)*(nu + 1)*(mu + nu + 1)*(mu + nu + 3)*(3*mu + 2*nu + 6))"
      ]
     },
     "execution_count": 84,
     "metadata": {},
     "output_type": "execute_result"
    }
   ],
   "source": [
    "X_k_X_il_X_jr = (1/(n-2))*(X_il_X_jr - 2*X_k_X_kl_X_jr)\n",
    "X_k_X_il_X_jr = X_k_X_il_X_jr.nsimplify()\n",
    "X_k_X_il_X_jr = factor(X_k_X_il_X_jr)\n",
    "X_k_X_il_X_jr"
   ]
  },
  {
   "cell_type": "markdown",
   "id": "6bf9610a-b3b0-4f70-85b7-ad1ea118c785",
   "metadata": {},
   "source": [
    "> \\begin{align}\n",
    "    \\langle x_k x_i^l x_i^r \\rangle = \\dfrac{1}{n-1} \\left( \\langle x_i^l x_i^r \\rangle - \\langle x_k x_k^l x_k^r \\rangle \\right)\n",
    "\\end{align}"
   ]
  },
  {
   "cell_type": "code",
   "execution_count": 86,
   "id": "fa02d9ae-e51a-4c85-aa15-cd2be6fbd753",
   "metadata": {},
   "outputs": [
    {
     "data": {
      "text/latex": [
       "$\\displaystyle \\frac{\\mu \\nu \\left(M - 1\\right) \\left(3 \\mu^{4} + 8 \\mu^{3} \\nu + 21 \\mu^{3} + 3 \\mu^{2} n \\nu + 3 \\mu^{2} n + 7 \\mu^{2} \\nu^{2} + 37 \\mu^{2} \\nu + 48 \\mu^{2} + 5 \\mu n \\nu^{2} + 18 \\mu n \\nu + 13 \\mu n + 2 \\mu \\nu^{3} + 16 \\mu \\nu^{2} + 40 \\mu \\nu + 34 \\mu + 2 n \\nu^{3} + 12 n \\nu^{2} + 22 n \\nu + 12 n\\right)}{M n^{3} \\left(\\mu + 1\\right) \\left(\\mu + 2\\right) \\left(\\nu + 1\\right) \\left(\\mu + \\nu + 1\\right) \\left(\\mu + \\nu + 3\\right) \\left(3 \\mu + 2 \\nu + 6\\right)}$"
      ],
      "text/plain": [
       "mu*nu*(M - 1)*(3*mu**4 + 8*mu**3*nu + 21*mu**3 + 3*mu**2*n*nu + 3*mu**2*n + 7*mu**2*nu**2 + 37*mu**2*nu + 48*mu**2 + 5*mu*n*nu**2 + 18*mu*n*nu + 13*mu*n + 2*mu*nu**3 + 16*mu*nu**2 + 40*mu*nu + 34*mu + 2*n*nu**3 + 12*n*nu**2 + 22*n*nu + 12*n)/(M*n**3*(mu + 1)*(mu + 2)*(nu + 1)*(mu + nu + 1)*(mu + nu + 3)*(3*mu + 2*nu + 6))"
      ]
     },
     "execution_count": 86,
     "metadata": {},
     "output_type": "execute_result"
    }
   ],
   "source": [
    "X_k_X_il_X_ir = (1/(n-1))*(X_il_X_ir - X_k_X_kl_X_kr)\n",
    "X_k_X_il_X_ir = X_k_X_il_X_ir.nsimplify()\n",
    "X_k_X_il_X_ir = factor(X_k_X_il_X_ir)\n",
    "X_k_X_il_X_ir"
   ]
  },
  {
   "cell_type": "markdown",
   "id": "10418e1b-5b4f-4866-97da-7433de7b9fdf",
   "metadata": {
    "jp-MarkdownHeadingCollapsed": true
   },
   "source": [
    "#### Calculate $\\lambda_{\\ast}^{\\ast}$\n",
    "\n",
    "* $\\lambda_{\\ast}^S$\n",
    "\\begin{align}\n",
    "    \\lambda_1^S &\\propto (\\nu+1)(M(\\mu+2)(3\\mu+2\\nu+3)+\\nu(3\\mu+2\\nu+4))(\\mu+\\nu+3) \\\\\n",
    "     \\\\\n",
    "    \\lambda_2^S &\\propto M(2+\\mu)(9+3\\mu(4+\\mu)+6\\nu+5\\mu\\nu+\\nu^2)+\\nu(3\\mu^3+2(2+\\nu)((3+\\nu)^2)+\\mu^2(21+8\\nu)+\\mu(49+\\nu(38+7\\nu))) \\\\\n",
    "     \\\\\n",
    "    \\lambda_3^S &\\propto \\mu(M(2+\\mu)(9+3\\mu(4+\\mu)+7\\nu+5\\mu\\nu+2\\nu^2)+\\nu(34+3\\mu^3+40\\nu+2\\nu^2(8+\\nu)+\\mu(3+\\nu)(16+7\\nu)+\\mu^2(21+8\\nu)))\n",
    "\\end{align}\n",
    "\n",
    "* $\\lambda_{\\ast}^D$\n",
    "\\begin{align}\n",
    "    \\lambda_1^D &\\propto (M-1)\\nu(1+\\nu)(3+\\mu+\\nu)(4+3\\mu+2\\nu) \\\\\n",
    "     \\\\\n",
    "    \\lambda_2^D &\\propto (M-1)\\nu(3\\mu^3 + 2((2+\\nu)(3+\\nu)^2) + \\mu^2(21+8\\nu) + \\mu(49+\\nu(38+7\\nu))) \\\\\n",
    "     \\\\\n",
    "    \\lambda_3^D &\\propto (M-1)\\mu\\nu(34+3\\mu^3+40\\nu+2\\nu^2(8+\\nu)+\\mu(3+\\nu)(16+7\\nu)+\\mu^2(21+8\\nu))\n",
    "\\end{align}\n",
    "\n",
    "the proportional ratio is\n",
    "\\begin{align}\n",
    "    \\chi = \\dfrac{N^2\\mu}{Mn(\\mu+1)(\\mu+2)(\\nu+1)(\\mu+\\nu+1)(\\mu+\\nu+3)(3\\mu+2\\nu+6)}\n",
    "\\end{align}"
   ]
  },
  {
   "cell_type": "code",
   "execution_count": 88,
   "id": "b957e593-24e7-4727-ab2d-8627d6b7ae3c",
   "metadata": {},
   "outputs": [],
   "source": [
    "# ratio\n",
    "Chi = (N**2*mu)/(M*n*(mu+1)*(mu+2)*(nu+1)*(mu+nu+1)*(mu+nu+3)*(3*mu+2*nu+6))"
   ]
  },
  {
   "cell_type": "markdown",
   "id": "f876f3f5-5277-436f-8a8b-e5eba723582b",
   "metadata": {},
   "source": [
    "##### \\begin{align}\n",
    "    \\lambda_1^S &= nN^2 \\left( \\langle x_k x_i^l x_i^l \\rangle - \\langle x_k x_i^l x_j^l \\rangle \\right) \\\\\n",
    "     \\\\\n",
    "    &\\propto (\\nu+1)(M(\\mu+2)(3\\mu+2\\nu+3)+\\nu(3\\mu+2\\nu+4))(\\mu+\\nu+3)\n",
    "\\end{align}"
   ]
  },
  {
   "cell_type": "code",
   "execution_count": 90,
   "id": "e37acfed-cfca-4a79-92e0-26a7c61c7839",
   "metadata": {},
   "outputs": [
    {
     "data": {
      "text/latex": [
       "$\\displaystyle \\frac{N^{2} \\mu \\left(3 M \\mu^{2} + 2 M \\mu \\nu + 9 M \\mu + 4 M \\nu + 6 M + 3 \\mu \\nu + 2 \\nu^{2} + 4 \\nu\\right)}{M n \\left(\\mu + 1\\right) \\left(\\mu + 2\\right) \\left(\\mu + \\nu + 1\\right) \\left(3 \\mu + 2 \\nu + 6\\right)}$"
      ],
      "text/plain": [
       "N**2*mu*(3*M*mu**2 + 2*M*mu*nu + 9*M*mu + 4*M*nu + 6*M + 3*mu*nu + 2*nu**2 + 4*nu)/(M*n*(mu + 1)*(mu + 2)*(mu + nu + 1)*(3*mu + 2*nu + 6))"
      ]
     },
     "execution_count": 90,
     "metadata": {},
     "output_type": "execute_result"
    }
   ],
   "source": [
    "# Calculate lambda_1^S\n",
    "lambda_1S = n*N**2*(X_k_X_il_X_il - X_k_X_il_X_jl)\n",
    "lambda_1S = lambda_1S.nsimplify()\n",
    "lambda_1S = factor(lambda_1S)\n",
    "lambda_1S"
   ]
  },
  {
   "cell_type": "code",
   "execution_count": 91,
   "id": "8d80af27-d0d4-45cf-8440-853669b2da8b",
   "metadata": {},
   "outputs": [
    {
     "data": {
      "text/latex": [
       "$\\displaystyle \\left(\\nu + 1\\right) \\left(M \\left(\\mu + 2\\right) \\left(3 \\mu + 2 \\nu + 3\\right) + \\nu \\left(3 \\mu + 2 \\nu + 4\\right)\\right) \\left(\\mu + \\nu + 3\\right)$"
      ],
      "text/plain": [
       "(nu + 1)*(M*(mu + 2)*(3*mu + 2*nu + 3) + nu*(3*mu + 2*nu + 4))*(mu + nu + 3)"
      ]
     },
     "execution_count": 91,
     "metadata": {},
     "output_type": "execute_result"
    }
   ],
   "source": [
    "# organize\n",
    "lambda_1S_propto = factor(lambda_1S/Chi)\n",
    "lambda_1S_collect = collect(lambda_1S_propto, M)\n",
    "lambda_1S_collect = M*factor(diff(lambda_1S_collect, M))+factor(lambda_1S_collect.subs(M, 0))\n",
    "lambda_1S_final = collect(lambda_1S_collect, (nu+1)*(mu+nu+3))\n",
    "lambda_1S_final"
   ]
  },
  {
   "cell_type": "code",
   "execution_count": 92,
   "id": "54fb13a5-58ba-4b33-ba3d-f118ae87db79",
   "metadata": {},
   "outputs": [
    {
     "data": {
      "text/latex": [
       "$\\displaystyle \\left(\\nu + 1\\right) \\left(M \\left(\\mu + 2\\right) \\left(3 \\mu + 2 \\nu + 3\\right) + \\nu \\left(3 \\mu + 2 \\nu + 4\\right)\\right) \\left(\\mu + \\nu + 3\\right)$"
      ],
      "text/plain": [
       "(nu + 1)*(M*(mu + 2)*(3*mu + 2*nu + 3) + nu*(3*mu + 2*nu + 4))*(mu + nu + 3)"
      ]
     },
     "execution_count": 92,
     "metadata": {},
     "output_type": "execute_result"
    }
   ],
   "source": [
    "# equation (50)\n",
    "(nu+1)*(M*(mu+2)*(3*mu+2*nu+3)+nu*(3*mu+2*nu+4))*(mu+nu+3)"
   ]
  },
  {
   "cell_type": "markdown",
   "id": "e325a86e-51c9-424a-978c-7a528920f574",
   "metadata": {},
   "source": [
    "##### \\begin{align}\n",
    "    \\lambda_2^S &= nN^2 \\left( \\langle x_k x_k^l x_j^l \\rangle - \\langle x_k x_i^l x_j^l \\rangle \\right) \\\\\n",
    "     \\\\\n",
    "    &\\propto M(2+\\mu)(9+3\\mu(4+\\mu)+6\\nu+5\\mu\\nu+\\nu^2)+\\nu(3\\mu^3+2(2+\\nu)((3+\\nu)^2)+\\mu^2(21+8\\nu)+\\mu(49+\\nu(38+7\\nu)))\n",
    "\\end{align}"
   ]
  },
  {
   "cell_type": "code",
   "execution_count": 94,
   "id": "347b263d-9ef1-462c-953a-ac29bf5c6fcb",
   "metadata": {},
   "outputs": [
    {
     "data": {
      "text/latex": [
       "$\\displaystyle \\frac{N^{2} \\mu \\left(3 M \\mu^{3} + 5 M \\mu^{2} \\nu + 18 M \\mu^{2} + M \\mu \\nu^{2} + 16 M \\mu \\nu + 33 M \\mu + 2 M \\nu^{2} + 12 M \\nu + 18 M + 3 \\mu^{3} \\nu + 8 \\mu^{2} \\nu^{2} + 21 \\mu^{2} \\nu + 7 \\mu \\nu^{3} + 38 \\mu \\nu^{2} + 49 \\mu \\nu + 2 \\nu^{4} + 16 \\nu^{3} + 42 \\nu^{2} + 36 \\nu\\right)}{M n \\left(\\mu + 1\\right) \\left(\\mu + 2\\right) \\left(\\nu + 1\\right) \\left(\\mu + \\nu + 1\\right) \\left(\\mu + \\nu + 3\\right) \\left(3 \\mu + 2 \\nu + 6\\right)}$"
      ],
      "text/plain": [
       "N**2*mu*(3*M*mu**3 + 5*M*mu**2*nu + 18*M*mu**2 + M*mu*nu**2 + 16*M*mu*nu + 33*M*mu + 2*M*nu**2 + 12*M*nu + 18*M + 3*mu**3*nu + 8*mu**2*nu**2 + 21*mu**2*nu + 7*mu*nu**3 + 38*mu*nu**2 + 49*mu*nu + 2*nu**4 + 16*nu**3 + 42*nu**2 + 36*nu)/(M*n*(mu + 1)*(mu + 2)*(nu + 1)*(mu + nu + 1)*(mu + nu + 3)*(3*mu + 2*nu + 6))"
      ]
     },
     "execution_count": 94,
     "metadata": {},
     "output_type": "execute_result"
    }
   ],
   "source": [
    "# Calculate lambda_2^S\n",
    "lambda_2S = n*N**2*(X_k_X_kl_X_jl - X_k_X_il_X_jl)\n",
    "lambda_2S = lambda_2S.nsimplify()\n",
    "lambda_2S = factor(lambda_2S)\n",
    "lambda_2S"
   ]
  },
  {
   "cell_type": "code",
   "execution_count": 95,
   "id": "0f4e967b-2e6e-485a-a16c-8e64ff155e1c",
   "metadata": {},
   "outputs": [
    {
     "data": {
      "text/latex": [
       "$\\displaystyle M \\left(\\mu + 2\\right) \\left(3 \\mu^{2} + 5 \\mu \\nu + 12 \\mu + \\nu^{2} + 6 \\nu + 9\\right) + \\nu \\left(3 \\mu^{3} + \\mu^{2} \\cdot \\left(8 \\nu + 21\\right) + \\mu \\left(7 \\nu^{2} + 38 \\nu + 49\\right) + 2 \\nu^{3} + 16 \\nu^{2} + 42 \\nu + 36\\right)$"
      ],
      "text/plain": [
       "M*(mu + 2)*(3*mu**2 + 5*mu*nu + 12*mu + nu**2 + 6*nu + 9) + nu*(3*mu**3 + mu**2*(8*nu + 21) + mu*(7*nu**2 + 38*nu + 49) + 2*nu**3 + 16*nu**2 + 42*nu + 36)"
      ]
     },
     "execution_count": 95,
     "metadata": {},
     "output_type": "execute_result"
    }
   ],
   "source": [
    "# organize\n",
    "lambda_2S_propto = factor(lambda_2S/Chi)\n",
    "lambda_2S_collect = collect(lambda_2S_propto, M)\n",
    "lambda_2S_final = M*factor(diff(lambda_2S_collect, M)) + collect(factor(lambda_2S_collect.subs(M, 0)), mu)\n",
    "lambda_2S_final"
   ]
  },
  {
   "cell_type": "code",
   "execution_count": 96,
   "id": "5ccc1894-8b55-41a7-b5e9-704988d3a5b7",
   "metadata": {},
   "outputs": [
    {
     "data": {
      "text/latex": [
       "$\\displaystyle M \\left(\\mu + 2\\right) \\left(5 \\mu \\nu + 3 \\mu \\left(\\mu + 4\\right) + \\nu^{2} + 6 \\nu + 9\\right) + \\nu \\left(3 \\mu^{3} + \\mu^{2} \\cdot \\left(8 \\nu + 21\\right) + \\mu \\left(\\nu \\left(7 \\nu + 38\\right) + 49\\right) + \\left(\\nu + 3\\right)^{2} \\cdot \\left(2 \\nu + 4\\right)\\right)$"
      ],
      "text/plain": [
       "M*(mu + 2)*(5*mu*nu + 3*mu*(mu + 4) + nu**2 + 6*nu + 9) + nu*(3*mu**3 + mu**2*(8*nu + 21) + mu*(nu*(7*nu + 38) + 49) + (nu + 3)**2*(2*nu + 4))"
      ]
     },
     "execution_count": 96,
     "metadata": {},
     "output_type": "execute_result"
    }
   ],
   "source": [
    "# equation (51)\n",
    "M*(2+mu)*(9+3*mu*(4+mu)+6*nu+5*mu*nu+nu**2)+nu*(3*mu**3+2*(2+nu)*((3+nu)**2)+mu**2*(21+8*nu)+mu*(49+nu*(38+7*nu)))"
   ]
  },
  {
   "cell_type": "code",
   "execution_count": 97,
   "id": "76d62120-6471-433a-9166-01e1a1736a38",
   "metadata": {},
   "outputs": [
    {
     "data": {
      "text/latex": [
       "$\\displaystyle 1$"
      ],
      "text/plain": [
       "1"
      ]
     },
     "execution_count": 97,
     "metadata": {},
     "output_type": "execute_result"
    }
   ],
   "source": [
    "# verification\n",
    "factor(lambda_2S_final/(factor(M*(2+mu)*(9+3*mu*(4+mu)+6*nu+5*mu*nu+nu**2)+nu*(3*mu**3+2*(2+nu)*((3+nu)**2)+mu**2*(21+8*nu)+mu*(49+nu*(38+7*nu))))))"
   ]
  },
  {
   "cell_type": "markdown",
   "id": "c533266c-b9f7-47f2-af90-3021262ee5a8",
   "metadata": {},
   "source": [
    "##### \\begin{align}\n",
    "    \\lambda_3^S &= n^2N^2 \\langle x_k x_i^l x_j^l \\rangle \\\\\n",
    "     \\\\\n",
    "    &\\propto \\mu(M(2+\\mu)(9+3\\mu(4+\\mu)+7\\nu+5\\mu\\nu+2\\nu^2)+\\nu(34+3\\mu^3+40\\nu+2\\nu^2(8+\\nu)+\\mu(3+\\nu)(16+7\\nu)+\\mu^2(21+8\\nu)))\n",
    "\\end{align}"
   ]
  },
  {
   "cell_type": "code",
   "execution_count": 99,
   "id": "5c7f219c-a1fa-41aa-b6cb-508877dcdd9b",
   "metadata": {},
   "outputs": [
    {
     "data": {
      "text/latex": [
       "$\\displaystyle \\frac{N^{2} \\mu^{2} \\cdot \\left(3 M \\mu^{3} + 5 M \\mu^{2} \\nu + 18 M \\mu^{2} + 2 M \\mu \\nu^{2} + 17 M \\mu \\nu + 33 M \\mu + 4 M \\nu^{2} + 14 M \\nu + 18 M + 3 \\mu^{3} \\nu + 8 \\mu^{2} \\nu^{2} + 21 \\mu^{2} \\nu + 7 \\mu \\nu^{3} + 37 \\mu \\nu^{2} + 48 \\mu \\nu + 2 \\nu^{4} + 16 \\nu^{3} + 40 \\nu^{2} + 34 \\nu\\right)}{M n \\left(\\mu + 1\\right) \\left(\\mu + 2\\right) \\left(\\nu + 1\\right) \\left(\\mu + \\nu + 1\\right) \\left(\\mu + \\nu + 3\\right) \\left(3 \\mu + 2 \\nu + 6\\right)}$"
      ],
      "text/plain": [
       "N**2*mu**2*(3*M*mu**3 + 5*M*mu**2*nu + 18*M*mu**2 + 2*M*mu*nu**2 + 17*M*mu*nu + 33*M*mu + 4*M*nu**2 + 14*M*nu + 18*M + 3*mu**3*nu + 8*mu**2*nu**2 + 21*mu**2*nu + 7*mu*nu**3 + 37*mu*nu**2 + 48*mu*nu + 2*nu**4 + 16*nu**3 + 40*nu**2 + 34*nu)/(M*n*(mu + 1)*(mu + 2)*(nu + 1)*(mu + nu + 1)*(mu + nu + 3)*(3*mu + 2*nu + 6))"
      ]
     },
     "execution_count": 99,
     "metadata": {},
     "output_type": "execute_result"
    }
   ],
   "source": [
    "# Calculate lambda_3^S\n",
    "lambda_3S = n**2 * N**2 * X_k_X_il_X_jl\n",
    "lambda_3S = lambda_3S.nsimplify()\n",
    "lambda_3S = factor(lambda_3S)\n",
    "lambda_3S"
   ]
  },
  {
   "cell_type": "code",
   "execution_count": 100,
   "id": "e5ebe085-3d82-4387-9833-453924a68034",
   "metadata": {},
   "outputs": [
    {
     "data": {
      "text/latex": [
       "$\\displaystyle \\mu \\left(M \\left(\\mu + 2\\right) \\left(3 \\mu^{2} + \\mu \\left(5 \\nu + 12\\right) + 2 \\nu^{2} + 7 \\nu + 9\\right) + \\nu \\left(3 \\mu^{3} + \\mu^{2} \\cdot \\left(8 \\nu + 21\\right) + \\mu \\left(7 \\nu^{2} + 37 \\nu + 48\\right) + 2 \\nu^{3} + 16 \\nu^{2} + 40 \\nu + 34\\right)\\right)$"
      ],
      "text/plain": [
       "mu*(M*(mu + 2)*(3*mu**2 + mu*(5*nu + 12) + 2*nu**2 + 7*nu + 9) + nu*(3*mu**3 + mu**2*(8*nu + 21) + mu*(7*nu**2 + 37*nu + 48) + 2*nu**3 + 16*nu**2 + 40*nu + 34))"
      ]
     },
     "execution_count": 100,
     "metadata": {},
     "output_type": "execute_result"
    }
   ],
   "source": [
    "# organize\n",
    "lambda_3S_propto = factor(lambda_3S/Chi)\n",
    "lambda_3S_collect = collect(lambda_3S_propto, M)\n",
    "lambda_3S_final = M*factor(diff(lambda_3S_collect, M)) + collect(factor(lambda_3S_collect.subs(M, 0)), mu)\n",
    "lambda_3S_final = collect(lambda_3S_final, mu)\n",
    "lambda_3S_final"
   ]
  },
  {
   "cell_type": "code",
   "execution_count": 101,
   "id": "100367af-9e9d-4fe4-983c-f51bf5cdb04e",
   "metadata": {},
   "outputs": [
    {
     "data": {
      "text/latex": [
       "$\\displaystyle \\left(\\nu + 3\\right) \\left(7 \\nu + 16\\right)$"
      ],
      "text/plain": [
       "(nu + 3)*(7*nu + 16)"
      ]
     },
     "execution_count": 101,
     "metadata": {},
     "output_type": "execute_result"
    }
   ],
   "source": [
    "factor(7*nu**2 + 37*nu + 48)"
   ]
  },
  {
   "cell_type": "code",
   "execution_count": 102,
   "id": "8d80aa84-9b3f-4029-874b-fa2746930c4d",
   "metadata": {},
   "outputs": [
    {
     "data": {
      "text/latex": [
       "$\\displaystyle \\mu \\left(M \\left(\\mu + 2\\right) \\left(5 \\mu \\nu + 3 \\mu \\left(\\mu + 4\\right) + 2 \\nu^{2} + 7 \\nu + 9\\right) + \\nu \\left(3 \\mu^{3} + \\mu^{2} \\cdot \\left(8 \\nu + 21\\right) + \\mu \\left(\\nu + 3\\right) \\left(7 \\nu + 16\\right) + 2 \\nu^{2} \\left(\\nu + 8\\right) + 40 \\nu + 34\\right)\\right)$"
      ],
      "text/plain": [
       "mu*(M*(mu + 2)*(5*mu*nu + 3*mu*(mu + 4) + 2*nu**2 + 7*nu + 9) + nu*(3*mu**3 + mu**2*(8*nu + 21) + mu*(nu + 3)*(7*nu + 16) + 2*nu**2*(nu + 8) + 40*nu + 34))"
      ]
     },
     "execution_count": 102,
     "metadata": {},
     "output_type": "execute_result"
    }
   ],
   "source": [
    "# equation (52)\n",
    "mu*(M*(2+mu)*(9+3*mu*(4+mu)+7*nu+5*mu*nu+2*nu**2)+nu*(34+3*mu**3+40*nu+2*nu**2*(8+nu)+mu*(3+nu)*(16+7*nu)+mu**2*(21+8*nu)))"
   ]
  },
  {
   "cell_type": "code",
   "execution_count": 103,
   "id": "27a16205-af32-454c-af71-3d9ee5569748",
   "metadata": {},
   "outputs": [
    {
     "data": {
      "text/latex": [
       "$\\displaystyle 1$"
      ],
      "text/plain": [
       "1"
      ]
     },
     "execution_count": 103,
     "metadata": {},
     "output_type": "execute_result"
    }
   ],
   "source": [
    "# verification\n",
    "factor(lambda_3S_final/(factor(mu*(M*(2+mu)*(9+3*mu*(4+mu)+7*nu+5*mu*nu+2*nu**2)+nu*(34+3*mu**3+40*nu+2*nu**2*(8+nu)+mu*(3+nu)*(16+7*nu)+mu**2*(21+8*nu))))))"
   ]
  },
  {
   "cell_type": "markdown",
   "id": "915a17d3-833e-49e5-9917-26d42124e85f",
   "metadata": {},
   "source": [
    "##### \\begin{align}\n",
    "    \\lambda_1^D &= nN^2 \\left( \\langle x_k x_i^l x_i^r \\rangle - \\langle x_k x_i^l x_j^r \\rangle \\right) \\\\\n",
    "     \\\\\n",
    "    &\\propto (M-1)\\nu(1+\\nu)(3+\\mu+\\nu)(4+3\\mu+2\\nu)\n",
    "\\end{align}"
   ]
  },
  {
   "cell_type": "code",
   "execution_count": 105,
   "id": "01e0823a-024a-4d55-95b5-84a77fbc67f1",
   "metadata": {},
   "outputs": [
    {
     "data": {
      "text/latex": [
       "$\\displaystyle \\frac{N^{2} \\mu \\nu \\left(M - 1\\right) \\left(3 \\mu + 2 \\nu + 4\\right)}{M n \\left(\\mu + 1\\right) \\left(\\mu + 2\\right) \\left(\\mu + \\nu + 1\\right) \\left(3 \\mu + 2 \\nu + 6\\right)}$"
      ],
      "text/plain": [
       "N**2*mu*nu*(M - 1)*(3*mu + 2*nu + 4)/(M*n*(mu + 1)*(mu + 2)*(mu + nu + 1)*(3*mu + 2*nu + 6))"
      ]
     },
     "execution_count": 105,
     "metadata": {},
     "output_type": "execute_result"
    }
   ],
   "source": [
    "# calculate lambda_1^D\n",
    "lambda_1D = n*N**2*(X_k_X_il_X_ir - X_k_X_il_X_jr)\n",
    "lambda_1D = lambda_1D.nsimplify()\n",
    "lambda_1D = factor(lambda_1D)\n",
    "lambda_1D"
   ]
  },
  {
   "cell_type": "code",
   "execution_count": 106,
   "id": "315bf5b3-282c-42c0-b524-ea510d239c06",
   "metadata": {},
   "outputs": [
    {
     "data": {
      "text/latex": [
       "$\\displaystyle \\nu \\left(M - 1\\right) \\left(\\nu + 1\\right) \\left(\\mu + \\nu + 3\\right) \\left(3 \\mu + 2 \\nu + 4\\right)$"
      ],
      "text/plain": [
       "nu*(M - 1)*(nu + 1)*(mu + nu + 3)*(3*mu + 2*nu + 4)"
      ]
     },
     "execution_count": 106,
     "metadata": {},
     "output_type": "execute_result"
    }
   ],
   "source": [
    "# organize\n",
    "lambda_1D_propto = factor(lambda_1D/Chi)\n",
    "lambda_1D_collect = collect(lambda_1D_propto, M)\n",
    "lambda_1D_final = M*factor(diff(lambda_1D_collect, M)) + collect(factor(lambda_1D_collect.subs(M, 0)), mu)\n",
    "lambda_1D_final = factor(collect(lambda_1D_final, nu))\n",
    "lambda_1D_final"
   ]
  },
  {
   "cell_type": "code",
   "execution_count": 107,
   "id": "66f4e02d-52c1-48ca-a8ab-eb0d983b0e5c",
   "metadata": {},
   "outputs": [
    {
     "data": {
      "text/latex": [
       "$\\displaystyle \\nu \\left(M - 1\\right) \\left(\\nu + 1\\right) \\left(\\mu + \\nu + 3\\right) \\left(3 \\mu + 2 \\nu + 4\\right)$"
      ],
      "text/plain": [
       "nu*(M - 1)*(nu + 1)*(mu + nu + 3)*(3*mu + 2*nu + 4)"
      ]
     },
     "execution_count": 107,
     "metadata": {},
     "output_type": "execute_result"
    }
   ],
   "source": [
    "# equation (53)\n",
    "(M-1)*nu*(1+nu)*(3+mu+nu)*(4+3*mu+2*nu)"
   ]
  },
  {
   "cell_type": "markdown",
   "id": "9289134f-1203-4ad1-891b-7b4896ec714e",
   "metadata": {},
   "source": [
    "##### \\begin{align}\n",
    "    \\lambda_2^D &= nN^2 \\left( \\langle x_k x_k^l x_j^r \\rangle - \\langle x_k x_i^l x_j^r \\rangle \\right) \\\\\n",
    "     \\\\\n",
    "    &\\propto (M-1)\\nu(3\\mu^3 + 2((2+\\nu)(3+\\nu)^2) + \\mu^2(21+8\\nu) + \\mu(49+\\nu(38+7\\nu)))\n",
    "\\end{align}"
   ]
  },
  {
   "cell_type": "code",
   "execution_count": 109,
   "id": "8d227b7d-9dda-48f7-a7a8-99d9c8fad08c",
   "metadata": {},
   "outputs": [
    {
     "data": {
      "text/latex": [
       "$\\displaystyle \\frac{N^{2} \\mu \\nu \\left(M - 1\\right) \\left(3 \\mu^{3} + 8 \\mu^{2} \\nu + 21 \\mu^{2} + 7 \\mu \\nu^{2} + 38 \\mu \\nu + 49 \\mu + 2 \\nu^{3} + 16 \\nu^{2} + 42 \\nu + 36\\right)}{M n \\left(\\mu + 1\\right) \\left(\\mu + 2\\right) \\left(\\nu + 1\\right) \\left(\\mu + \\nu + 1\\right) \\left(\\mu + \\nu + 3\\right) \\left(3 \\mu + 2 \\nu + 6\\right)}$"
      ],
      "text/plain": [
       "N**2*mu*nu*(M - 1)*(3*mu**3 + 8*mu**2*nu + 21*mu**2 + 7*mu*nu**2 + 38*mu*nu + 49*mu + 2*nu**3 + 16*nu**2 + 42*nu + 36)/(M*n*(mu + 1)*(mu + 2)*(nu + 1)*(mu + nu + 1)*(mu + nu + 3)*(3*mu + 2*nu + 6))"
      ]
     },
     "execution_count": 109,
     "metadata": {},
     "output_type": "execute_result"
    }
   ],
   "source": [
    "# calculate lambda_2^D\n",
    "lambda_2D = n*N**2*(X_k_X_kl_X_jr - X_k_X_il_X_jr)\n",
    "lambda_2D = lambda_2D.nsimplify()\n",
    "lambda_2D = factor(lambda_2D)\n",
    "lambda_2D"
   ]
  },
  {
   "cell_type": "code",
   "execution_count": 110,
   "id": "f80107aa-81b3-4dc6-8261-458f1d0172eb",
   "metadata": {},
   "outputs": [
    {
     "data": {
      "text/latex": [
       "$\\displaystyle \\nu \\left(M - 1\\right) \\left(3 \\mu^{3} + \\mu^{2} \\cdot \\left(8 \\nu + 21\\right) + \\mu \\left(7 \\nu^{2} + 38 \\nu + 49\\right) + 2 \\nu^{3} + 16 \\nu^{2} + 42 \\nu + 36\\right)$"
      ],
      "text/plain": [
       "nu*(M - 1)*(3*mu**3 + mu**2*(8*nu + 21) + mu*(7*nu**2 + 38*nu + 49) + 2*nu**3 + 16*nu**2 + 42*nu + 36)"
      ]
     },
     "execution_count": 110,
     "metadata": {},
     "output_type": "execute_result"
    }
   ],
   "source": [
    "# organize\n",
    "lambda_2D_propto = factor(lambda_2D/Chi)\n",
    "lambda_2D_collect = collect(lambda_2D_propto, M)\n",
    "lambda_2D_collect = M*factor(diff(lambda_2D_collect, M)) + collect(factor(lambda_2D_collect.subs(M, 0)), mu)\n",
    "lambda_2D_collect = factor(collect(lambda_2D_collect, nu))\n",
    "lambda_2D_final = collect(lambda_2D_collect, mu)\n",
    "lambda_2D_final"
   ]
  },
  {
   "cell_type": "code",
   "execution_count": 111,
   "id": "07a96f0d-8872-494e-a64e-120eb9b5a26f",
   "metadata": {},
   "outputs": [
    {
     "data": {
      "text/latex": [
       "$\\displaystyle 2 \\left(\\nu + 2\\right) \\left(\\nu + 3\\right)^{2}$"
      ],
      "text/plain": [
       "2*(nu + 2)*(nu + 3)**2"
      ]
     },
     "execution_count": 111,
     "metadata": {},
     "output_type": "execute_result"
    }
   ],
   "source": [
    "# organize_\n",
    "factor(2*nu**3 + 16*nu**2 + 42*nu +36)"
   ]
  },
  {
   "cell_type": "code",
   "execution_count": 112,
   "id": "5e61525f-2b72-4a5b-972e-7c1661540e90",
   "metadata": {},
   "outputs": [
    {
     "data": {
      "text/latex": [
       "$\\displaystyle \\nu \\left(M - 1\\right) \\left(3 \\mu^{3} + \\mu^{2} \\cdot \\left(8 \\nu + 21\\right) + \\mu \\left(\\nu \\left(7 \\nu + 38\\right) + 49\\right) + 2 \\left(\\nu + 2\\right) \\left(\\nu + 3\\right)^{2}\\right)$"
      ],
      "text/plain": [
       "nu*(M - 1)*(3*mu**3 + mu**2*(8*nu + 21) + mu*(nu*(7*nu + 38) + 49) + 2*(nu + 2)*(nu + 3)**2)"
      ]
     },
     "execution_count": 112,
     "metadata": {},
     "output_type": "execute_result"
    }
   ],
   "source": [
    "# equation (54)\n",
    "(M-1)*nu*(3*mu**3 + 2*((2+nu)*(3+nu)**2) + mu**2*(21+8*nu) + mu*(49+nu*(38+7*nu)))"
   ]
  },
  {
   "cell_type": "code",
   "execution_count": 113,
   "id": "0db69c64-1fa7-4e44-a763-16efb26a8221",
   "metadata": {},
   "outputs": [
    {
     "data": {
      "text/latex": [
       "$\\displaystyle 1$"
      ],
      "text/plain": [
       "1"
      ]
     },
     "execution_count": 113,
     "metadata": {},
     "output_type": "execute_result"
    }
   ],
   "source": [
    "# verification\n",
    "factor(lambda_2D_final/(factor((M-1)*nu*(3*mu**3 + 2*((2+nu)*(3+nu)**2) + mu**2*(21+8*nu) + mu*(49+nu*(38+7*nu))))))"
   ]
  },
  {
   "cell_type": "markdown",
   "id": "df888a5a-93e3-4d37-9883-b4ff8a8d979a",
   "metadata": {},
   "source": [
    "##### \\begin{align}\n",
    "    \\lambda_3^D &= n^2N^2 \\langle x_k x_i^l x_j^r \\rangle \\\\\n",
    "     \\\\\n",
    "    &\\propto (M-1)\\mu\\nu(34+3\\mu^3+40\\nu+2\\nu^2(8+\\nu)+\\mu(3+\\nu)(16+7\\nu)+\\mu^2(21+8\\nu))\n",
    "\\end{align}"
   ]
  },
  {
   "cell_type": "code",
   "execution_count": 115,
   "id": "0eae2103-558a-4bbe-ab3e-1e494c57d242",
   "metadata": {},
   "outputs": [
    {
     "data": {
      "text/latex": [
       "$\\displaystyle \\frac{N^{2} \\mu^{2} \\nu \\left(M - 1\\right) \\left(3 \\mu^{3} + 8 \\mu^{2} \\nu + 21 \\mu^{2} + 7 \\mu \\nu^{2} + 37 \\mu \\nu + 48 \\mu + 2 \\nu^{3} + 16 \\nu^{2} + 40 \\nu + 34\\right)}{M n \\left(\\mu + 1\\right) \\left(\\mu + 2\\right) \\left(\\nu + 1\\right) \\left(\\mu + \\nu + 1\\right) \\left(\\mu + \\nu + 3\\right) \\left(3 \\mu + 2 \\nu + 6\\right)}$"
      ],
      "text/plain": [
       "N**2*mu**2*nu*(M - 1)*(3*mu**3 + 8*mu**2*nu + 21*mu**2 + 7*mu*nu**2 + 37*mu*nu + 48*mu + 2*nu**3 + 16*nu**2 + 40*nu + 34)/(M*n*(mu + 1)*(mu + 2)*(nu + 1)*(mu + nu + 1)*(mu + nu + 3)*(3*mu + 2*nu + 6))"
      ]
     },
     "execution_count": 115,
     "metadata": {},
     "output_type": "execute_result"
    }
   ],
   "source": [
    "# calculate lambda_3^D\n",
    "lambda_3D = n**2 * N**2 * X_k_X_il_X_jr\n",
    "lambda_3D = lambda_3D.nsimplify()\n",
    "lambda_3D = factor(lambda_3D)\n",
    "lambda_3D"
   ]
  },
  {
   "cell_type": "code",
   "execution_count": 116,
   "id": "62a7a310-f09f-49fc-a644-8ed411656280",
   "metadata": {},
   "outputs": [
    {
     "data": {
      "text/latex": [
       "$\\displaystyle \\mu \\nu \\left(M - 1\\right) \\left(3 \\mu^{3} + \\mu^{2} \\cdot \\left(8 \\nu + 21\\right) + \\mu \\left(7 \\nu^{2} + 37 \\nu + 48\\right) + 2 \\nu^{3} + 16 \\nu^{2} + 40 \\nu + 34\\right)$"
      ],
      "text/plain": [
       "mu*nu*(M - 1)*(3*mu**3 + mu**2*(8*nu + 21) + mu*(7*nu**2 + 37*nu + 48) + 2*nu**3 + 16*nu**2 + 40*nu + 34)"
      ]
     },
     "execution_count": 116,
     "metadata": {},
     "output_type": "execute_result"
    }
   ],
   "source": [
    "# organize\n",
    "lambda_3D_propto = factor(lambda_3D/Chi)\n",
    "lambda_3D_collect = collect(lambda_3D_propto, M)\n",
    "lambda_3D_collect = M*factor(diff(lambda_3D_collect, M)) + collect(factor(lambda_3D_collect.subs(M, 0)), mu)\n",
    "lambda_3D_collect = factor(collect(lambda_3D_collect, nu))\n",
    "lambda_3D_final = collect(lambda_3D_collect, mu)\n",
    "lambda_3D_final"
   ]
  },
  {
   "cell_type": "code",
   "execution_count": 117,
   "id": "d7d6d1b0-bf12-45cc-a49e-09528206549b",
   "metadata": {},
   "outputs": [
    {
     "data": {
      "text/latex": [
       "$\\displaystyle \\left(\\nu + 3\\right) \\left(7 \\nu + 16\\right)$"
      ],
      "text/plain": [
       "(nu + 3)*(7*nu + 16)"
      ]
     },
     "execution_count": 117,
     "metadata": {},
     "output_type": "execute_result"
    }
   ],
   "source": [
    "factor(7*nu**2 + 37*nu + 48)"
   ]
  },
  {
   "cell_type": "code",
   "execution_count": 118,
   "id": "90b59a1a-e631-4fd2-ad27-986219711e0d",
   "metadata": {},
   "outputs": [
    {
     "data": {
      "text/latex": [
       "$\\displaystyle \\mu \\nu \\left(M - 1\\right) \\left(3 \\mu^{3} + \\mu^{2} \\cdot \\left(8 \\nu + 21\\right) + \\mu \\left(\\nu + 3\\right) \\left(7 \\nu + 16\\right) + 2 \\nu^{2} \\left(\\nu + 8\\right) + 40 \\nu + 34\\right)$"
      ],
      "text/plain": [
       "mu*nu*(M - 1)*(3*mu**3 + mu**2*(8*nu + 21) + mu*(nu + 3)*(7*nu + 16) + 2*nu**2*(nu + 8) + 40*nu + 34)"
      ]
     },
     "execution_count": 118,
     "metadata": {},
     "output_type": "execute_result"
    }
   ],
   "source": [
    "# equation (55)\n",
    "(M-1)*mu*nu*(34+3*mu**3+40*nu+2*nu**2*(8+nu)+mu*(3+nu)*(16+7*nu)+mu**2*(21+8*nu))"
   ]
  },
  {
   "cell_type": "code",
   "execution_count": 119,
   "id": "80e18956-ba35-44c8-a2a4-6ed33d41bba9",
   "metadata": {},
   "outputs": [
    {
     "data": {
      "text/latex": [
       "$\\displaystyle 1$"
      ],
      "text/plain": [
       "1"
      ]
     },
     "execution_count": 119,
     "metadata": {},
     "output_type": "execute_result"
    }
   ],
   "source": [
    "# verification\n",
    "factor(lambda_3D_final/(factor((M-1)*mu*nu*(34+3*mu**3+40*nu+2*nu**2*(8+nu)+mu*(3+nu)*(16+7*nu)+mu**2*(21+8*nu)))))"
   ]
  },
  {
   "cell_type": "markdown",
   "id": "41228dbc-d32e-4e1d-b2f0-28f9227a3425",
   "metadata": {},
   "source": [
    "### Coefficients of $\\mathcal{D}(p)$"
   ]
  },
  {
   "cell_type": "markdown",
   "id": "6b0931d6-4c7e-49a8-be2f-877280dc8199",
   "metadata": {},
   "source": [
    "##### \\begin{align}\n",
    "    C_2(a,b,M,\\mu,\\nu) &= a \\lambda_1^S + b \\lambda_1^D\\\\\n",
    "     \\\\\n",
    "    & \\propto (1 + \\nu)(3 + \\mu + \\nu)(b(−1 + M)\\nu(4 + 3\\mu + 2\\nu) + a(M(2 + \\mu)(3 + 3\\mu + 2\\nu) + \\nu(4 + 3\\mu + 2\\nu)))\n",
    "\\end{align}"
   ]
  },
  {
   "cell_type": "code",
   "execution_count": 122,
   "id": "86369c19-b8aa-4a69-b471-930609b5638e",
   "metadata": {},
   "outputs": [
    {
     "data": {
      "text/latex": [
       "$\\displaystyle \\frac{N^{2} \\mu \\left(3 M a \\mu^{2} + 2 M a \\mu \\nu + 9 M a \\mu + 4 M a \\nu + 6 M a + 3 M b \\mu \\nu + 2 M b \\nu^{2} + 4 M b \\nu + 3 a \\mu \\nu + 2 a \\nu^{2} + 4 a \\nu - 3 b \\mu \\nu - 2 b \\nu^{2} - 4 b \\nu\\right)}{M n \\left(\\mu + 1\\right) \\left(\\mu + 2\\right) \\left(\\mu + \\nu + 1\\right) \\left(3 \\mu + 2 \\nu + 6\\right)}$"
      ],
      "text/plain": [
       "N**2*mu*(3*M*a*mu**2 + 2*M*a*mu*nu + 9*M*a*mu + 4*M*a*nu + 6*M*a + 3*M*b*mu*nu + 2*M*b*nu**2 + 4*M*b*nu + 3*a*mu*nu + 2*a*nu**2 + 4*a*nu - 3*b*mu*nu - 2*b*nu**2 - 4*b*nu)/(M*n*(mu + 1)*(mu + 2)*(mu + nu + 1)*(3*mu + 2*nu + 6))"
      ]
     },
     "execution_count": 122,
     "metadata": {},
     "output_type": "execute_result"
    }
   ],
   "source": [
    "# calculate C_2\n",
    "C_2 = a*lambda_1S + b*lambda_1D\n",
    "C_2 = C_2.nsimplify()\n",
    "C_2 = factor(C_2)\n",
    "C_2"
   ]
  },
  {
   "cell_type": "code",
   "execution_count": 123,
   "id": "38c0e36d-6f60-4fff-963b-3098c8eee676",
   "metadata": {},
   "outputs": [
    {
     "data": {
      "text/latex": [
       "$\\displaystyle \\frac{N^{2} \\mu \\left(3 M a \\mu^{2} + 2 M a \\mu \\nu + 9 M a \\mu + 4 M a \\nu + 6 M a + 3 M b \\mu \\nu + 2 M b \\nu^{2} + 4 M b \\nu + 3 a \\mu \\nu + 2 a \\nu^{2} + 4 a \\nu - 3 b \\mu \\nu - 2 b \\nu^{2} - 4 b \\nu\\right)}{M n \\left(\\mu + 1\\right) \\left(\\mu + 2\\right) \\left(\\mu + \\nu + 1\\right) \\left(3 \\mu + 2 \\nu + 6\\right)}$"
      ],
      "text/plain": [
       "N**2*mu*(3*M*a*mu**2 + 2*M*a*mu*nu + 9*M*a*mu + 4*M*a*nu + 6*M*a + 3*M*b*mu*nu + 2*M*b*nu**2 + 4*M*b*nu + 3*a*mu*nu + 2*a*nu**2 + 4*a*nu - 3*b*mu*nu - 2*b*nu**2 - 4*b*nu)/(M*n*(mu + 1)*(mu + 2)*(mu + nu + 1)*(3*mu + 2*nu + 6))"
      ]
     },
     "execution_count": 123,
     "metadata": {},
     "output_type": "execute_result"
    }
   ],
   "source": [
    "# C_2 proportional to\n",
    "C_2_propto = a*lambda_1S_final + b*lambda_1D_final\n",
    "C_2_propto = collect(C_2, (nu+1)*(mu+nu+3))\n",
    "C_2_propto"
   ]
  },
  {
   "cell_type": "code",
   "execution_count": 124,
   "id": "03dde254-98fd-4c74-8f46-8c117aaaf80b",
   "metadata": {},
   "outputs": [
    {
     "data": {
      "text/latex": [
       "$\\displaystyle \\left(\\nu + 1\\right) \\left(a \\left(M \\left(\\mu + 2\\right) \\left(3 \\mu + 2 \\nu + 3\\right) + \\nu \\left(3 \\mu + 2 \\nu + 4\\right)\\right) + b \\nu \\left(M - 1\\right) \\left(3 \\mu + 2 \\nu + 4\\right)\\right) \\left(\\mu + \\nu + 3\\right)$"
      ],
      "text/plain": [
       "(nu + 1)*(a*(M*(mu + 2)*(3*mu + 2*nu + 3) + nu*(3*mu + 2*nu + 4)) + b*nu*(M - 1)*(3*mu + 2*nu + 4))*(mu + nu + 3)"
      ]
     },
     "execution_count": 124,
     "metadata": {},
     "output_type": "execute_result"
    }
   ],
   "source": [
    "# equation (57-1)\n",
    "(1 + nu)*(3 + mu + nu)*(b*(-1 + M)*nu*(4 + 3*mu + 2*nu) + a*(M*(2 + mu)*(3 + 3*mu + 2*nu) + nu*(4 + 3*mu + 2*nu)))"
   ]
  },
  {
   "cell_type": "markdown",
   "id": "c72b7d65-7551-46ae-951f-99c710f75f06",
   "metadata": {},
   "source": [
    "##### \\begin{align}\n",
    "    C_1(a,b,M,\\mu,\\nu) = \\; & \\dfrac{1}{2} a \\lambda_3^D - b (2\\lambda_1^D + \\dfrac{1}{2} \\lambda_3^D)\\\\\n",
    "     \\\\\n",
    "    \\propto \\; & \\dfrac{1}{2} \\left( -b(-1+M)\\nu\\left( 3\\mu^4 + 8(1+\\nu)(2+\\nu)(3+\\nu) + \\mu^3(21+8\\nu) + \\mu^2(60+7\\nu(7+\\nu)) + 2\\mu(43+\\nu(4+\\nu)(14+\\nu)) \\right) \\right. \\\\\n",
    "     \\\\\n",
    "    &+a\\mu \\left. \\left( M(2+\\mu)\\left( 9+3\\mu(4+\\mu)+7\\nu+5\\mu\\nu+2\\nu^2 \\right) + \\nu\\left( 34+3\\mu^3+40\\nu+2\\nu^2(8+\\nu)+\\mu(3+\\nu)(16+7\\nu)+\\mu^2(21+8\\nu) \\right) \\right) \\right)\n",
    "\\end{align}"
   ]
  },
  {
   "cell_type": "code",
   "execution_count": 126,
   "id": "be03e28f-e096-4482-9716-4b06ee10050c",
   "metadata": {},
   "outputs": [
    {
     "data": {
      "text/latex": [
       "$\\displaystyle \\frac{N^{2} \\mu \\left(3 M a \\mu^{4} + 5 M a \\mu^{3} \\nu + 18 M a \\mu^{3} + 2 M a \\mu^{2} \\nu^{2} + 17 M a \\mu^{2} \\nu + 33 M a \\mu^{2} + 4 M a \\mu \\nu^{2} + 14 M a \\mu \\nu + 18 M a \\mu - 3 M b \\mu^{4} \\nu - 8 M b \\mu^{3} \\nu^{2} - 21 M b \\mu^{3} \\nu - 7 M b \\mu^{2} \\nu^{3} - 49 M b \\mu^{2} \\nu^{2} - 60 M b \\mu^{2} \\nu - 2 M b \\mu \\nu^{4} - 36 M b \\mu \\nu^{3} - 112 M b \\mu \\nu^{2} - 86 M b \\mu \\nu - 8 M b \\nu^{4} - 48 M b \\nu^{3} - 88 M b \\nu^{2} - 48 M b \\nu + 3 a \\mu^{4} \\nu + 8 a \\mu^{3} \\nu^{2} + 21 a \\mu^{3} \\nu + 7 a \\mu^{2} \\nu^{3} + 37 a \\mu^{2} \\nu^{2} + 48 a \\mu^{2} \\nu + 2 a \\mu \\nu^{4} + 16 a \\mu \\nu^{3} + 40 a \\mu \\nu^{2} + 34 a \\mu \\nu + 3 b \\mu^{4} \\nu + 8 b \\mu^{3} \\nu^{2} + 21 b \\mu^{3} \\nu + 7 b \\mu^{2} \\nu^{3} + 49 b \\mu^{2} \\nu^{2} + 60 b \\mu^{2} \\nu + 2 b \\mu \\nu^{4} + 36 b \\mu \\nu^{3} + 112 b \\mu \\nu^{2} + 86 b \\mu \\nu + 8 b \\nu^{4} + 48 b \\nu^{3} + 88 b \\nu^{2} + 48 b \\nu\\right)}{2 M n \\left(\\mu + 1\\right) \\left(\\mu + 2\\right) \\left(\\nu + 1\\right) \\left(\\mu + \\nu + 1\\right) \\left(\\mu + \\nu + 3\\right) \\left(3 \\mu + 2 \\nu + 6\\right)}$"
      ],
      "text/plain": [
       "N**2*mu*(3*M*a*mu**4 + 5*M*a*mu**3*nu + 18*M*a*mu**3 + 2*M*a*mu**2*nu**2 + 17*M*a*mu**2*nu + 33*M*a*mu**2 + 4*M*a*mu*nu**2 + 14*M*a*mu*nu + 18*M*a*mu - 3*M*b*mu**4*nu - 8*M*b*mu**3*nu**2 - 21*M*b*mu**3*nu - 7*M*b*mu**2*nu**3 - 49*M*b*mu**2*nu**2 - 60*M*b*mu**2*nu - 2*M*b*mu*nu**4 - 36*M*b*mu*nu**3 - 112*M*b*mu*nu**2 - 86*M*b*mu*nu - 8*M*b*nu**4 - 48*M*b*nu**3 - 88*M*b*nu**2 - 48*M*b*nu + 3*a*mu**4*nu + 8*a*mu**3*nu**2 + 21*a*mu**3*nu + 7*a*mu**2*nu**3 + 37*a*mu**2*nu**2 + 48*a*mu**2*nu + 2*a*mu*nu**4 + 16*a*mu*nu**3 + 40*a*mu*nu**2 + 34*a*mu*nu + 3*b*mu**4*nu + 8*b*mu**3*nu**2 + 21*b*mu**3*nu + 7*b*mu**2*nu**3 + 49*b*mu**2*nu**2 + 60*b*mu**2*nu + 2*b*mu*nu**4 + 36*b*mu*nu**3 + 112*b*mu*nu**2 + 86*b*mu*nu + 8*b*nu**4 + 48*b*nu**3 + 88*b*nu**2 + 48*b*nu)/(2*M*n*(mu + 1)*(mu + 2)*(nu + 1)*(mu + nu + 1)*(mu + nu + 3)*(3*mu + 2*nu + 6))"
      ]
     },
     "execution_count": 126,
     "metadata": {},
     "output_type": "execute_result"
    }
   ],
   "source": [
    "# calculate C_1\n",
    "C_1 = (a*lambda_3S)/2 - b*(2*lambda_1D + (lambda_3D/2))\n",
    "C_1 = C_1.nsimplify()\n",
    "C_1 = factor(C_1)\n",
    "C_1"
   ]
  },
  {
   "cell_type": "code",
   "execution_count": 127,
   "id": "ef828422-3751-4145-bf9a-a06c27285224",
   "metadata": {},
   "outputs": [
    {
     "data": {
      "text/latex": [
       "$\\displaystyle \\frac{a \\mu \\left(M \\left(\\mu + 2\\right) \\left(3 \\mu^{2} + \\mu \\left(5 \\nu + 12\\right) + 2 \\nu^{2} + 7 \\nu + 9\\right) + \\nu \\left(3 \\mu^{3} + \\mu^{2} \\cdot \\left(8 \\nu + 21\\right) + \\mu \\left(7 \\nu^{2} + 37 \\nu + 48\\right) + 2 \\nu^{3} + 16 \\nu^{2} + 40 \\nu + 34\\right)\\right)}{2} - \\frac{b \\nu \\left(M - 1\\right) \\left(3 \\mu^{4} + \\mu^{3} \\cdot \\left(8 \\nu + 21\\right) + \\mu^{2} \\cdot \\left(7 \\nu^{2} + 49 \\nu + 60\\right) + \\mu \\left(2 \\nu^{3} + 36 \\nu^{2} + 112 \\nu + 86\\right) + 8 \\nu^{3} + 48 \\nu^{2} + 88 \\nu + 48\\right)}{2}$"
      ],
      "text/plain": [
       "a*mu*(M*(mu + 2)*(3*mu**2 + mu*(5*nu + 12) + 2*nu**2 + 7*nu + 9) + nu*(3*mu**3 + mu**2*(8*nu + 21) + mu*(7*nu**2 + 37*nu + 48) + 2*nu**3 + 16*nu**2 + 40*nu + 34))/2 - b*nu*(M - 1)*(3*mu**4 + mu**3*(8*nu + 21) + mu**2*(7*nu**2 + 49*nu + 60) + mu*(2*nu**3 + 36*nu**2 + 112*nu + 86) + 8*nu**3 + 48*nu**2 + 88*nu + 48)/2"
      ]
     },
     "execution_count": 127,
     "metadata": {},
     "output_type": "execute_result"
    }
   ],
   "source": [
    "# C_1 proportional to\n",
    "C_1_propto = (a*lambda_3S_final)/2 - b*(2*lambda_1D_final + (lambda_3D_final/2))\n",
    "C_1_a = C_1_propto.subs(b, 0)\n",
    "C_1_b = factor(C_1_propto.subs(a, 0))\n",
    "C_1_b_collect = collect(C_1_b, mu)\n",
    "C_1_propto = C_1_a + C_1_b_collect\n",
    "C_1_propto"
   ]
  },
  {
   "cell_type": "code",
   "execution_count": 128,
   "id": "8916004c-6cc7-4914-8253-731341a1d6cf",
   "metadata": {},
   "outputs": [
    {
     "data": {
      "text/latex": [
       "$\\displaystyle 8 \\left(\\nu + 1\\right) \\left(\\nu + 2\\right) \\left(\\nu + 3\\right)$"
      ],
      "text/plain": [
       "8*(nu + 1)*(nu + 2)*(nu + 3)"
      ]
     },
     "execution_count": 128,
     "metadata": {},
     "output_type": "execute_result"
    }
   ],
   "source": [
    "factor(8*nu**3 + 48*nu**2 + 88*nu +48)"
   ]
  },
  {
   "cell_type": "code",
   "execution_count": 129,
   "id": "66e82192-d442-46b8-80a3-bb60c6b1d59f",
   "metadata": {},
   "outputs": [
    {
     "data": {
      "text/latex": [
       "$\\displaystyle 2 \\nu^{3} + 36 \\nu^{2} + 112 \\nu + 86$"
      ],
      "text/plain": [
       "2*nu**3 + 36*nu**2 + 112*nu + 86"
      ]
     },
     "execution_count": 129,
     "metadata": {},
     "output_type": "execute_result"
    }
   ],
   "source": [
    "2*factor(nu*(nu+4)*(nu+14)+43)"
   ]
  },
  {
   "cell_type": "code",
   "execution_count": 130,
   "id": "0baacd2d-33d3-40da-a48a-65858e7e02d0",
   "metadata": {},
   "outputs": [
    {
     "data": {
      "text/latex": [
       "$\\displaystyle \\frac{a \\mu \\left(M \\left(\\mu + 2\\right) \\left(5 \\mu \\nu + 3 \\mu \\left(\\mu + 4\\right) + 2 \\nu^{2} + 7 \\nu + 9\\right) + \\nu \\left(3 \\mu^{3} + \\mu^{2} \\cdot \\left(8 \\nu + 21\\right) + \\mu \\left(\\nu + 3\\right) \\left(7 \\nu + 16\\right) + 2 \\nu^{2} \\left(\\nu + 8\\right) + 40 \\nu + 34\\right)\\right)}{2} - \\frac{b \\nu \\left(M - 1\\right) \\left(3 \\mu^{4} + \\mu^{3} \\cdot \\left(8 \\nu + 21\\right) + \\mu^{2} \\cdot \\left(7 \\nu \\left(\\nu + 7\\right) + 60\\right) + 2 \\mu \\left(\\nu \\left(\\nu + 4\\right) \\left(\\nu + 14\\right) + 43\\right) + \\left(\\nu + 2\\right) \\left(\\nu + 3\\right) \\left(8 \\nu + 8\\right)\\right)}{2}$"
      ],
      "text/plain": [
       "a*mu*(M*(mu + 2)*(5*mu*nu + 3*mu*(mu + 4) + 2*nu**2 + 7*nu + 9) + nu*(3*mu**3 + mu**2*(8*nu + 21) + mu*(nu + 3)*(7*nu + 16) + 2*nu**2*(nu + 8) + 40*nu + 34))/2 - b*nu*(M - 1)*(3*mu**4 + mu**3*(8*nu + 21) + mu**2*(7*nu*(nu + 7) + 60) + 2*mu*(nu*(nu + 4)*(nu + 14) + 43) + (nu + 2)*(nu + 3)*(8*nu + 8))/2"
      ]
     },
     "execution_count": 130,
     "metadata": {},
     "output_type": "execute_result"
    }
   ],
   "source": [
    "# equation (57-2)\n",
    "C_1_1 = -b*(-1+M)*nu*(3*mu**4+8*(1+nu)*(2+nu)*(3+nu)+mu**3*(21+8*nu)+mu**2*(60+7*nu*(7+nu))+2*mu*(43+nu*(4+nu)*(14+nu)))\n",
    "C_1_2 = a*mu*(M*(2+mu)*(9+3*mu*(4+mu)+7*nu+5*mu*nu+2*nu**2)+nu*(34+3*mu**3+40*nu+2*nu**2*(8+nu)+mu*(3+nu)*(16+7*nu)+mu**2*(21+8*nu)))\n",
    "(C_1_1 + C_1_2)/2"
   ]
  },
  {
   "cell_type": "code",
   "execution_count": 131,
   "id": "8b1c13cc-b4e6-44b9-9dea-ed8fb8ff040b",
   "metadata": {},
   "outputs": [
    {
     "data": {
      "text/latex": [
       "$\\displaystyle 1$"
      ],
      "text/plain": [
       "1"
      ]
     },
     "execution_count": 131,
     "metadata": {},
     "output_type": "execute_result"
    }
   ],
   "source": [
    "# verification\n",
    "factor(C_1_propto/(factor((C_1_1 + C_1_2)/2)))"
   ]
  },
  {
   "cell_type": "markdown",
   "id": "7305c3fe-4fcd-4b1e-bf00-e9a131cd4c39",
   "metadata": {},
   "source": [
    "##### \\begin{align}\n",
    "    C_0(a,b,M,\\mu,\\nu) = \\; & -a (\\dfrac{1}{3} \\lambda_1^S + \\dfrac{1}{4} \\lambda_3^S) + b (\\dfrac{2}{3} \\lambda_1^D + \\dfrac{1}{4} \\lambda_3^D)\\\\\n",
    "     \\\\\n",
    "    \\propto \\; & \\dfrac{1}{12} \\left( -a\\left( M(2+\\mu)\\left( 9\\mu^3+4(1+\\nu)(3+\\nu)(3+2\\nu)+3\\mu^2(16+9\\nu)+\\mu(3+2\\nu)(25+13\\nu) \\right) + \\nu\\left( 9\\mu^4+8(1+\\nu)(2+\\nu)(3+\\nu) \\right. \\right. \\right. \\\\\n",
    "     \\\\\n",
    "    &+ \\left. \\left. 3\\mu^2(4+\\nu)(13+7\\nu)+3\\mu^3(21+8\\nu)+2\\mu(7+3\\nu)(11+\\nu(9+\\nu)) \\right) \\right) \\\\\n",
    "     \\\\\n",
    "    &+ \\left. b(-1+M)\\nu\\left( 9\\mu^4+16(1+\\nu)(2+\\nu)(3+\\nu)+3\\mu^3(21+8\\nu)+3\\mu^2(56+\\nu(45+7\\nu))+\\mu(206+2\\nu(132+\\nu(44+3\\nu))) \\right) \\right)\n",
    "\\end{align}"
   ]
  },
  {
   "cell_type": "code",
   "execution_count": 133,
   "id": "5f2e6bda-109d-4991-85da-46d8a05f6eb6",
   "metadata": {},
   "outputs": [
    {
     "data": {
      "text/latex": [
       "$\\displaystyle - \\frac{N^{2} \\mu \\left(9 M a \\mu^{4} + 27 M a \\mu^{3} \\nu + 66 M a \\mu^{3} + 26 M a \\mu^{2} \\nu^{2} + 143 M a \\mu^{2} \\nu + 171 M a \\mu^{2} + 8 M a \\mu \\nu^{3} + 96 M a \\mu \\nu^{2} + 250 M a \\mu \\nu + 186 M a \\mu + 16 M a \\nu^{3} + 88 M a \\nu^{2} + 144 M a \\nu + 72 M a - 9 M b \\mu^{4} \\nu - 24 M b \\mu^{3} \\nu^{2} - 63 M b \\mu^{3} \\nu - 21 M b \\mu^{2} \\nu^{3} - 135 M b \\mu^{2} \\nu^{2} - 168 M b \\mu^{2} \\nu - 6 M b \\mu \\nu^{4} - 88 M b \\mu \\nu^{3} - 264 M b \\mu \\nu^{2} - 206 M b \\mu \\nu - 16 M b \\nu^{4} - 96 M b \\nu^{3} - 176 M b \\nu^{2} - 96 M b \\nu + 9 a \\mu^{4} \\nu + 24 a \\mu^{3} \\nu^{2} + 63 a \\mu^{3} \\nu + 21 a \\mu^{2} \\nu^{3} + 123 a \\mu^{2} \\nu^{2} + 156 a \\mu^{2} \\nu + 6 a \\mu \\nu^{4} + 68 a \\mu \\nu^{3} + 192 a \\mu \\nu^{2} + 154 a \\mu \\nu + 8 a \\nu^{4} + 48 a \\nu^{3} + 88 a \\nu^{2} + 48 a \\nu + 9 b \\mu^{4} \\nu + 24 b \\mu^{3} \\nu^{2} + 63 b \\mu^{3} \\nu + 21 b \\mu^{2} \\nu^{3} + 135 b \\mu^{2} \\nu^{2} + 168 b \\mu^{2} \\nu + 6 b \\mu \\nu^{4} + 88 b \\mu \\nu^{3} + 264 b \\mu \\nu^{2} + 206 b \\mu \\nu + 16 b \\nu^{4} + 96 b \\nu^{3} + 176 b \\nu^{2} + 96 b \\nu\\right)}{12 M n \\left(\\mu + 1\\right) \\left(\\mu + 2\\right) \\left(\\nu + 1\\right) \\left(\\mu + \\nu + 1\\right) \\left(\\mu + \\nu + 3\\right) \\left(3 \\mu + 2 \\nu + 6\\right)}$"
      ],
      "text/plain": [
       "-N**2*mu*(9*M*a*mu**4 + 27*M*a*mu**3*nu + 66*M*a*mu**3 + 26*M*a*mu**2*nu**2 + 143*M*a*mu**2*nu + 171*M*a*mu**2 + 8*M*a*mu*nu**3 + 96*M*a*mu*nu**2 + 250*M*a*mu*nu + 186*M*a*mu + 16*M*a*nu**3 + 88*M*a*nu**2 + 144*M*a*nu + 72*M*a - 9*M*b*mu**4*nu - 24*M*b*mu**3*nu**2 - 63*M*b*mu**3*nu - 21*M*b*mu**2*nu**3 - 135*M*b*mu**2*nu**2 - 168*M*b*mu**2*nu - 6*M*b*mu*nu**4 - 88*M*b*mu*nu**3 - 264*M*b*mu*nu**2 - 206*M*b*mu*nu - 16*M*b*nu**4 - 96*M*b*nu**3 - 176*M*b*nu**2 - 96*M*b*nu + 9*a*mu**4*nu + 24*a*mu**3*nu**2 + 63*a*mu**3*nu + 21*a*mu**2*nu**3 + 123*a*mu**2*nu**2 + 156*a*mu**2*nu + 6*a*mu*nu**4 + 68*a*mu*nu**3 + 192*a*mu*nu**2 + 154*a*mu*nu + 8*a*nu**4 + 48*a*nu**3 + 88*a*nu**2 + 48*a*nu + 9*b*mu**4*nu + 24*b*mu**3*nu**2 + 63*b*mu**3*nu + 21*b*mu**2*nu**3 + 135*b*mu**2*nu**2 + 168*b*mu**2*nu + 6*b*mu*nu**4 + 88*b*mu*nu**3 + 264*b*mu*nu**2 + 206*b*mu*nu + 16*b*nu**4 + 96*b*nu**3 + 176*b*nu**2 + 96*b*nu)/(12*M*n*(mu + 1)*(mu + 2)*(nu + 1)*(mu + nu + 1)*(mu + nu + 3)*(3*mu + 2*nu + 6))"
      ]
     },
     "execution_count": 133,
     "metadata": {},
     "output_type": "execute_result"
    }
   ],
   "source": [
    "# calculate C_0\n",
    "C_0 = -a*((lambda_1S/3)+(lambda_3S/4)) + b*(((2*lambda_1D)/3)+(lambda_3D/4))\n",
    "C_0 = C_0.nsimplify()\n",
    "C_0 = factor(C_0)\n",
    "C_0"
   ]
  },
  {
   "cell_type": "code",
   "execution_count": 134,
   "id": "8f3acbd2-45e9-4290-90ef-9f7053a37a61",
   "metadata": {},
   "outputs": [
    {
     "data": {
      "text/latex": [
       "$\\displaystyle - \\frac{a \\left(\\mu \\left(3 M \\left(\\mu + 2\\right) \\left(3 \\mu^{2} + \\mu \\left(5 \\nu + 12\\right) + 2 \\nu^{2} + 7 \\nu + 9\\right) + 3 \\nu \\left(3 \\mu^{3} + \\mu^{2} \\cdot \\left(8 \\nu + 21\\right) + \\mu \\left(7 \\nu^{2} + 37 \\nu + 48\\right) + 2 \\nu^{3} + 16 \\nu^{2} + 40 \\nu + 34\\right)\\right) + 4 \\left(\\nu + 1\\right) \\left(M \\left(\\mu + 2\\right) \\left(3 \\mu + 2 \\nu + 3\\right) + \\nu \\left(3 \\mu + 2 \\nu + 4\\right)\\right) \\left(\\mu + \\nu + 3\\right)\\right)}{12} + \\frac{b \\nu \\left(M - 1\\right) \\left(\\mu \\left(9 \\mu^{3} + 3 \\mu^{2} \\cdot \\left(8 \\nu + 21\\right) + 3 \\mu \\left(7 \\nu^{2} + 37 \\nu + 48\\right) + 6 \\nu^{3} + 48 \\nu^{2} + 120 \\nu + 102\\right) + 8 \\left(\\nu + 1\\right) \\left(\\mu + \\nu + 3\\right) \\left(3 \\mu + 2 \\nu + 4\\right)\\right)}{12}$"
      ],
      "text/plain": [
       "-a*(mu*(3*M*(mu + 2)*(3*mu**2 + mu*(5*nu + 12) + 2*nu**2 + 7*nu + 9) + 3*nu*(3*mu**3 + mu**2*(8*nu + 21) + mu*(7*nu**2 + 37*nu + 48) + 2*nu**3 + 16*nu**2 + 40*nu + 34)) + 4*(nu + 1)*(M*(mu + 2)*(3*mu + 2*nu + 3) + nu*(3*mu + 2*nu + 4))*(mu + nu + 3))/12 + b*nu*(M - 1)*(mu*(9*mu**3 + 3*mu**2*(8*nu + 21) + 3*mu*(7*nu**2 + 37*nu + 48) + 6*nu**3 + 48*nu**2 + 120*nu + 102) + 8*(nu + 1)*(mu + nu + 3)*(3*mu + 2*nu + 4))/12"
      ]
     },
     "execution_count": 134,
     "metadata": {},
     "output_type": "execute_result"
    }
   ],
   "source": [
    "# C_0 proportional to\n",
    "C_0_propto = -a*((4*lambda_1S_final/12)+(3*lambda_3S_final/12)) + b*(((8*lambda_1D_final)/12)+(3*lambda_3D_final/12))\n",
    "\n",
    "C_0_a = C_0_propto.subs(b, 0).subs(a, -1)\n",
    "C_0_a_collect = 12*C_0_a\n",
    "C_0_a_collect = collect(C_0_a_collect, M*(mu+2))\n",
    "C_0_a_collect = collect(C_0_a_collect, nu)\n",
    "C_0_a_collect = collect(C_0_a_collect, mu)\n",
    "\n",
    "C_0_b = C_0_propto.subs(a, 0).subs(b, 1)\n",
    "C_0_b_collect = 12*C_0_b\n",
    "C_0_b_collect = collect(C_0_b_collect, nu*(M-1))\n",
    "C_0_b_collect = collect(C_0_b_collect, mu)\n",
    "\n",
    "C_0_propto = (-a*C_0_a_collect + b*C_0_b_collect)/12\n",
    "C_0_propto"
   ]
  },
  {
   "cell_type": "code",
   "execution_count": 135,
   "id": "afad4eed-8ff1-4c0f-a660-f890b21b8232",
   "metadata": {},
   "outputs": [
    {
     "data": {
      "text/latex": [
       "$\\displaystyle - \\frac{a \\left(M \\left(\\mu + 2\\right) \\left(9 \\mu^{3} + 3 \\mu^{2} \\cdot \\left(9 \\nu + 16\\right) + \\mu \\left(2 \\nu + 3\\right) \\left(13 \\nu + 25\\right) + \\left(\\nu + 3\\right) \\left(2 \\nu + 3\\right) \\left(4 \\nu + 4\\right)\\right) + \\nu \\left(9 \\mu^{4} + 3 \\mu^{3} \\cdot \\left(8 \\nu + 21\\right) + 3 \\mu^{2} \\left(\\nu + 4\\right) \\left(7 \\nu + 13\\right) + 2 \\mu \\left(3 \\nu + 7\\right) \\left(\\nu \\left(\\nu + 9\\right) + 11\\right) + \\left(\\nu + 2\\right) \\left(\\nu + 3\\right) \\left(8 \\nu + 8\\right)\\right)\\right)}{12} + \\frac{b \\nu \\left(M - 1\\right) \\left(9 \\mu^{4} + 3 \\mu^{3} \\cdot \\left(8 \\nu + 21\\right) + 3 \\mu^{2} \\left(\\nu \\left(7 \\nu + 45\\right) + 56\\right) + \\mu \\left(2 \\nu \\left(\\nu \\left(3 \\nu + 44\\right) + 132\\right) + 206\\right) + \\left(\\nu + 2\\right) \\left(\\nu + 3\\right) \\left(16 \\nu + 16\\right)\\right)}{12}$"
      ],
      "text/plain": [
       "-a*(M*(mu + 2)*(9*mu**3 + 3*mu**2*(9*nu + 16) + mu*(2*nu + 3)*(13*nu + 25) + (nu + 3)*(2*nu + 3)*(4*nu + 4)) + nu*(9*mu**4 + 3*mu**3*(8*nu + 21) + 3*mu**2*(nu + 4)*(7*nu + 13) + 2*mu*(3*nu + 7)*(nu*(nu + 9) + 11) + (nu + 2)*(nu + 3)*(8*nu + 8)))/12 + b*nu*(M - 1)*(9*mu**4 + 3*mu**3*(8*nu + 21) + 3*mu**2*(nu*(7*nu + 45) + 56) + mu*(2*nu*(nu*(3*nu + 44) + 132) + 206) + (nu + 2)*(nu + 3)*(16*nu + 16))/12"
      ]
     },
     "execution_count": 135,
     "metadata": {},
     "output_type": "execute_result"
    }
   ],
   "source": [
    "# equation (57-3)\n",
    "C_0_1 = -a*(M*(2+mu)*(9*mu**3+4*(1+nu)*(3+nu)*(3+2*nu)+3*mu**2*(16+9*nu)+mu*(3+2*nu)*(25+13*nu))+nu*(9*mu**4+8*(1+nu)*(2+nu)*(3+nu)+3*mu**2*(4+nu)*(13+7*nu)+3*mu**3*(21+8*nu)+2*mu*(7+3*nu)*(11+nu*(9+nu))))\n",
    "C_0_2 = b*(-1+M)*nu*(9*mu**4+16*(1+nu)*(2+nu)*(3+nu)+3*mu**3*(21+8*nu)+3*mu**2*(56+nu*(45+7*nu))+mu*(206+2*nu*(132+nu*(44+3*nu))))\n",
    "(C_0_1+C_0_2)/12"
   ]
  },
  {
   "cell_type": "code",
   "execution_count": 136,
   "id": "26f0439c-b9db-46d5-8bd8-3975fb24a454",
   "metadata": {},
   "outputs": [
    {
     "data": {
      "text/latex": [
       "$\\displaystyle 1$"
      ],
      "text/plain": [
       "1"
      ]
     },
     "execution_count": 136,
     "metadata": {},
     "output_type": "execute_result"
    }
   ],
   "source": [
    "# verification\n",
    "factor(C_0_propto/(factor((C_0_1+C_0_2)/12)))"
   ]
  },
  {
   "cell_type": "markdown",
   "id": "4311046a-2b82-4edf-876c-7661351d332b",
   "metadata": {},
   "source": [
    "### Conditions for the evolution of homophily\n",
    "\n",
    "Actually, the distribution of $p_k$ in discrete case is $\\langle x_k \\rangle$, so in discrete case\n",
    "\\begin{align}\n",
    "    \\langle\\, p \\,\\rangle = \\sum_{k=1}^{n} p_k \\langle x_k \\rangle = \\sum_{k=1}^{n} \\dfrac{p_k}{n} + \\dfrac{\\beta (1-u)}{Nu} \\sum_{k=1}^{n} p_k \\left( \\sum_j \\langle \\pi_{kj} q_{kj} \\rangle - \\sum_i \\sum_j \\langle x_k \\pi_{ij} q_{ij} \\rangle \\right)\n",
    "\\end{align}\n",
    "\n",
    "Similar to the previous calculation, make $n \\rightarrow \\infty$, then\n",
    "\\begin{align}\n",
    "    \\sum_{k=1}^{n} \\dfrac{p_k}{n} \\; \\longrightarrow \\; \\int_{0}^{1} p \\, dp = \\dfrac{1}{2} \\qquad \\qquad \\sum_{k=1}^{n} p_k \\left( \\sum_j \\langle \\pi_{kj} q_{kj} \\rangle - \\sum_i \\sum_j \\langle x_k \\pi_{ij} q_{ij} \\rangle \\right) \\; \\longrightarrow \\; \\int_{0}^{1} p \\mathcal{D}(p) \\, dp\n",
    "\\end{align}\n",
    "\n",
    "so, we know\n",
    "\\begin{align}\n",
    "    \\langle\\, p \\,\\rangle = \\dfrac{1}{2} + \\dfrac{\\beta (1-u)}{Nu} \\int_{0}^{1} p \\mathcal{D}(p) \\, dp\n",
    "\\end{align}\n",
    "\n",
    "finally, we can get the following equivalence\n",
    "\\begin{align}\n",
    "    \\langle\\, p \\,\\rangle > \\dfrac{1}{2} \\qquad \\Longleftrightarrow \\qquad \\int_{0}^{1} p \\, \\mathcal{D}(p) \\, dp > 0\n",
    "\\end{align}\n",
    "\n",
    "here\n",
    "\\begin{align}\n",
    "    \\int_{0}^{1} p \\, \\mathcal{D}(p) \\, dp \\; \\propto \\; & Ma\\mu + 2Ma\\nu + 3Ma - Mb\\mu\\nu - Mb\\nu^2 - 2Mb\\nu + a\\mu\\nu + a\\nu^2 + 2a\\nu + b\\mu\\nu + b\\nu^2 + 2b\\nu \\\\\n",
    "     \\\\\n",
    "    = \\; & a \\left[ (\\mu+\\nu+3)M+\\nu(\\mu+\\nu+2) \\right] - b \\left[ \\nu(\\mu+\\nu+2)(M-1) \\right]\n",
    "\\end{align}\n",
    "\n",
    "so\n",
    "\\begin{align}\n",
    "    \\int_{0}^{1} p \\, \\mathcal{D}(p) \\, dp > 0 \\qquad \\Longleftrightarrow \\qquad a > \\dfrac{\\nu(\\mu+\\nu+2)(M-1)}{\\nu(\\mu+\\nu+2) + (\\mu+\\nu+3)M} \\cdot b\n",
    "\\end{align}"
   ]
  },
  {
   "cell_type": "code",
   "execution_count": 138,
   "id": "f84ef2ef-b3ee-4063-b3a0-d3aa864bf572",
   "metadata": {},
   "outputs": [
    {
     "data": {
      "text/latex": [
       "$\\displaystyle \\frac{N^{2} \\mu \\left(M a \\mu + 2 M a \\nu + 3 M a - M b \\mu \\nu - M b \\nu^{2} - 2 M b \\nu + a \\mu \\nu + a \\nu^{2} + 2 a \\nu + b \\mu \\nu + b \\nu^{2} + 2 b \\nu\\right)}{24 M n \\left(\\mu + 1\\right) \\left(\\nu + 1\\right) \\left(\\mu + \\nu + 3\\right)}$"
      ],
      "text/plain": [
       "N**2*mu*(M*a*mu + 2*M*a*nu + 3*M*a - M*b*mu*nu - M*b*nu**2 - 2*M*b*nu + a*mu*nu + a*nu**2 + 2*a*nu + b*mu*nu + b*nu**2 + 2*b*nu)/(24*M*n*(mu + 1)*(nu + 1)*(mu + nu + 3))"
      ]
     },
     "execution_count": 138,
     "metadata": {},
     "output_type": "execute_result"
    }
   ],
   "source": [
    "p_Dp = factor(integrate(C_2*p**3+C_1*p**2+C_0*p, (p, 0, 1)))\n",
    "p_Dp"
   ]
  },
  {
   "cell_type": "code",
   "execution_count": 139,
   "id": "d5b52c83-f1aa-4f6a-8313-d9e5342d3cba",
   "metadata": {},
   "outputs": [
    {
     "data": {
      "text/latex": [
       "$\\displaystyle M a \\mu + 2 M a \\nu + 3 M a - M b \\mu \\nu - M b \\nu^{2} - 2 M b \\nu + a \\mu \\nu + a \\nu^{2} + 2 a \\nu + b \\mu \\nu + b \\nu^{2} + 2 b \\nu$"
      ],
      "text/plain": [
       "M*a*mu + 2*M*a*nu + 3*M*a - M*b*mu*nu - M*b*nu**2 - 2*M*b*nu + a*mu*nu + a*nu**2 + 2*a*nu + b*mu*nu + b*nu**2 + 2*b*nu"
      ]
     },
     "execution_count": 139,
     "metadata": {},
     "output_type": "execute_result"
    }
   ],
   "source": [
    "p_Dp_propto = p_Dp/(Chi*(mu+2)*(mu+nu+1)*(3*mu+2*nu+6)/24)\n",
    "p_Dp_propto"
   ]
  },
  {
   "cell_type": "code",
   "execution_count": 140,
   "id": "6a6ccb81-78fd-475f-9625-14b818d76a14",
   "metadata": {},
   "outputs": [
    {
     "data": {
      "text/latex": [
       "$\\displaystyle a \\left(M \\left(\\mu + 2 \\nu + 3\\right) + \\mu \\nu + \\nu^{2} + 2 \\nu\\right) + b \\left(1 - M\\right) \\left(\\mu \\nu + \\nu^{2} + 2 \\nu\\right)$"
      ],
      "text/plain": [
       "a*(M*(mu + 2*nu + 3) + mu*nu + nu**2 + 2*nu) + b*(1 - M)*(mu*nu + nu**2 + 2*nu)"
      ]
     },
     "execution_count": 140,
     "metadata": {},
     "output_type": "execute_result"
    }
   ],
   "source": [
    "p_Dp_collect = collect(collect(collect(p_Dp_propto, [a,b]), M), mu*nu+nu**2+2*nu)\n",
    "p_Dp_collect"
   ]
  },
  {
   "cell_type": "markdown",
   "id": "2e5c1e9b-d9cb-4960-8716-276c47ed15b3",
   "metadata": {},
   "source": [
    "## Visulazation"
   ]
  },
  {
   "cell_type": "markdown",
   "id": "fe0f9512-3316-412c-a9be-bd2e432c5325",
   "metadata": {},
   "source": [
    "### Module"
   ]
  },
  {
   "cell_type": "code",
   "execution_count": 143,
   "id": "f5aaf117-2222-4cbd-bad3-16ebc20000b7",
   "metadata": {},
   "outputs": [],
   "source": [
    "import matplotlib.pyplot as plt\n",
    "import numpy as np"
   ]
  },
  {
   "cell_type": "markdown",
   "id": "c08598d5-6492-46de-8bf3-f6135e3f3c57",
   "metadata": {},
   "source": [
    "### FIG. S1( $b>0$ )\n",
    "\n",
    "$\\mu = 1.2$, $\\nu = 1.8$, $M = 3$, $b = 1$, ($\\textbf{a}$-$\\textbf{k}$), respectively, $a = −3$, $−\\dfrac{14}{41}$, $\\dfrac{100}{683}$, $\\dfrac{150}{683}$, $\\dfrac{562}{1475}$, $\\dfrac{24}{59}$, $\\dfrac{5}{9}$, $\\dfrac{700}{901}$, $\\dfrac{758}{901}$, $\\dfrac{220}{109}$, $5$"
   ]
  },
  {
   "cell_type": "markdown",
   "id": "1adf3a8f-c229-4154-bd60-69c3dfc78975",
   "metadata": {
    "jp-MarkdownHeadingCollapsed": true
   },
   "source": [
    "#### Painting Function"
   ]
  },
  {
   "cell_type": "code",
   "execution_count": 146,
   "id": "27472725-4152-4de1-afb3-abee9a41c0ac",
   "metadata": {},
   "outputs": [],
   "source": [
    "def paint_S1():\n",
    "    fig, axes = plt.subplots(4, 3, figsize=(13, 10))\n",
    "    \n",
    "    ###################################################### axes[0, 0] ######################################################\n",
    "    x = np.linspace(0, 1, 40000)\n",
    "    y_1 = -5273.856*x**2 - 4458.24*x + 3987.072\n",
    "    y_2 = x-x\n",
    "    axes[0, 0].plot(x, y_1, color='#D93831', linewidth = 1.5)\n",
    "    axes[0, 0].plot(x, y_2, color='#2A4EA3', linewidth = 1.5)\n",
    "    \n",
    "    axes[0, 0].set_xlim(-0.1, 1.1)\n",
    "    axes[0, 0].set_ylim(-5966, 4208)\n",
    "    \n",
    "    axes[0, 0].text(-0.075, 4150, 'a', fontsize=12, fontname='Arial', fontweight='bold', ha='center', va='center')\n",
    "    axes[0, 0].text(0, -800, '0', fontsize=12, fontname='Times New Roman', fontweight='bold', ha='center', va='center')\n",
    "    axes[0, 0].text(1, -800, '1', fontsize=12, fontname='Times New Roman', fontweight='bold', ha='center', va='center')\n",
    "    axes[0, 0].scatter(0.544104503018486, 0, s = 10, color='black', zorder = 5)\n",
    "    \n",
    "    axes[0, 0].set_xticks([])\n",
    "    axes[0, 0].set_yticks([])\n",
    "    axes[0, 0].set_xticklabels([])\n",
    "    axes[0, 0].set_yticklabels([])\n",
    "    axes[0, 0].grid(False)\n",
    "    axes[0, 0].spines['top'].set_color('none')\n",
    "    axes[0, 0].spines['right'].set_color('none')\n",
    "    axes[0, 0].spines['left'].set_color('none')\n",
    "    axes[0, 0].spines['bottom'].set_color('none')\n",
    "    ########################################################################################################################\n",
    "    \n",
    "    ###################################################### axes[0, 1] ######################################################\n",
    "    x = np.linspace(0, 1, 40000)\n",
    "    y_1 = -2455.27726829268*x + 1227.63863414634\n",
    "    y_2 = x-x\n",
    "    axes[0, 1].plot(x, y_1, color='#D93831', linewidth = 1.5)\n",
    "    axes[0, 1].plot(x, y_2, color='#2A4EA3', linewidth = 1.5)\n",
    "    \n",
    "    axes[0, 1].set_xlim(-0.1, 1.1)\n",
    "    axes[0, 1].set_ylim(-1298, 1298)\n",
    "    \n",
    "    axes[0, 1].text(-0.075, 1270, 'b', fontsize=12, fontname='Arial', fontweight='bold', ha='center', va='center')\n",
    "    axes[0, 1].text(0, -200, '0', fontsize=12, fontname='Times New Roman', fontweight='bold', ha='center', va='center')\n",
    "    axes[0, 1].text(1, -200, '1', fontsize=12, fontname='Times New Roman', fontweight='bold', ha='center', va='center')\n",
    "    axes[0, 1].scatter(0.5, 0, s = 10, color='black', zorder = 5)\n",
    "    \n",
    "    axes[0, 1].set_xticks([])\n",
    "    axes[0, 1].set_yticks([])\n",
    "    axes[0, 1].set_xticklabels([])\n",
    "    axes[0, 1].set_yticklabels([])\n",
    "    axes[0, 1].grid(False)\n",
    "    axes[0, 1].spines['top'].set_color('none')\n",
    "    axes[0, 1].spines['right'].set_color('none')\n",
    "    axes[0, 1].spines['left'].set_color('none')\n",
    "    axes[0, 1].spines['bottom'].set_color('none')\n",
    "    ########################################################################################################################\n",
    "\n",
    "    ###################################################### axes[0, 2] ######################################################\n",
    "    x = np.linspace(0, 1, 40000)\n",
    "    y_1 = 967.821680819912*x**2 - 2087.70736163982*x + 721.246453879941\n",
    "    y_2 = x-x\n",
    "    axes[0, 2].plot(x, y_1, color='#D93831', linewidth = 1.5)\n",
    "    axes[0, 2].plot(x, y_2, color='#2A4EA3', linewidth = 1.5)\n",
    "    \n",
    "    axes[0, 2].set_xlim(-0.1, 1.1)\n",
    "    axes[0, 2].set_ylim(-409, 732)\n",
    "    \n",
    "    axes[0, 2].text(-0.075, 725, 'c', fontsize=12, fontname='Arial', fontweight='bold', ha='center', va='center')\n",
    "    axes[0, 2].text(0, -90, '0', fontsize=12, fontname='Times New Roman', fontweight='bold', ha='center', va='center')\n",
    "    axes[0, 2].text(1, -90, '1', fontsize=12, fontname='Times New Roman', fontweight='bold', ha='center', va='center')\n",
    "    axes[0, 2].scatter(0.431980525420346, 0, s = 10, color='black', zorder = 5)\n",
    "    \n",
    "    axes[0, 2].set_xticks([])\n",
    "    axes[0, 2].set_yticks([])\n",
    "    axes[0, 2].set_xticklabels([])\n",
    "    axes[0, 2].set_yticklabels([])\n",
    "    axes[0, 2].grid(False)\n",
    "    axes[0, 2].spines['top'].set_color('none')\n",
    "    axes[0, 2].spines['right'].set_color('none')\n",
    "    axes[0, 2].spines['left'].set_color('none')\n",
    "    axes[0, 2].spines['bottom'].set_color('none')\n",
    "    ########################################################################################################################\n",
    "    \n",
    "    ###################################################### axes[1, 0] ######################################################\n",
    "    x = np.linspace(0, 1, 40000)\n",
    "    y_1 = 1113.04452122987*x**2 - 2032.55304245974*x + 645.261680819912\n",
    "    y_2 = x-x\n",
    "    axes[1, 0].plot(x, y_1, color='#D93831', linewidth = 1.5)\n",
    "    axes[1, 0].plot(x, y_2, color='#2A4EA3', linewidth = 1.5)\n",
    "    \n",
    "    axes[1, 0].set_xlim(-0.1, 1.1)\n",
    "    axes[1, 0].set_ylim(-293, 656)\n",
    "    \n",
    "    axes[1, 0].text(-0.075, 635, 'd', fontsize=12, fontname='Arial', fontweight='bold', ha='center', va='center')\n",
    "    axes[1, 0].text(0, -75, '0', fontsize=12, fontname='Times New Roman', fontweight='bold', ha='center', va='center')\n",
    "    axes[1, 0].text(1, -75, '1', fontsize=12, fontname='Times New Roman', fontweight='bold', ha='center', va='center')\n",
    "    axes[1, 0].scatter(0.409123613015897, 0, s = 10, color='black', zorder = 5)\n",
    "    \n",
    "    axes[1, 0].set_xticks([])\n",
    "    axes[1, 0].set_yticks([])\n",
    "    axes[1, 0].set_xticklabels([])\n",
    "    axes[1, 0].set_yticklabels([])\n",
    "    axes[1, 0].grid(False)\n",
    "    axes[1, 0].spines['top'].set_color('none')\n",
    "    axes[1, 0].spines['right'].set_color('none')\n",
    "    axes[1, 0].spines['left'].set_color('none')\n",
    "    axes[1, 0].spines['bottom'].set_color('none')\n",
    "    ########################################################################################################################\n",
    "    \n",
    "    ###################################################### axes[1, 1] ######################################################\n",
    "    x = np.linspace(0, 1, 40000)\n",
    "    y_1 = 1433.21608677966*x**2 - 1910.95478237288*x + 477.73869559322\n",
    "    y_2 = x-x\n",
    "    axes[1, 1].plot(x, y_1, color='#D93831', linewidth = 1.5)\n",
    "    axes[1, 1].plot(x, y_2, color='#2A4EA3', linewidth = 1.5)\n",
    "    \n",
    "    axes[1, 1].set_xlim(-0.1, 1.1)\n",
    "    axes[1, 1].set_ylim(-170, 488)\n",
    "    \n",
    "    axes[1, 1].text(-0.075, 475, 'e', fontsize=12, fontname='Arial', fontweight='bold', ha='center', va='center')\n",
    "    axes[1, 1].text(0, -53, '0', fontsize=12, fontname='Times New Roman', fontweight='bold', ha='center', va='center')\n",
    "    axes[1, 1].text(1, -53, '1', fontsize=12, fontname='Times New Roman', fontweight='bold', ha='center', va='center')\n",
    "    axes[1, 1].scatter(1/3, 0, s = 10, color='black', zorder = 5)\n",
    "    axes[1, 1].scatter(1, 0, s = 10, color='black', zorder = 6)\n",
    "    \n",
    "    axes[1, 1].set_xticks([])\n",
    "    axes[1, 1].set_yticks([])\n",
    "    axes[1, 1].set_xticklabels([])\n",
    "    axes[1, 1].set_yticklabels([])\n",
    "    axes[1, 1].grid(False)\n",
    "    axes[1, 1].spines['top'].set_color('none')\n",
    "    axes[1, 1].spines['right'].set_color('none')\n",
    "    axes[1, 1].spines['left'].set_color('none')\n",
    "    axes[1, 1].spines['bottom'].set_color('none')\n",
    "    ########################################################################################################################\n",
    "    \n",
    "    ###################################################### axes[1, 2] ######################################################\n",
    "    x = np.linspace(0, 1, 40000)\n",
    "    y_1 = 1484.32271186441*x**2 - 1891.54494915254*x + 450.998237288136\n",
    "    y_2 = x-x\n",
    "    axes[1, 2].plot(x, y_1, color='#D93831', linewidth = 1.5)\n",
    "    axes[1, 2].plot(x, y_2, color='#2A4EA3', linewidth = 1.5)\n",
    "    \n",
    "    axes[1, 2].set_xlim(-0.1, 1.1)\n",
    "    axes[1, 2].set_ylim(-162, 461)\n",
    "    \n",
    "    axes[1, 2].text(-0.075, 455, 'f', fontsize=12, fontname='Arial', fontweight='bold', ha='center', va='center')\n",
    "    axes[1, 2].text(0, -52, '0', fontsize=12, fontname='Times New Roman', fontweight='bold', ha='center', va='center')\n",
    "    axes[1, 2].text(1, -52, '1', fontsize=12, fontname='Times New Roman', fontweight='bold', ha='center', va='center')\n",
    "    axes[1, 2].scatter(0.317565045925659, 0, s = 10, color='black', zorder = 5)\n",
    "    axes[1, 2].scatter(0.956783809638661, 0, s = 10, color='black', zorder = 6)\n",
    "    \n",
    "    axes[1, 2].set_xticks([])\n",
    "    axes[1, 2].set_yticks([])\n",
    "    axes[1, 2].set_xticklabels([])\n",
    "    axes[1, 2].set_yticklabels([])\n",
    "    axes[1, 2].grid(False)\n",
    "    axes[1, 2].spines['top'].set_color('none')\n",
    "    axes[1, 2].spines['right'].set_color('none')\n",
    "    axes[1, 2].spines['left'].set_color('none')\n",
    "    axes[1, 2].spines['bottom'].set_color('none')\n",
    "    ########################################################################################################################\n",
    "    \n",
    "    ###################################################### axes[2, 0] ######################################################\n",
    "    x = np.linspace(0, 1, 40000)\n",
    "    y_1 = 1779.456*x**2 - 1779.456*x + 296.576\n",
    "    y_2 = x-x\n",
    "    axes[2, 0].plot(x, y_1, color='#D93831', linewidth = 1.5)\n",
    "    axes[2, 0].plot(x, y_2, color='#2A4EA3', linewidth = 1.5)\n",
    "    \n",
    "    axes[2, 0].set_xlim(-0.1, 1.1)\n",
    "    axes[2, 0].set_ylim(-159, 307)\n",
    "    \n",
    "    axes[2, 0].text(-0.075, 300, 'g', fontsize=12, fontname='Arial', fontweight='bold', ha='center', va='center')\n",
    "    axes[2, 0].text(0, -35, '0', fontsize=12, fontname='Times New Roman', fontweight='bold', ha='center', va='center')\n",
    "    axes[2, 0].text(1, -35, '1', fontsize=12, fontname='Times New Roman', fontweight='bold', ha='center', va='center')\n",
    "    axes[2, 0].scatter(0.211324865405187, 0, s = 10, color='black', zorder = 5)\n",
    "    axes[2, 0].scatter(0.788675134594813, 0, s = 10, color='black', zorder = 6)\n",
    "    \n",
    "    axes[2, 0].set_xticks([])\n",
    "    axes[2, 0].set_yticks([])\n",
    "    axes[2, 0].set_xticklabels([])\n",
    "    axes[2, 0].set_yticklabels([])\n",
    "    axes[2, 0].grid(False)\n",
    "    axes[2, 0].spines['top'].set_color('none')\n",
    "    axes[2, 0].spines['right'].set_color('none')\n",
    "    axes[2, 0].spines['left'].set_color('none')\n",
    "    axes[2, 0].spines['bottom'].set_color('none')\n",
    "    ########################################################################################################################\n",
    "    \n",
    "    ###################################################### axes[2, 1] ######################################################\n",
    "    x = np.linspace(0, 1, 40000)\n",
    "    y_1 = 2218.57555604883*x**2 - 1612.68237069922*x + 66.816\n",
    "    y_2 = x-x\n",
    "    axes[2, 1].plot(x, y_1, color='#D93831', linewidth = 1.5)\n",
    "    axes[2, 1].plot(x, y_2, color='#2A4EA3', linewidth = 1.5)\n",
    "    \n",
    "    axes[2, 1].set_xlim(-0.1, 1.1)\n",
    "    axes[2, 1].set_ylim(-237, 683)\n",
    "    \n",
    "    axes[2, 1].text(-0.075, 668, 'h', fontsize=12, fontname='Arial', fontweight='bold', ha='center', va='center')\n",
    "    axes[2, 1].text(0, -70, '0', fontsize=12, fontname='Times New Roman', fontweight='bold', ha='center', va='center')\n",
    "    axes[2, 1].text(1, -70, '1', fontsize=12, fontname='Times New Roman', fontweight='bold', ha='center', va='center')\n",
    "    axes[2, 1].scatter(0.0441080560981177, 0, s = 10, color='black', zorder = 5)\n",
    "    axes[2, 1].scatter(0.682791853306512, 0, s = 10, color='black', zorder = 6)\n",
    "    \n",
    "    axes[2, 1].set_xticks([])\n",
    "    axes[2, 1].set_yticks([])\n",
    "    axes[2, 1].set_xticklabels([])\n",
    "    axes[2, 1].set_yticklabels([])\n",
    "    axes[2, 1].grid(False)\n",
    "    axes[2, 1].spines['top'].set_color('none')\n",
    "    axes[2, 1].spines['right'].set_color('none')\n",
    "    axes[2, 1].spines['left'].set_color('none')\n",
    "    axes[2, 1].spines['bottom'].set_color('none')\n",
    "    ########################################################################################################################\n",
    "    \n",
    "    ###################################################### axes[2, 2] ######################################################\n",
    "    x = np.linspace(0, 1, 40000)\n",
    "    y_1 = 2346.27494783574*x**2 - 1564.18329855716*x\n",
    "    y_2 = x-x\n",
    "    axes[2, 2].plot(x, y_1, color='#D93831', linewidth = 1.5)\n",
    "    axes[2, 2].plot(x, y_2, color='#2A4EA3', linewidth = 1.5)\n",
    "    \n",
    "    axes[2, 2].set_xlim(-0.1, 1.1)\n",
    "    axes[2, 2].set_ylim(-271, 793)\n",
    "    \n",
    "    axes[2, 2].text(-0.075, 780, 'i', fontsize=12, fontname='Arial', fontweight='bold', ha='center', va='center')\n",
    "    axes[2, 2].text(0, -84, '0', fontsize=12, fontname='Times New Roman', fontweight='bold', ha='center', va='center')\n",
    "    axes[2, 2].text(1, -84, '1', fontsize=12, fontname='Times New Roman', fontweight='bold', ha='center', va='center')\n",
    "    axes[2, 2].scatter(0, 0, s = 10, color='black', zorder = 5)\n",
    "    axes[2, 2].scatter(2/3, 0, s = 10, color='black', zorder = 6)\n",
    "    \n",
    "    axes[2, 2].set_xticks([])\n",
    "    axes[2, 2].set_yticks([])\n",
    "    axes[2, 2].set_xticklabels([])\n",
    "    axes[2, 2].set_yticklabels([])\n",
    "    axes[2, 2].grid(False)\n",
    "    axes[2, 2].spines['top'].set_color('none')\n",
    "    axes[2, 2].spines['right'].set_color('none')\n",
    "    axes[2, 2].spines['left'].set_color('none')\n",
    "    axes[2, 2].spines['bottom'].set_color('none')\n",
    "    ########################################################################################################################\n",
    "    \n",
    "    ###################################################### axes[3, 0] ######################################################\n",
    "    x = np.linspace(0, 1, 40000)\n",
    "    y_1 = 4681.26297247706*x**2 - 677.376*x - 1221.73299082569\n",
    "    y_2 = x-x\n",
    "    axes[3, 0].plot(x, y_1, color='#D93831', linewidth = 1.5)\n",
    "    axes[3, 0].plot(x, y_2, color='#2A4EA3', linewidth = 1.5)\n",
    "    \n",
    "    axes[3, 0].set_xlim(-0.1, 1.1)\n",
    "    axes[3, 0].set_ylim(-1317, 2853)\n",
    "    \n",
    "    axes[3, 0].text(-0.075, 2820, 'j', fontsize=12, fontname='Arial', fontweight='bold', ha='center', va='center')\n",
    "    axes[3, 0].text(0, -350, '0', fontsize=12, fontname='Times New Roman', fontweight='bold', ha='center', va='center')\n",
    "    axes[3, 0].text(1, -350, '1', fontsize=12, fontname='Times New Roman', fontweight='bold', ha='center', va='center')\n",
    "    axes[3, 0].scatter(0.588312986961346, 0, s = 10, color='black', zorder = 5)\n",
    "    \n",
    "    axes[3, 0].set_xticks([])\n",
    "    axes[3, 0].set_yticks([])\n",
    "    axes[3, 0].set_xticklabels([])\n",
    "    axes[3, 0].set_yticklabels([])\n",
    "    axes[3, 0].grid(False)\n",
    "    axes[3, 0].spines['top'].set_color('none')\n",
    "    axes[3, 0].spines['right'].set_color('none')\n",
    "    axes[3, 0].spines['left'].set_color('none')\n",
    "    axes[3, 0].spines['bottom'].set_color('none')\n",
    "    ########################################################################################################################\n",
    "    \n",
    "    ###################################################### axes[3, 1] ######################################################\n",
    "    x = np.linspace(0, 1, 40000)\n",
    "    y_1 = 10596.096*x**2 + 1569.024*x - 4316.544\n",
    "    y_2 = x-x\n",
    "    axes[3, 1].plot(x, y_1, color='#D93831', linewidth = 1.5)\n",
    "    axes[3, 1].plot(x, y_2, color='#2A4EA3', linewidth = 1.5)\n",
    "    \n",
    "    axes[3, 1].set_xlim(-0.1, 1.1)\n",
    "    axes[3, 1].set_ylim(-4387, 7919)\n",
    "    \n",
    "    axes[3, 1].text(-0.075, 7880, 'k', fontsize=12, fontname='Arial', fontweight='bold', ha='center', va='center')\n",
    "    axes[3, 1].text(0, -975, '0', fontsize=12, fontname='Times New Roman', fontweight='bold', ha='center', va='center')\n",
    "    axes[3, 1].text(1, -975, '1', fontsize=12, fontname='Times New Roman', fontweight='bold', ha='center', va='center')\n",
    "    axes[3, 1].scatter(0.568498365878286, 0, s = 10, color='black', zorder = 5)\n",
    "    \n",
    "    axes[3, 1].set_xticks([])\n",
    "    axes[3, 1].set_yticks([])\n",
    "    axes[3, 1].set_xticklabels([])\n",
    "    axes[3, 1].set_yticklabels([])\n",
    "    axes[3, 1].grid(False)\n",
    "    axes[3, 1].spines['top'].set_color('none')\n",
    "    axes[3, 1].spines['right'].set_color('none')\n",
    "    axes[3, 1].spines['left'].set_color('none')\n",
    "    axes[3, 1].spines['bottom'].set_color('none')\n",
    "    ########################################################################################################################\n",
    "        \n",
    "    ###################################################### axes[3, 2] ######################################################\n",
    "    axes[3, 2].set_xlim(-2, 2.7)\n",
    "    axes[3, 2].set_ylim(-2, 2)\n",
    "    axes[3, 2].annotate('',\n",
    "                        xy=(-0.7, 1.7), xycoords='data',\n",
    "                        xytext=(-0.7, -1.3), textcoords='data',\n",
    "                        arrowprops=dict(edgecolor='black', facecolor='black', shrink=0, headwidth=5, width=0.3))\n",
    "    axes[3, 2].annotate('',\n",
    "                        xy=(1.5, -1.3), xycoords='data',\n",
    "                        xytext=(-0.7, -1.3), textcoords='data',\n",
    "                        arrowprops=dict(edgecolor='black', facecolor='black', shrink=0, headwidth=5, width=0.3))\n",
    "    axes[3, 2].text(-0.85, -1.5, '0', fontsize=13, fontname='Times New Roman', fontweight='bold', ha='center', va='center')\n",
    "    axes[3, 2].text(1.6, -1.5, 'x', fontsize=13, fontname='Times New Roman', fontweight='bold', fontstyle='italic',\n",
    "                    ha='center', va='center')\n",
    "    axes[3, 2].text(-0.85, 1.9, 'y', fontsize=13, fontname='Times New Roman', fontweight='bold', fontstyle='italic',\n",
    "                    ha='center', va='center')\n",
    "    axes[3, 2].grid(False)\n",
    "    axes[3, 2].set_xticks([])\n",
    "    axes[3, 2].set_yticks([])\n",
    "    axes[3, 2].spines['right'].set_color('none')\n",
    "    axes[3, 2].spines['top'].set_color('none')\n",
    "    axes[3, 2].spines['left'].set_color('none')\n",
    "    axes[3, 2].spines['bottom'].set_color('none')\n",
    "    ########################################################################################################################\n",
    "    \n",
    "    # save the figure\n",
    "    # plt.savefig('Feng2012_FIG_S1.png', format='png', dpi = 900)\n",
    "    \n",
    "    plt.show()"
   ]
  },
  {
   "cell_type": "markdown",
   "id": "924576f2-ea21-45d0-b319-92b2d054db9d",
   "metadata": {},
   "source": [
    "#### Figure"
   ]
  },
  {
   "cell_type": "code",
   "execution_count": 148,
   "id": "dd9610e8-a0f6-43e7-91ed-eabc76eaa125",
   "metadata": {},
   "outputs": [
    {
     "data": {
      "image/png": "[encoded data removed]",
      "text/plain": [
       "<Figure size 1300x1000 with 12 Axes>"
      ]
     },
     "metadata": {},
     "output_type": "display_data"
    }
   ],
   "source": [
    "paint_S1()"
   ]
  },
  {
   "cell_type": "markdown",
   "id": "66fd29e6-162e-45fa-acaa-c375733683b1",
   "metadata": {},
   "source": [
    "### FIG. S2( $b<0$ )"
   ]
  },
  {
   "cell_type": "markdown",
   "id": "f2e70122-8ccb-436a-af5c-3766fd96aafd",
   "metadata": {
    "jp-MarkdownHeadingCollapsed": true
   },
   "source": [
    "#### Painting Function"
   ]
  },
  {
   "cell_type": "code",
   "execution_count": 151,
   "id": "3a1027eb-d688-4c69-9b70-45dee2e58e55",
   "metadata": {},
   "outputs": [],
   "source": [
    "def paint_S2():\n",
    "    fig, axes = plt.subplots(4, 3, figsize=(13, 10))\n",
    "    \n",
    "    ###################################################### axes[0, 0] ######################################################\n",
    "    x = np.linspace(0, 1, 40000)\n",
    "    y_1 = -10596.096*x**2 - 1569.024*x + 4316.544\n",
    "    y_2 = x-x\n",
    "    axes[0, 0].plot(x, y_1, color='#D93831', linewidth = 1.5)\n",
    "    axes[0, 0].plot(x, y_2, color='#2A4EA3', linewidth = 1.5)\n",
    "    \n",
    "    axes[0, 0].set_xlim(-0.1, 1.1)\n",
    "    axes[0, 0].set_ylim(-7959, 4387)\n",
    "    \n",
    "    axes[0, 0].text(-0.075, 4348, 'a', fontsize=12, fontname='Arial', fontweight='bold', ha='center', va='center')\n",
    "    axes[0, 0].text(0, -975, '0', fontsize=12, fontname='Times New Roman', fontweight='bold', ha='center', va='center')\n",
    "    axes[0, 0].text(1, -975, '1', fontsize=12, fontname='Times New Roman', fontweight='bold', ha='center', va='center')\n",
    "    axes[0, 0].scatter(0.568498365878286, 0, s = 10, color='black', zorder = 5)\n",
    "    \n",
    "    axes[0, 0].set_xticks([])\n",
    "    axes[0, 0].set_yticks([])\n",
    "    axes[0, 0].set_xticklabels([])\n",
    "    axes[0, 0].set_yticklabels([])\n",
    "    axes[0, 0].grid(False)\n",
    "    axes[0, 0].spines['top'].set_color('none')\n",
    "    axes[0, 0].spines['right'].set_color('none')\n",
    "    axes[0, 0].spines['left'].set_color('none')\n",
    "    axes[0, 0].spines['bottom'].set_color('none')\n",
    "    ########################################################################################################################\n",
    "    \n",
    "    ###################################################### axes[0, 1] ######################################################\n",
    "    x = np.linspace(0, 1, 40000)\n",
    "    y_1 = -4681.26297247706*x**2 + 677.376*x + 1221.73299082569\n",
    "    y_2 = x-x\n",
    "    axes[0, 1].plot(x, y_1, color='#D93831', linewidth = 1.5)\n",
    "    axes[0, 1].plot(x, y_2, color='#2A4EA3', linewidth = 1.5)\n",
    "    \n",
    "    axes[0, 1].set_xlim(-0.1, 1.1)\n",
    "    axes[0, 1].set_ylim(-2853, 1317)\n",
    "    \n",
    "    axes[0, 1].text(-0.075, 1284, 'b', fontsize=12, fontname='Arial', fontweight='bold', ha='center', va='center')\n",
    "    axes[0, 1].text(0, -350, '0', fontsize=12, fontname='Times New Roman', fontweight='bold', ha='center', va='center')\n",
    "    axes[0, 1].text(1, -350, '1', fontsize=12, fontname='Times New Roman', fontweight='bold', ha='center', va='center')\n",
    "    axes[0, 1].scatter(0.588312986961346, 0, s = 10, color='black', zorder = 5)\n",
    "    \n",
    "    axes[0, 1].set_xticks([])\n",
    "    axes[0, 1].set_yticks([])\n",
    "    axes[0, 1].set_xticklabels([])\n",
    "    axes[0, 1].set_yticklabels([])\n",
    "    axes[0, 1].grid(False)\n",
    "    axes[0, 1].spines['top'].set_color('none')\n",
    "    axes[0, 1].spines['right'].set_color('none')\n",
    "    axes[0, 1].spines['left'].set_color('none')\n",
    "    axes[0, 1].spines['bottom'].set_color('none')\n",
    "    ########################################################################################################################\n",
    "\n",
    "    ###################################################### axes[0, 2] ######################################################\n",
    "    x = np.linspace(0, 1, 40000)\n",
    "    y_1 = -2346.27494783574*x**2 + 1564.18329855716*x\n",
    "    y_2 = x-x\n",
    "    axes[0, 2].plot(x, y_1, color='#D93831', linewidth = 1.5)\n",
    "    axes[0, 2].plot(x, y_2, color='#2A4EA3', linewidth = 1.5)\n",
    "    \n",
    "    axes[0, 2].set_xlim(-0.1, 1.1)\n",
    "    axes[0, 2].set_ylim(-793, 271)\n",
    "    \n",
    "    axes[0, 2].text(-0.075, 260, 'c', fontsize=12, fontname='Arial', fontweight='bold', ha='center', va='center')\n",
    "    axes[0, 2].text(0, -84, '0', fontsize=12, fontname='Times New Roman', fontweight='bold', ha='center', va='center')\n",
    "    axes[0, 2].text(1, -84, '1', fontsize=12, fontname='Times New Roman', fontweight='bold', ha='center', va='center')\n",
    "    axes[0, 2].scatter(0, 0, s = 10, color='black', zorder = 5)\n",
    "    axes[0, 2].scatter(2/3, 0, s = 10, color='black', zorder = 6)\n",
    "    \n",
    "    axes[0, 2].set_xticks([])\n",
    "    axes[0, 2].set_yticks([])\n",
    "    axes[0, 2].set_xticklabels([])\n",
    "    axes[0, 2].set_yticklabels([])\n",
    "    axes[0, 2].grid(False)\n",
    "    axes[0, 2].spines['top'].set_color('none')\n",
    "    axes[0, 2].spines['right'].set_color('none')\n",
    "    axes[0, 2].spines['left'].set_color('none')\n",
    "    axes[0, 2].spines['bottom'].set_color('none')\n",
    "    ########################################################################################################################\n",
    "    \n",
    "    ###################################################### axes[1, 0] ######################################################\n",
    "    x = np.linspace(0, 1, 40000)\n",
    "    y_1 = -2218.57555604883*x**2 + 1612.68237069922*x - 66.816\n",
    "    y_2 = x-x\n",
    "    axes[1, 0].plot(x, y_1, color='#D93831', linewidth = 1.5)\n",
    "    axes[1, 0].plot(x, y_2, color='#2A4EA3', linewidth = 1.5)\n",
    "    \n",
    "    axes[1, 0].set_xlim(-0.1, 1.1)\n",
    "    axes[1, 0].set_ylim(-683, 237)\n",
    "    \n",
    "    axes[1, 0].text(-0.075, 222, 'd', fontsize=12, fontname='Arial', fontweight='bold', ha='center', va='center')\n",
    "    axes[1, 0].text(0, 60, '0', fontsize=12, fontname='Times New Roman', fontweight='bold', ha='center', va='center')\n",
    "    axes[1, 0].text(1, 60, '1', fontsize=12, fontname='Times New Roman', fontweight='bold', ha='center', va='center')\n",
    "    axes[1, 0].scatter(0.0441080560981177, 0, s = 10, color='black', zorder = 5)\n",
    "    axes[1, 0].scatter(0.682791853306512, 0, s = 10, color='black', zorder = 6)\n",
    "    \n",
    "    axes[1, 0].set_xticks([])\n",
    "    axes[1, 0].set_yticks([])\n",
    "    axes[1, 0].set_xticklabels([])\n",
    "    axes[1, 0].set_yticklabels([])\n",
    "    axes[1, 0].grid(False)\n",
    "    axes[1, 0].spines['top'].set_color('none')\n",
    "    axes[1, 0].spines['right'].set_color('none')\n",
    "    axes[1, 0].spines['left'].set_color('none')\n",
    "    axes[1, 0].spines['bottom'].set_color('none')\n",
    "    ########################################################################################################################\n",
    "    \n",
    "    ###################################################### axes[1, 1] ######################################################\n",
    "    x = np.linspace(0, 1, 40000)\n",
    "    y_1 = -1779.456*x**2 + 1779.456*x - 296.576\n",
    "    y_2 = x-x\n",
    "    axes[1, 1].plot(x, y_1, color='#D93831', linewidth = 1.5)\n",
    "    axes[1, 1].plot(x, y_2, color='#2A4EA3', linewidth = 1.5)\n",
    "    \n",
    "    axes[1, 1].set_xlim(-0.1, 1.1)\n",
    "    axes[1, 1].set_ylim(-307, 159)\n",
    "    \n",
    "    axes[1, 1].text(-0.075, 152, 'e', fontsize=12, fontname='Arial', fontweight='bold', ha='center', va='center')\n",
    "    axes[1, 1].text(0, -35, '0', fontsize=12, fontname='Times New Roman', fontweight='bold', ha='center', va='center')\n",
    "    axes[1, 1].text(1, -35, '1', fontsize=12, fontname='Times New Roman', fontweight='bold', ha='center', va='center')\n",
    "    axes[1, 1].scatter(0.211324865405187, 0, s = 10, color='black', zorder = 5)\n",
    "    axes[1, 1].scatter(0.788675134594813, 0, s = 10, color='black', zorder = 6)\n",
    "    \n",
    "    axes[1, 1].set_xticks([])\n",
    "    axes[1, 1].set_yticks([])\n",
    "    axes[1, 1].set_xticklabels([])\n",
    "    axes[1, 1].set_yticklabels([])\n",
    "    axes[1, 1].grid(False)\n",
    "    axes[1, 1].spines['top'].set_color('none')\n",
    "    axes[1, 1].spines['right'].set_color('none')\n",
    "    axes[1, 1].spines['left'].set_color('none')\n",
    "    axes[1, 1].spines['bottom'].set_color('none')\n",
    "    ########################################################################################################################\n",
    "    \n",
    "    ###################################################### axes[1, 2] ######################################################\n",
    "    x = np.linspace(0, 1, 40000)\n",
    "    y_1 = -1484.32271186441*x**2 + 1891.54494915254*x - 450.998237288136\n",
    "    y_2 = x-x\n",
    "    axes[1, 2].plot(x, y_1, color='#D93831', linewidth = 1.5)\n",
    "    axes[1, 2].plot(x, y_2, color='#2A4EA3', linewidth = 1.5)\n",
    "    \n",
    "    axes[1, 2].set_xlim(-0.1, 1.1)\n",
    "    axes[1, 2].set_ylim(-461, 162)\n",
    "    \n",
    "    axes[1, 2].text(-0.075, 156, 'f', fontsize=12, fontname='Arial', fontweight='bold', ha='center', va='center')\n",
    "    axes[1, 2].text(0, 40, '0', fontsize=12, fontname='Times New Roman', fontweight='bold', ha='center', va='center')\n",
    "    axes[1, 2].text(1, 40, '1', fontsize=12, fontname='Times New Roman', fontweight='bold', ha='center', va='center')\n",
    "    axes[1, 2].scatter(0.317565045925659, 0, s = 10, color='black', zorder = 5)\n",
    "    axes[1, 2].scatter(0.956783809638661, 0, s = 10, color='black', zorder = 6)\n",
    "    \n",
    "    axes[1, 2].set_xticks([])\n",
    "    axes[1, 2].set_yticks([])\n",
    "    axes[1, 2].set_xticklabels([])\n",
    "    axes[1, 2].set_yticklabels([])\n",
    "    axes[1, 2].grid(False)\n",
    "    axes[1, 2].spines['top'].set_color('none')\n",
    "    axes[1, 2].spines['right'].set_color('none')\n",
    "    axes[1, 2].spines['left'].set_color('none')\n",
    "    axes[1, 2].spines['bottom'].set_color('none')\n",
    "    ########################################################################################################################\n",
    "    \n",
    "    ###################################################### axes[2, 0] ######################################################\n",
    "    x = np.linspace(0, 1, 40000)\n",
    "    y_1 = -1433.21608677966*x**2 + 1910.95478237288*x - 477.73869559322\n",
    "    y_2 = x-x\n",
    "    axes[2, 0].plot(x, y_1, color='#D93831', linewidth = 1.5)\n",
    "    axes[2, 0].plot(x, y_2, color='#2A4EA3', linewidth = 1.5)\n",
    "    \n",
    "    axes[2, 0].set_xlim(-0.1, 1.1)\n",
    "    axes[2, 0].set_ylim(-488, 170)\n",
    "    \n",
    "    axes[2, 0].text(-0.075, 157, 'g', fontsize=12, fontname='Arial', fontweight='bold', ha='center', va='center')\n",
    "    axes[2, 0].text(0, -53, '0', fontsize=12, fontname='Times New Roman', fontweight='bold', ha='center', va='center')\n",
    "    axes[2, 0].text(1, -53, '1', fontsize=12, fontname='Times New Roman', fontweight='bold', ha='center', va='center')\n",
    "    axes[2, 0].scatter(1/3, 0, s = 10, color='black', zorder = 5)\n",
    "    axes[2, 0].scatter(1, 0, s = 10, color='black', zorder = 6)\n",
    "    \n",
    "    axes[2, 0].set_xticks([])\n",
    "    axes[2, 0].set_yticks([])\n",
    "    axes[2, 0].set_xticklabels([])\n",
    "    axes[2, 0].set_yticklabels([])\n",
    "    axes[2, 0].grid(False)\n",
    "    axes[2, 0].spines['top'].set_color('none')\n",
    "    axes[2, 0].spines['right'].set_color('none')\n",
    "    axes[2, 0].spines['left'].set_color('none')\n",
    "    axes[2, 0].spines['bottom'].set_color('none')\n",
    "    ########################################################################################################################\n",
    "    \n",
    "    ###################################################### axes[2, 1] ######################################################\n",
    "    x = np.linspace(0, 1, 40000)\n",
    "    y_1 = -1113.04452122987*x**2 + 2032.55304245974*x - 645.261680819912\n",
    "    y_2 = x-x\n",
    "    axes[2, 1].plot(x, y_1, color='#D93831', linewidth = 1.5)\n",
    "    axes[2, 1].plot(x, y_2, color='#2A4EA3', linewidth = 1.5)\n",
    "    \n",
    "    axes[2, 1].set_xlim(-0.1, 1.1)\n",
    "    axes[2, 1].set_ylim(-656, 293)\n",
    "    \n",
    "    axes[2, 1].text(-0.075, 280, 'h', fontsize=12, fontname='Arial', fontweight='bold', ha='center', va='center')\n",
    "    axes[2, 1].text(0, -75, '0', fontsize=12, fontname='Times New Roman', fontweight='bold', ha='center', va='center')\n",
    "    axes[2, 1].text(1, -75, '1', fontsize=12, fontname='Times New Roman', fontweight='bold', ha='center', va='center')\n",
    "    axes[2, 1].scatter(0.409123613015897, 0, s = 10, color='black', zorder = 5)\n",
    "    \n",
    "    axes[2, 1].set_xticks([])\n",
    "    axes[2, 1].set_yticks([])\n",
    "    axes[2, 1].set_xticklabels([])\n",
    "    axes[2, 1].set_yticklabels([])\n",
    "    axes[2, 1].grid(False)\n",
    "    axes[2, 1].spines['top'].set_color('none')\n",
    "    axes[2, 1].spines['right'].set_color('none')\n",
    "    axes[2, 1].spines['left'].set_color('none')\n",
    "    axes[2, 1].spines['bottom'].set_color('none')\n",
    "    ########################################################################################################################\n",
    "    \n",
    "    ###################################################### axes[2, 2] ######################################################\n",
    "    x = np.linspace(0, 1, 40000)\n",
    "    y_1 = -967.821680819912*x**2 + 2087.70736163982*x - 721.246453879941\n",
    "    y_2 = x-x\n",
    "    axes[2, 2].plot(x, y_1, color='#D93831', linewidth = 1.5)\n",
    "    axes[2, 2].plot(x, y_2, color='#2A4EA3', linewidth = 1.5)\n",
    "    \n",
    "    axes[2, 2].set_xlim(-0.1, 1.1)\n",
    "    axes[2, 2].set_ylim(-732, 409)\n",
    "    \n",
    "    axes[2, 2].text(-0.075, 402, 'i', fontsize=12, fontname='Arial', fontweight='bold', ha='center', va='center')\n",
    "    axes[2, 2].text(0, -90, '0', fontsize=12, fontname='Times New Roman', fontweight='bold', ha='center', va='center')\n",
    "    axes[2, 2].text(1, -90, '1', fontsize=12, fontname='Times New Roman', fontweight='bold', ha='center', va='center')\n",
    "    axes[2, 2].scatter(0.431980525420346, 0, s = 10, color='black', zorder = 5)\n",
    "    \n",
    "    axes[2, 2].set_xticks([])\n",
    "    axes[2, 2].set_yticks([])\n",
    "    axes[2, 2].set_xticklabels([])\n",
    "    axes[2, 2].set_yticklabels([])\n",
    "    axes[2, 2].grid(False)\n",
    "    axes[2, 2].spines['top'].set_color('none')\n",
    "    axes[2, 2].spines['right'].set_color('none')\n",
    "    axes[2, 2].spines['left'].set_color('none')\n",
    "    axes[2, 2].spines['bottom'].set_color('none')\n",
    "    ########################################################################################################################\n",
    "    \n",
    "    ###################################################### axes[3, 0] ######################################################\n",
    "    x = np.linspace(0, 1, 40000)\n",
    "    y_1 = 2455.27726829268*x - 1227.63863414634\n",
    "    y_2 = x-x\n",
    "    axes[3, 0].plot(x, y_1, color='#D93831', linewidth = 1.5)\n",
    "    axes[3, 0].plot(x, y_2, color='#2A4EA3', linewidth = 1.5)\n",
    "    \n",
    "    axes[3, 0].set_xlim(-0.1, 1.1)\n",
    "    axes[3, 0].set_ylim(-1298, 1298)\n",
    "    \n",
    "    axes[3, 0].text(-0.075, 1270, 'j', fontsize=12, fontname='Arial', fontweight='bold', ha='center', va='center')\n",
    "    axes[3, 0].text(0, -200, '0', fontsize=12, fontname='Times New Roman', fontweight='bold', ha='center', va='center')\n",
    "    axes[3, 0].text(1, -200, '1', fontsize=12, fontname='Times New Roman', fontweight='bold', ha='center', va='center')\n",
    "    axes[3, 0].scatter(0.5, 0, s = 10, color='black', zorder = 5)\n",
    "    \n",
    "    axes[3, 0].set_xticks([])\n",
    "    axes[3, 0].set_yticks([])\n",
    "    axes[3, 0].set_xticklabels([])\n",
    "    axes[3, 0].set_yticklabels([])\n",
    "    axes[3, 0].grid(False)\n",
    "    axes[3, 0].spines['top'].set_color('none')\n",
    "    axes[3, 0].spines['right'].set_color('none')\n",
    "    axes[3, 0].spines['left'].set_color('none')\n",
    "    axes[3, 0].spines['bottom'].set_color('none')\n",
    "    ########################################################################################################################\n",
    "    \n",
    "    ###################################################### axes[3, 1] ######################################################\n",
    "    x = np.linspace(0, 1, 40000)\n",
    "    y_1 = 5273.856*x**2 + 4458.24*x - 3987.072\n",
    "    y_2 = x-x\n",
    "    axes[3, 1].plot(x, y_1, color='#D93831', linewidth = 1.5)\n",
    "    axes[3, 1].plot(x, y_2, color='#2A4EA3', linewidth = 1.5)\n",
    "    \n",
    "    axes[3, 1].set_xlim(-0.1, 1.1)\n",
    "    axes[3, 1].set_ylim(-4208, 5966)\n",
    "    \n",
    "    axes[3, 1].text(-0.075, 5900, 'k', fontsize=12, fontname='Arial', fontweight='bold', ha='center', va='center')\n",
    "    axes[3, 1].text(0, -800, '0', fontsize=12, fontname='Times New Roman', fontweight='bold', ha='center', va='center')\n",
    "    axes[3, 1].text(1, -800, '1', fontsize=12, fontname='Times New Roman', fontweight='bold', ha='center', va='center')\n",
    "    axes[3, 1].scatter(0.544104503018486, 0, s = 10, color='black', zorder = 5)\n",
    "    \n",
    "    axes[3, 1].set_xticks([])\n",
    "    axes[3, 1].set_yticks([])\n",
    "    axes[3, 1].set_xticklabels([])\n",
    "    axes[3, 1].set_yticklabels([])\n",
    "    axes[3, 1].grid(False)\n",
    "    axes[3, 1].spines['top'].set_color('none')\n",
    "    axes[3, 1].spines['right'].set_color('none')\n",
    "    axes[3, 1].spines['left'].set_color('none')\n",
    "    axes[3, 1].spines['bottom'].set_color('none')\n",
    "    ########################################################################################################################\n",
    "        \n",
    "    ###################################################### axes[3, 2] ######################################################\n",
    "    axes[3, 2].set_xlim(-2, 2.7)\n",
    "    axes[3, 2].set_ylim(-2, 2)\n",
    "    axes[3, 2].annotate('',\n",
    "                        xy=(-0.7, 1.7), xycoords='data',\n",
    "                        xytext=(-0.7, -1.3), textcoords='data',\n",
    "                        arrowprops=dict(edgecolor='black', facecolor='black', shrink=0, headwidth=5, width=0.3))\n",
    "    axes[3, 2].annotate('',\n",
    "                        xy=(1.5, -1.3), xycoords='data',\n",
    "                        xytext=(-0.7, -1.3), textcoords='data',\n",
    "                        arrowprops=dict(edgecolor='black', facecolor='black', shrink=0, headwidth=5, width=0.3))\n",
    "    axes[3, 2].text(-0.85, -1.5, '0', fontsize=13, fontname='Times New Roman', fontweight='bold', ha='center', va='center')\n",
    "    axes[3, 2].text(1.6, -1.5, 'x', fontsize=13, fontname='Times New Roman', fontweight='bold', fontstyle='italic',\n",
    "                    ha='center', va='center')\n",
    "    axes[3, 2].text(-0.85, 1.9, 'y', fontsize=13, fontname='Times New Roman', fontweight='bold', fontstyle='italic',\n",
    "                    ha='center', va='center')\n",
    "    axes[3, 2].grid(False)\n",
    "    axes[3, 2].set_xticks([])\n",
    "    axes[3, 2].set_yticks([])\n",
    "    axes[3, 2].spines['right'].set_color('none')\n",
    "    axes[3, 2].spines['top'].set_color('none')\n",
    "    axes[3, 2].spines['left'].set_color('none')\n",
    "    axes[3, 2].spines['bottom'].set_color('none')\n",
    "    ########################################################################################################################\n",
    "    \n",
    "    # save the figure\n",
    "    # plt.savefig('Feng2012_FIG_S2.png', format='png', dpi = 900)\n",
    "    \n",
    "    plt.show()"
   ]
  },
  {
   "cell_type": "markdown",
   "id": "54f67f6f-047c-4e9e-804c-fc1d9a6aa727",
   "metadata": {},
   "source": [
    "#### Figure"
   ]
  },
  {
   "cell_type": "code",
   "execution_count": 153,
   "id": "c46b388e-0bfb-4916-ae45-4e36712c4815",
   "metadata": {},
   "outputs": [
    {
     "data": {
      "image/png": "[encoded data removed]",
      "text/plain": [
       "<Figure size 1300x1000 with 12 Axes>"
      ]
     },
     "metadata": {},
     "output_type": "display_data"
    }
   ],
   "source": [
    "paint_S2()"
   ]
  }
 ],
 "metadata": {
  "kernelspec": {
   "display_name": "Python 3 (ipykernel)",
   "language": "python",
   "name": "python3"
  },
  "language_info": {
   "codemirror_mode": {
    "name": "ipython",
    "version": 3
   },
   "file_extension": ".py",
   "mimetype": "text/x-python",
   "name": "python",
   "nbconvert_exporter": "python",
   "pygments_lexer": "ipython3",
   "version": "3.11.7"
  }
 },
 "nbformat": 4,
 "nbformat_minor": 5
}
